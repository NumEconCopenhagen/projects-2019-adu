{
 "cells": [
  {
   "cell_type": "markdown",
   "metadata": {
    "toc-hr-collapsed": false
   },
   "source": [
    "# The Solow Model\n",
    "This project will solve The Solow Model which explains long-run economic growth. First the basic Solow model for a closed economy is analyzed. The Solow Diagram and the convergence of capital and GDP is plotted. Then the model is extended with technological growth.\n",
    "\n",
    "## The Basic Solow Model\n",
    "The equations of the Solow model without any extensions are as follows:\n",
    "\n",
    "1. $ Y_t = BK^\\alpha_tL_t^{1-\\alpha}, \\quad 0<\\alpha<1 $\n",
    "\n",
    "2. $ K_{t+1} = (1-\\delta)K_t+S_t, \\quad 0<\\delta<1 \\; and \\; K_0 \\; \\text{is given} $\n",
    "\n",
    "3. $ S_t = sY_t, \\quad 0<s<1 $\n",
    "\n",
    "4. $ L_{t+1} = (1+n)L_t, \\quad L_0 \\text{ given} $\n",
    "\n",
    "Equation 1. is a Cobb-Douglas production function where $K_t$ is capital, $L_t$ is labor and $B$ is the total factor productivity.  \n",
    "Equation 2. describes how the capital is accumulated from period $t$ to $t+1$.  \n",
    "Equation 3. describes the savings in the economy. Each household saves a fraction $s$ out of the income.  \n",
    "Equation 4. describes the labor force growth from period $t$ to $t+1$ where $n$ is the population growht.  \n",
    "\n",
    "\n",
    "**The Transition Equation**  \n",
    "The transition equation for $k_t$ is\n",
    "\n",
    "$ k_{t+1} = \\dfrac{1}{1+n} (sBk_t^\\alpha + (1-\\delta)k_t) $  \n",
    "\n",
    "by subtracting $k_t$ on both sides we get the Solow equation  \n",
    "\n",
    "$ k_{t+1} - k_t = \\dfrac{1}{1+n} (sBk_t^\\alpha - (n+g)k_t) $  \n",
    "\n",
    "**Steady State**  \n",
    "Plugging in $k^*=k_t=k_{t+1}$ and isolating $k^*$ we get the equation for the capital steady state \n",
    "\n",
    "$ k^* = B^{\\frac{1}{1-\\alpha}} \\left( \\dfrac{s}{n+\\delta} \\right)^{\\frac{1}{1-\\alpha}} $  \n",
    "\n",
    "Plugging $k^*$ into the BNP per capita equation, $y_t =Bk_t^\\alpha$, we get the steady state for BNP/capita  \n",
    "\n",
    "$ y^* = B^{\\frac{1}{1-\\alpha}} \\left( \\dfrac{s}{n+\\delta} \\right)^{\\frac{\\alpha}{1-\\alpha}} $  \n",
    "\n",
    "\n"
   ]
  },
  {
   "cell_type": "markdown",
   "metadata": {
    "toc-hr-collapsed": false
   },
   "source": [
    "**Importing needed packages**"
   ]
  },
  {
   "cell_type": "code",
   "execution_count": 19,
   "metadata": {},
   "outputs": [],
   "source": [
    "import numpy as np\n",
    "import pandas as pd\n",
    "import sympy as sm\n",
    "import matplotlib.pyplot as plt\n",
    "import ipywidgets as widgets\n",
    "from ipywidgets import interactive, interact\n",
    "from scipy import linalg\n",
    "from scipy import optimize\n",
    "sm.init_printing(use_unicode=True) #for pretty printing"
   ]
  },
  {
   "cell_type": "markdown",
   "metadata": {},
   "source": [
    "**Defining Symbols**"
   ]
  },
  {
   "cell_type": "code",
   "execution_count": 20,
   "metadata": {},
   "outputs": [],
   "source": [
    "kt1 = sm.symbols('k_{t+1}')\n",
    "n = sm.symbols('n')\n",
    "s = sm.symbols('s')\n",
    "B = sm.symbols('B')\n",
    "kt = sm.symbols('k_t')\n",
    "alpha = sm.symbols('alpha')\n",
    "delta = sm.symbols('delta')\n",
    "L0 = sm.symbols('L_0')\n",
    "L = sm.symbols('L')\n",
    "K0 = sm.symbols('K_0')\n",
    "K = sm.symbols('K')\n",
    "yt = sm.symbols('y_t')"
   ]
  },
  {
   "cell_type": "markdown",
   "metadata": {},
   "source": [
    "**Defining Equations and Finding Steady State Expressions**"
   ]
  },
  {
   "cell_type": "code",
   "execution_count": 21,
   "metadata": {},
   "outputs": [
    {
     "name": "stdout",
     "output_type": "stream",
     "text": [
      "The steady states of k and y are\n"
     ]
    },
    {
     "data": {
      "image/png": "[encoded data removed]",
      "text/latex": [
       "$$\\left(\\frac{B s}{\\delta + n}\\right)^{- \\frac{1}{\\alpha - 1}}$$"
      ],
      "text/plain": [
       "        -1  \n",
       "       ─────\n",
       "       α - 1\n",
       "⎛ B⋅s ⎞     \n",
       "⎜─────⎟     \n",
       "⎝δ + n⎠     "
      ]
     },
     "metadata": {},
     "output_type": "display_data"
    },
    {
     "data": {
      "image/png": "[encoded data removed]",
      "text/latex": [
       "$$\\left [ B \\left(\\left(\\frac{B s}{\\delta + n}\\right)^{- \\frac{1}{\\alpha - 1}}\\right)^{\\alpha}\\right ]$$"
      ],
      "text/plain": [
       "⎡                α⎤\n",
       "⎢  ⎛        -1  ⎞ ⎥\n",
       "⎢  ⎜       ─────⎟ ⎥\n",
       "⎢  ⎜       α - 1⎟ ⎥\n",
       "⎢  ⎜⎛ B⋅s ⎞     ⎟ ⎥\n",
       "⎢B⋅⎜⎜─────⎟     ⎟ ⎥\n",
       "⎣  ⎝⎝δ + n⎠     ⎠ ⎦"
      ]
     },
     "metadata": {},
     "output_type": "display_data"
    }
   ],
   "source": [
    "# Transition Equation\n",
    "treq = sm.Eq((1/(1+n)*(s*B*kt**alpha+(1-delta)*kt)),kt1)\n",
    "sole = sm.Eq((1/(1+n)*(s*B*kt**alpha-(n+delta)*kt)))\n",
    "\n",
    "# Solving to get the steady state equations for k and y\n",
    "print('The steady states of k and y are')\n",
    "k = sm.solve(sole,kt)[0]\n",
    "display(k)\n",
    "\n",
    "cdp = sm.Eq(B*k**alpha,yt)\n",
    "y = sm.solve(cdp,yt)\n",
    "cdp\n",
    "display(y)\n"
   ]
  },
  {
   "cell_type": "markdown",
   "metadata": {},
   "source": [
    "**Defining parameters and solution**"
   ]
  },
  {
   "cell_type": "code",
   "execution_count": 22,
   "metadata": {},
   "outputs": [
    {
     "name": "stdout",
     "output_type": "stream",
     "text": [
      "For the chosen parameters, the steady state capital is 1.563 and the steady state value of GDP per capita is\n",
      "[1.1604596790352806]\n"
     ]
    }
   ],
   "source": [
    "# Making the SS-functions k and y into lambda functions that can be used to calculate numerical values\n",
    "ssk_sol = sm.lambdify((alpha,delta,s,B,n),k)\n",
    "ssy_sol = sm.lambdify((alpha,delta,s,B,n),y)\n",
    "\n",
    "# Defining parameter values\n",
    "alpha = 1/3\n",
    "delta = 0.05\n",
    "s = 0.101\n",
    "B = 1\n",
    "n = 0.025\n",
    "\n",
    "# Getting solution for defined parameters \n",
    "ssk_val = ssk_sol(alpha,delta,s,B,n) \n",
    "ssk_val\n",
    "ssy_val = ssy_sol(alpha,delta,s,B,n) \n",
    "\n",
    "# Printing result\n",
    "print(f'For the chosen parameters, the steady state capital is {ssk_val:.3f} and the steady state value of GDP per capita is')\n",
    "print(ssy_val)"
   ]
  },
  {
   "cell_type": "markdown",
   "metadata": {},
   "source": [
    "Thus, capital is about 56 percent higher and GDP per capita is 16 percent higher in steady state compared to the initial state."
   ]
  },
  {
   "cell_type": "markdown",
   "metadata": {},
   "source": [
    "## The Solow Diagram"
   ]
  },
  {
   "cell_type": "code",
   "execution_count": 23,
   "metadata": {},
   "outputs": [
    {
     "data": {
      "image/png": "[encoded data removed]",
      "text/plain": [
       "<Figure size 720x576 with 1 Axes>"
      ]
     },
     "metadata": {
      "needs_background": "light"
     },
     "output_type": "display_data"
    },
    {
     "data": {
      "application/vnd.jupyter.widget-view+json": {
       "model_id": "f8e5ab2e13054f49afffa970772e2d57",
       "version_major": 2,
       "version_minor": 0
      },
      "text/plain": [
       "interactive(children=(IntSlider(value=1, description='delta', max=3, min=-1), Output()), _dom_classes=('widget…"
      ]
     },
     "metadata": {},
     "output_type": "display_data"
    }
   ],
   "source": [
    "# Create model domain and empty array for values of K\n",
    "K_size = 50                    \n",
    "kt = np.arange(K_size)   \n",
    "\n",
    "# Parameters\n",
    "alpha = 1/3\n",
    "delta = 0.05\n",
    "s = 0.3\n",
    "B = 1\n",
    "n = 0.025\n",
    "\n",
    "# Defining CD-function\n",
    "def GDP(kt):   \n",
    "    y = B * (kt)**(alpha)       \n",
    "    return y\n",
    "\n",
    "# Defining equations for diagram\n",
    "y = GDP(kt)\n",
    "dep = (delta+n)*kt\n",
    "S = s*B*kt**alpha\n",
    "\n",
    "# Defining steady state expressions\n",
    "ssk = (B**(1/(1-alpha))*(s/(n+delta))**(1/(1-alpha)))\n",
    "ssy = (B**(1/(1-alpha))*(s/(n+delta))**(alpha/(1-alpha)))\n",
    "\n",
    "# Plotting the Solow Diagram \n",
    "y_max = np.max(y)\n",
    "v = [0, 20, 0, 1.75]\n",
    "\n",
    "fig, ax = plt.subplots(figsize=(10, 8))\n",
    "ax.plot(kt, dep, ls = '-', label=\"Depreciation\")\n",
    "ax.plot(kt, S, ls = '-', label=\"Savings\")\n",
    "ax.set(title=\"Solow Model\", xlabel=\"Capital Stock\")\n",
    "plt.text(18.4, 1.55,  r'$ (n+\\delta)k_t$')\n",
    "plt.text(19,.85, r'$sBk_t^\\alpha$')\n",
    "plt.axvline(x = ssk, ls = \"--\", color = 'k', label='SS')\n",
    "plt.legend(loc=2)\n",
    "plt.axis(v)\n",
    "interact(dep, delta=1)\n",
    "plt.show()\n",
    "\n",
    "\n",
    "def interactive_figure(n,delta,s,alpha):\n",
    "    \n",
    "    # a. calculations\n",
    "    y = GDP(kt)\n",
    "    dep = (delta+n)*kt\n",
    "    S = s*B*kt**alpha\n",
    "    \n",
    "    # b. figure\n",
    "    fig, ax = plt.subplots(figsize=(10, 8))\n",
    "    ax.plot(kt, dep, ls = '-', label=\"Depreciation\")\n",
    "    ax.plot(kt, S, ls = '-', label=\"Savings\")\n",
    "    ax.set(title=\"Solow Model\", xlabel=\"Capital Stock\")\n",
    "    plt.text(18.4, 1.55,  r'$ (n+\\delta)k_t$')\n",
    "    plt.text(19,.85, r'$sBk_t^\\alpha$')\n",
    "    plt.axvline(x = ssk, ls = \"--\", color = 'k', label='SS')\n",
    "    plt.legend(loc=2)\n",
    "    plt.axis(v)\n",
    "    \n",
    "    widgets.interact(interactive_figure,\n",
    "    n=widgets.FloatSlider(description=\"$n$\", min=0.1, max=5, step=0.05, value=2),\n",
    "    delta=widgets.FloatSlider(description=\"$\\delta$\", min=0.1, max=5, step=0.05, value=2),\n",
    "    s=widgets.FloatSlider(description=\"$s$\", min=0.1, max=5, step=0.05, value=2),\n",
    "    alpha=widgets.FloatSlider(description=\"$\\alpha$\", min=0.1, max=5, step=0.05, value=2),\n",
    ");\n",
    "    \n",
    "plt.show()\n",
    "\n"
   ]
  },
  {
   "cell_type": "markdown",
   "metadata": {},
   "source": [
    "## Plotting the convergence to Steady State  \n",
    "In the following the convergence of the values found in the previous section are plotted."
   ]
  },
  {
   "cell_type": "code",
   "execution_count": null,
   "metadata": {},
   "outputs": [],
   "source": [
    "# Defining parameters and arrays\n",
    "alpha = 1/3\n",
    "delta = 0.05\n",
    "s = 0.101\n",
    "B = 1\n",
    "n = 0.025\n",
    "K0 = 1\n",
    "L0 = 1\n",
    "K_size = 100\n",
    "kt = np.arange(K_size)   #creates array of size K_size - here 100\n",
    "Y_size = 100\n",
    "yt = np.arange(Y_size)\n",
    "\n",
    "# Defining starting point of function\n",
    "T = 100\n",
    "time = np.arange(T)\n",
    "k1 = np.zeros(T)\n",
    "y1 = np.zeros(T)\n",
    "\n",
    "ssk = (B**(1/(1-alpha))*(s/(n+delta))**(1/(1-alpha)))\n",
    "k1[0] = K0\n",
    "\n",
    "ssy = (B**(1/(1-alpha))*(s/(n+delta))**(alpha/(1-alpha)))\n",
    "y1[0] = L0\n",
    "\n",
    "# Plotting the functions in per capita terms\n",
    "# CD production function \n",
    "def GDP(kt):  \n",
    "    y = B * (kt)**(alpha)    \n",
    "    return y\n",
    "\n",
    "# The solow function\n",
    "def solow(kt):                  \n",
    "    Dk = (1/(1+delta))*(s *B*(kt)**(alpha) - (n + delta)*kt)    \n",
    "    return Dk\n",
    "                           \n",
    "Dk = solow(kt)\n",
    "kdelta1 = solow(k1[0]) \n",
    "\n",
    "### Plot convergence of capital and GDP\n",
    "for j in range(1, T):\n",
    "    k1[j] = k1[j-1] + s*GDP(k1[j-1]) - (delta + n)*k1[j-1]\n",
    "    y1[j] = B * k1[j-1]**alpha\n",
    "\n",
    "\n",
    "v = [0, T, 1, ssk*1.05]     \n",
    "fig, ax = plt.subplots(figsize=(10, 8))\n",
    "ax.plot(time, k1, label=\"$k_t$ convergence\"  , color='b', alpha = 1)\n",
    "ax.plot(time, y1, label=\"$y_t$ convergence\"  , color='r', alpha = 1)\n",
    "ax.set(title=\"Convergence of $k_t$ and $y_t$\", xlabel=r'$k$')\n",
    "plt.legend(loc=4)\n",
    "plt.axhline(y = ssk, ls = \":\", color = 'b', alpha = 0.7)\n",
    "plt.axhline(y = ssy, ls = \":\", color = 'r', alpha = 0.7)\n",
    "plt.axis(v)\n",
    "plt.xlabel('Time')\n",
    "plt.show()       \n",
    "                           "
   ]
  },
  {
   "cell_type": "markdown",
   "metadata": {},
   "source": [
    "## Solow Model with Technical Growth\n",
    "In the basic Solow we have no positive growth in the long run because of the diminishing marginal product of capital. This is not realistic compared to reality and thus the model is now extended with technical growth. The only difference is that the $B$ in the basic model is not constant anymore, it is replaced by $ A_t^{1-\\alpha}$ that grows with an exogenous growth rate, $g$. Thus, we have  \n",
    "    $A_{t+1}=(1+g)A_t$\n",
    "where $A_0$ is given. In this model we consider Harrod-neutral growth which means that the technological growth is labor augmenting - $Y_t = F(K_t,A_tL_t)$. The model is now\n",
    "1. $Y_t = K_t^\\alpha (A_tL_t)^{1-\\alpha}$\n",
    "\n",
    "2. $ K_{t+1} = (1-\\delta)K_t+S_t, \\quad 0<\\delta<1 \\; and \\; K_0 \\; \\text{is given} $\n",
    "\n",
    "3. $ S_t = sY_t, \\quad 0<s<1 $\n",
    "\n",
    "4. $ L_{t+1} = (1+n)L_t, \\quad L_0 \\text{ given} $\n",
    "\n",
    "5. $ A_{t+1}=(1+g)A_t, \\quad A_0 \\text{ given} $\n",
    "\n",
    "In the basic Solow we analyzed the model in $y_t$ and $k_t$ where we found that $y^*$ and $k^*$ were constant in steady state. If we did this here we would have a continuosly growing savings curve in terms of per capita due to the constantly growing $A_t$. Thus, the model with technological growth is analyzed in tilde-variables, which are defined as:  \n",
    "    $ \\tilde{k}_t = \\dfrac{K_t}{A_tL_t} = \\dfrac{k_t}{A_t} $  \n",
    "    $ \\tilde{y}_t = \\dfrac{Y_t}{A_tL_t} = \\dfrac{y_t}{A_t} $  \n",
    "    \n",
    "This gives us the physical capital and the GDP in per effective capita terms. Thus, capital and GDP are adjusted for technology and population. These terms turn out to be constant in steady state and we use them for solving the model. In reality they do not make much sense.\n",
    " \n",
    "**The Transition Equation**  \n",
    "The transition equation in this model is  \n",
    "\n",
    "$ \\tilde{k}_{t+1} = \\dfrac{1}{(1+n)(1+g)} (s\\tilde{k}_t^\\alpha + (1-\\delta)\\tilde{k}_t ) $\n",
    "\n",
    "**Solow Equation**  \n",
    "As before it is found by subtracting $\\tilde{k}_t$ on both sides of the transition equation\n",
    "\n",
    "$ \\tilde{k}_{t+1} - \\tilde{k}_{t}  = \\dfrac{1}{(1+n)(1+g)} [s\\tilde{k}_t^\\alpha - (n+g+\\delta+ng)\\tilde{k}_t ] $\n",
    "\n",
    "We can also get the modified Solow equation by dividing with $\\tilde{k}_{t}$ on both sides\n",
    "\n",
    "$ \\dfrac{\\tilde{k}_{t+1} - \\tilde{k}_{t}}{\\tilde{k}_{t}}  = \\dfrac{1}{(1+n)(1+g)} [s\\tilde{k}_t^{\\alpha-1} - (n+g+\\delta+ng)] $\n",
    "\n",
    "**Steady State**  \n",
    "The steady states in tilde-variables can be found by setting $\\tilde{k}_{t}=\\tilde{k}_{t+1}=\\tilde{k}^{*}$\n",
    "\n",
    "$ \\tilde{k}^{*} = \\left(\\dfrac{s}{n+g+\\delta+ng}\\right)^{\\frac{1}{1-\\alpha}} $\n",
    "\n",
    "inserting $\\tilde{k}^{*}$ in $\\tilde{y}_{t}=\\tilde{k}_{t}^\\alpha$ we also get the steady state for GDP per effective capita\n",
    "\n",
    "$ \\tilde{y}^{*} = \\left(\\dfrac{s}{n+g+\\delta+ng}\\right)^{\\frac{\\alpha}{1-\\alpha}} $"
   ]
  },
  {
   "cell_type": "code",
   "execution_count": null,
   "metadata": {},
   "outputs": [],
   "source": []
  },
  {
   "cell_type": "code",
   "execution_count": null,
   "metadata": {},
   "outputs": [],
   "source": [
    "\n",
    "\n"
   ]
  },
  {
   "cell_type": "code",
   "execution_count": null,
   "metadata": {},
   "outputs": [],
   "source": []
  },
  {
   "cell_type": "code",
   "execution_count": null,
   "metadata": {},
   "outputs": [],
   "source": []
  }
 ],
 "metadata": {
  "kernelspec": {
   "display_name": "Python 3",
   "language": "python",
   "name": "python3"
  },
  "language_info": {
   "codemirror_mode": {
    "name": "ipython",
    "version": 3
   },
   "file_extension": ".py",
   "mimetype": "text/x-python",
   "name": "python",
   "nbconvert_exporter": "python",
   "pygments_lexer": "ipython3",
   "version": "3.7.1"
  },
  "toc-autonumbering": false,
  "toc-showcode": false,
  "toc-showmarkdowntxt": true,
  "toc-showtags": false
 },
 "nbformat": 4,
 "nbformat_minor": 2
}
