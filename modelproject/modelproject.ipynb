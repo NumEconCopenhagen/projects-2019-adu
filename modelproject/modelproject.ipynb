{
 "cells": [
  {
   "cell_type": "markdown",
   "metadata": {},
   "source": [
    "# The Solow Model"
   ]
  },
  {
   "cell_type": "markdown",
   "metadata": {},
   "source": [
    "This project will solve The Solow Model which explains long-run economic growth. First the basic Solow model for a closed economy is analyzed and the it is extended by...  \n",
    "The equations of the Solow model without any extensions are as follows:\n",
    "\n",
    "**The Basic Solow Model**  \n",
    "1. $ Y_t = BK^\\alpha_tL_t^{1-\\alpha}, \\quad 0<\\alpha<1 $\n",
    "\n",
    "2. $ r_t = \\alpha B \\dfrac{K_t}{L_t}^{\\alpha-1} $\n",
    "\n",
    "3. $ w_t = (1-\\alpha)B \\dfrac{K_t}{L_t}^\\alpha $\n",
    "\n",
    "4. $ K_{t+1} = (1-\\delta)K_t+S_t, \\quad 0<\\delta<1 \\; and \\; K_0 \\; \\text{is given} $\n",
    "\n",
    "5. $ S_t = sY_t, \\quad 0<s<1 $\n",
    "\n",
    "6. $ L_{t+1} = (1+n)L_t, \\quad L_0 \\text{ given} $\n",
    "\n",
    "Equation 1. is a Cobb-Douglas production function where $K_t$ is capital, $L_t$ is labor and $B$ is the total factor productivity.  \n",
    "Equation 2. is the factor price of capital \n",
    "Equation 3. is the factor price of labor\n",
    "Equation 4. describes how the capital is accumulated from period $t$ to $t+1$.  \n",
    "Equation 5. describes the savings in the economy. Each household saves a fraction $s$ out of the income.  \n",
    "Equation 6. describes the labor force growth from period $t$ to $t+1$ where $n$ is the population growht.\n",
    "\n",
    "\n",
    "**The Transition Equation**  \n",
    "The transition equation for $k_t$ is\n",
    "\n",
    "$ k_{t+1} = \\dfrac{1}{1+n} (sBk_t^\\alpha + (1-\\delta)k_t) $  \n",
    "\n",
    "by subtracting $k_t$ on both sides we get the Solow equation  \n",
    "$ k_{t+1} - k_t = \\dfrac{1}{1+n} (sBk_t^\\alpha - (n+g)k_t) $  \n",
    "\n",
    "**Steady State**  \n",
    "Plugging in $k^*=k_t=k_{t+1}$ and isolating $k^*$ we get the equation for the capital steady state  \n",
    "$ k^* = B^{\\frac{1}{1-\\alpha}} \\left( \\dfrac{s}{n+\\delta} \\right)^{\\frac{1}{1-\\alpha}} $  \n",
    "\n",
    "Plugging $k^*$ into the BNP per capita equation, $y_t =Bk_t^\\alpha$, we get the steady state for BNP/capita  \n",
    "$ y^* = B^{\\frac{1}{1-\\alpha}} \\left( \\dfrac{s}{n+\\delta} \\right)^{\\frac{\\alpha}{1-\\alpha}} $  \n",
    "\n",
    "\n"
   ]
  },
  {
   "cell_type": "markdown",
   "metadata": {
    "toc-hr-collapsed": false
   },
   "source": [
    "### **Importing needed packages**"
   ]
  },
  {
   "cell_type": "code",
   "execution_count": 1,
   "metadata": {},
   "outputs": [],
   "source": [
    "import numpy as np\n",
    "import pandas as pd\n",
    "import sympy as sm\n",
    "import matplotlib.pyplot as plt\n",
    "from scipy import linalg\n",
    "from scipy import optimize\n",
    "sm.init_printing(use_unicode=True) #for pretty printing"
   ]
  },
  {
   "cell_type": "markdown",
   "metadata": {},
   "source": [
    "**Defining symbols**"
   ]
  },
  {
   "cell_type": "code",
   "execution_count": 2,
   "metadata": {},
   "outputs": [],
   "source": [
    "kt1 = sm.symbols('k_{t+1}')\n",
    "n = sm.symbols('n')\n",
    "s = sm.symbols('s')\n",
    "B = sm.symbols('B')\n",
    "kt = sm.symbols('k_t')\n",
    "alpha = sm.symbols('alpha')\n",
    "delta = sm.symbols('delta')\n",
    "L0 = sm.symbols('L_0')\n",
    "K0 = sm.symbols('K_0')\n",
    "yt = sm.symbols('y_t')"
   ]
  },
  {
   "cell_type": "markdown",
   "metadata": {},
   "source": [
    "**Defining equations**"
   ]
  },
  {
   "cell_type": "code",
   "execution_count": 3,
   "metadata": {},
   "outputs": [
    {
     "data": {
      "image/png": "[encoded data removed]",
      "text/latex": [
       "$$\\left [ B \\left(\\left(\\frac{B s}{\\delta + n}\\right)^{- \\frac{1}{\\alpha - 1}}\\right)^{\\alpha}\\right ]$$"
      ],
      "text/plain": [
       "⎡                α⎤\n",
       "⎢  ⎛        -1  ⎞ ⎥\n",
       "⎢  ⎜       ─────⎟ ⎥\n",
       "⎢  ⎜       α - 1⎟ ⎥\n",
       "⎢  ⎜⎛ B⋅s ⎞     ⎟ ⎥\n",
       "⎢B⋅⎜⎜─────⎟     ⎟ ⎥\n",
       "⎣  ⎝⎝δ + n⎠     ⎠ ⎦"
      ]
     },
     "execution_count": 3,
     "metadata": {},
     "output_type": "execute_result"
    }
   ],
   "source": [
    "# Transition Equation\n",
    "treq = sm.Eq((1/(1+n)*(s*B*kt**alpha+(1-delta)*kt)),kt1)\n",
    "sole = sm.Eq((1/(1+n)*(s*B*kt**alpha-(n+delta)*kt)))\n",
    "#ssk = sm.Eq(B**(1/(1-alpha))*(s/(n+delta))**(1/(1-alpha)),kt)\n",
    "#ssy = sm.Eq(B**(1/(1-alpha))*(s/(n+delta))**(alpha/(1-alpha)),yt)\n",
    "\n",
    "k = sm.solve(sole,kt)[0]\n",
    "k\n",
    "\n",
    "cdp = sm.Eq(B*k**alpha,yt)\n",
    "y = sm.solve(cdp,yt)\n",
    "cdp\n",
    "y\n"
   ]
  },
  {
   "cell_type": "markdown",
   "metadata": {},
   "source": [
    "**Defining parameters**"
   ]
  },
  {
   "cell_type": "code",
   "execution_count": 4,
   "metadata": {},
   "outputs": [
    {
     "name": "stdout",
     "output_type": "stream",
     "text": [
      "The steady state capital is 1.563 and the steady state value of GDP per capita is\n",
      "[1.1604596790352806]\n"
     ]
    }
   ],
   "source": [
    "# Getting solution for values \n",
    "ssk_sol = sm.lambdify((alpha,delta,s,B,n),k)\n",
    "ssy_sol = sm.lambdify((alpha,delta,s,B,n),y)\n",
    "\n",
    "alpha = 1/3\n",
    "delta = 0.05\n",
    "s = 0.101\n",
    "B = 1\n",
    "n = 0.025\n",
    "\n",
    "ssk_val = ssk_sol(alpha,delta,s,B,n) \n",
    "ssk_val\n",
    "ssy_val = ssy_sol(alpha,delta,s,B,n) \n",
    "\n",
    "print(f'The steady state capital is {ssk_val:.3f} and the steady state value of GDP per capita is')\n",
    "print(ssy_val)\n",
    "\n"
   ]
  },
  {
   "cell_type": "code",
   "execution_count": null,
   "metadata": {},
   "outputs": [],
   "source": []
  },
  {
   "cell_type": "code",
   "execution_count": null,
   "metadata": {},
   "outputs": [],
   "source": [
    "\n",
    "\n"
   ]
  },
  {
   "cell_type": "code",
   "execution_count": null,
   "metadata": {},
   "outputs": [],
   "source": []
  },
  {
   "cell_type": "code",
   "execution_count": null,
   "metadata": {},
   "outputs": [],
   "source": []
  }
 ],
 "metadata": {
  "kernelspec": {
   "display_name": "Python 3",
   "language": "python",
   "name": "python3"
  },
  "language_info": {
   "codemirror_mode": {
    "name": "ipython",
    "version": 3
   },
   "file_extension": ".py",
   "mimetype": "text/x-python",
   "name": "python",
   "nbconvert_exporter": "python",
   "pygments_lexer": "ipython3",
   "version": "3.7.1"
  }
 },
 "nbformat": 4,
 "nbformat_minor": 2
}
