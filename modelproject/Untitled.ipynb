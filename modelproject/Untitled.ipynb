{
 "cells": [
  {
   "cell_type": "code",
   "execution_count": 1,
   "metadata": {},
   "outputs": [],
   "source": [
    "import numpy as np\n",
    "import pandas as pd\n",
    "import sympy as sm\n",
    "import matplotlib.pyplot as plt\n",
    "import ipywidgets as widgets\n",
    "from ipywidgets import interactive, interact\n",
    "from scipy import linalg\n",
    "from scipy import optimize\n",
    "sm.init_printing(use_unicode=True) #for pretty printing"
   ]
  },
  {
   "cell_type": "code",
   "execution_count": 7,
   "metadata": {},
   "outputs": [
    {
     "data": {
      "text/plain": [
       "<function __main__.interactive_figure(n, delta, s, alpha)>"
      ]
     },
     "execution_count": 7,
     "metadata": {},
     "output_type": "execute_result"
    }
   ],
   "source": [
    "# Create model domain and empty array for values of K\n",
    "K_size = 50                    \n",
    "kt = np.arange(K_size)   \n",
    "\n",
    "# Parameters\n",
    "alpha = 1/3\n",
    "delta = 0.05\n",
    "s = 0.3\n",
    "B = 1\n",
    "n = 0.025\n",
    "\n",
    "# Defining CD-function\n",
    "def GDP(kt):   \n",
    "    y = B * (kt)**(alpha)       \n",
    "    return y\n",
    "\n",
    "# Defining equations for diagram\n",
    "y = GDP(kt)\n",
    "dep = (delta+n)*kt\n",
    "S = s*B*kt**alpha\n",
    "\n",
    "# Defining steady state expressions\n",
    "ssk = (B**(1/(1-alpha))*(s/(n+delta))**(1/(1-alpha)))\n",
    "ssy = (B**(1/(1-alpha))*(s/(n+delta))**(alpha/(1-alpha)))\n",
    "\n",
    "# Plotting the Solow Diagram \n",
    "y_max = np.max(y)\n",
    "v = [0, 20, 0, 1.75]\n",
    "\n",
    "\n",
    "fig, ax = plt.subplots(figsize=(10, 8))\n",
    "ax.plot(kt, dep, ls = '-', label=\"Depreciation\")\n",
    "ax.plot(kt, S, ls = '-', label=\"Savings\")\n",
    "ax.set(title=\"Solow Model\", xlabel=\"Capital Stock\")\n",
    "plt.text(18.4, 1.55,  r'$ (n+\\delta)k_t$')\n",
    "plt.text(19,.85, r'$sBk_t^\\alpha$')\n",
    "plt.axvline(x = ssk, ls = \"--\", color = 'k', label='SS')\n",
    "plt.legend(loc=2)\n",
    "plt.axis(v)\n",
    "plt.show()\n",
    "\n",
    "    \n",
    "    \n",
    "\n",
    "\n",
    "\n",
    "\n"
   ]
  },
  {
   "cell_type": "code",
   "execution_count": null,
   "metadata": {},
   "outputs": [],
   "source": []
  }
 ],
 "metadata": {
  "kernelspec": {
   "display_name": "Python 3",
   "language": "python",
   "name": "python3"
  },
  "language_info": {
   "codemirror_mode": {
    "name": "ipython",
    "version": 3
   },
   "file_extension": ".py",
   "mimetype": "text/x-python",
   "name": "python",
   "nbconvert_exporter": "python",
   "pygments_lexer": "ipython3",
   "version": "3.7.1"
  }
 },
 "nbformat": 4,
 "nbformat_minor": 2
}
