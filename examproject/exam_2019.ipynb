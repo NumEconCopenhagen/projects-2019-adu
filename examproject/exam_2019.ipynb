{
 "cells": [
  {
   "cell_type": "code",
   "execution_count": 1,
   "metadata": {},
   "outputs": [],
   "source": [
    "import numpy as np\n",
    "\n",
    "%matplotlib inline\n",
    "from matplotlib import cm\n",
    "import matplotlib.pyplot as plt\n",
    "from mpl_toolkits.mplot3d import Axes3D\n",
    "from matplotlib.ticker import LinearLocator, FormatStrFormatter\n",
    "\n",
    "import scipy as sp\n",
    "from scipy import linalg\n",
    "from scipy import optimize\n",
    "from scipy import interpolate\n",
    "import sympy as sm\n",
    "import seaborn as sns\n",
    "import ipywidgets as widgets\n",
    "\n",
    "# Below is for pretty printing\n",
    "sm.init_printing(use_unicode=True) "
   ]
  },
  {
   "cell_type": "markdown",
   "metadata": {
    "toc-hr-collapsed": false
   },
   "source": [
    "# 1. Human capital accumulation"
   ]
  },
  {
   "cell_type": "markdown",
   "metadata": {},
   "source": [
    "Consider a worker living in **two periods**, $t \\in \\{1,2\\}$. \n",
    "\n",
    "In each period she decides whether to **work ($l_t = 1$) or not ($l_t = 0$)**. \n",
    "\n",
    "She can *not* borrow or save and thus **consumes all of her income** in each period. "
   ]
  },
  {
   "cell_type": "markdown",
   "metadata": {},
   "source": [
    "If she **works** her **consumption** becomes:\n",
    "\n",
    "$$c_t = w h_t l_t\\,\\,\\text{if}\\,\\,l_t=1$$\n",
    "\n",
    "where $w$ is **the wage rate** and $h_t$ is her **human capital**. \n",
    "\n",
    "If she does **not work** her consumption becomes:\n",
    "\n",
    "$$c_t = b\\,\\,\\text{if}\\,\\,l_t=0$$\n",
    "\n",
    "where $b$ is the **unemployment benefits**."
   ]
  },
  {
   "cell_type": "markdown",
   "metadata": {},
   "source": [
    "Her **utility of consumption** is: \n",
    "\n",
    "$$ \\frac{c_t^{1-\\rho}}{1-\\rho} $$\n",
    "\n",
    "Her **disutility of working** is:\n",
    "\n",
    "$$ \\gamma l_t $$"
   ]
  },
  {
   "cell_type": "markdown",
   "metadata": {},
   "source": [
    "From period 1 to period 2, she **accumulates human capital** according to:\n",
    "\n",
    "$$ h_2 = h_1 + l_1 + \n",
    "\\begin{cases}\n",
    "0 & \\text{with prob. }0.5 \\\\\n",
    "\\Delta & \\text{with prob. }0.5 \n",
    "\\end{cases} \\\\\n",
    "$$\n",
    "\n",
    "where $\\Delta$ is a **stochastic experience gain**."
   ]
  },
  {
   "cell_type": "markdown",
   "metadata": {},
   "source": [
    "In the **second period** the worker thus solves:\n",
    "\n",
    "$$\n",
    "\\begin{eqnarray*}\n",
    "v_{2}(h_{2}) & = &\\max_{l_{2}} \\frac{c_2^{1-\\rho}}{1-\\rho} - \\gamma l_2\n",
    "\\\\ & \\text{s.t.} & \\\\\n",
    "c_{2}& = & \\begin{cases}\n",
    "w h_2 & \n",
    "\\text{if }l_2 = 1  \\\\\n",
    "b & \\text{if }l_2 = 0 \n",
    "\\end{cases} \\\\\n",
    "l_{2}& \\in &\\{0,1\\}\n",
    "\\end{eqnarray*}\n",
    "$$"
   ]
  },
  {
   "cell_type": "markdown",
   "metadata": {},
   "source": [
    "In the **first period** the worker thus solves:\n",
    "\n",
    "$$\n",
    "\\begin{eqnarray*}\n",
    "v_{1}(h_{1}) &=& \\max_{l_{1}} \\frac{c_1^{1-\\rho}}{1-\\rho} - \\gamma l_1 + \\beta\\mathbb{E}_{1}\\left[v_2(h_2)\\right]\n",
    "\\\\ & \\text{s.t.} & \\\\\n",
    "c_{1}& = & \\begin{cases}\n",
    "w h_1 & \n",
    "\\text{if }l_1 = 1  \\\\\n",
    "b & \\text{if }l_1 = 0 \n",
    "\\end{cases} \\\\\n",
    "h_2 &=& h_1 + l_1 + \\begin{cases}\n",
    "0 & \\text{with prob. }0.5\\\\\n",
    "\\Delta & \\text{with prob. }0.5 \n",
    "\\end{cases}\\\\\n",
    "l_{1} &\\in& \\{0,1\\}\\\\\n",
    "\\end{eqnarray*}\n",
    "$$\n",
    "\n",
    "where $\\beta$ is the **discount factor** and $\\mathbb{E}_{1}\\left[v_2(h_2)\\right]$ is the **expected value of living in period two**."
   ]
  },
  {
   "cell_type": "markdown",
   "metadata": {},
   "source": [
    "The **parameters** of the model are:"
   ]
  },
  {
   "cell_type": "code",
   "execution_count": null,
   "metadata": {},
   "outputs": [],
   "source": [
    "rho = 2\n",
    "beta = 0.96\n",
    "gamma = 0.1\n",
    "w = 2\n",
    "b = 1\n",
    "Delta = 0.1"
   ]
  },
  {
   "cell_type": "markdown",
   "metadata": {},
   "source": [
    "The **relevant levels of human capital** are:"
   ]
  },
  {
   "cell_type": "code",
   "execution_count": null,
   "metadata": {},
   "outputs": [],
   "source": [
    "h_vec = np.linspace(0.1,1.5,100) "
   ]
  },
  {
   "cell_type": "markdown",
   "metadata": {},
   "source": [
    "## Question 1\n",
    "First the needed functions are defined below:"
   ]
  },
  {
   "cell_type": "code",
   "execution_count": null,
   "metadata": {},
   "outputs": [],
   "source": [
    "# Consumption function for both outcomes of l_t\n",
    "def con(w,h,l,b):\n",
    "    if l==1:\n",
    "        con = w*h*l\n",
    "    else:\n",
    "        con = b\n",
    "    return con\n",
    "   \n",
    "# Utility of consumption\n",
    "def utility(con,rho):\n",
    "    return (con**(1-rho))/(1-rho)\n",
    "\n",
    "# Disutility of working\n",
    "def disutility(gamma,l):\n",
    "    return gamma*l\n",
    "\n",
    "# Model in period 2\n",
    "def v2(l2,b,rho,gamma,w,h2):\n",
    "    return utility(con(w,h2,l2,b),rho) - disutility(gamma,l2)\n",
    "    \n",
    "# Model in period 1\n",
    "def v1(l1,b,rho,gamma,w,h1,Delta,beta,v2_interp):\n",
    "     \n",
    "    # v2 with NO accumulation\n",
    "    h2_NA = h1 + l1\n",
    "    v2_NA = v2_interp([h2_NA])[0]\n",
    "    \n",
    "    # v2 if there is accumulation\n",
    "    h2_A = h1 + l1 + Delta\n",
    "    v2_A = v2_interp([h2_A])[0]\n",
    "    \n",
    "    # expected value of v2\n",
    "    v2 = 0.5*v2_A + 0.5*v2_NA\n",
    "    \n",
    "    # Now we can return v1    \n",
    "    return utility(con(w,h1,l1,b),rho) - disutility(gamma,l1) + beta*v2\n",
    "    \n",
    "    "
   ]
  },
  {
   "cell_type": "markdown",
   "metadata": {},
   "source": [
    "#### **Question 1.1:** Solve the model in period 2 and illustrate the solution (including labor supply as a function of human capital)."
   ]
  },
  {
   "cell_type": "code",
   "execution_count": null,
   "metadata": {},
   "outputs": [],
   "source": [
    "# A function to solve the model in period 2 is defined\n",
    "def solve_p2(rho,gamma,w,b, Delta):\n",
    "    \n",
    "    # a. defining grids \n",
    "    v2_vec = np.empty(100)\n",
    "    l2_vec = np.empty(100)\n",
    "    \n",
    "    # b. solve for h\n",
    "    for i,h2 in enumerate(h_vec):\n",
    "        # if the utility of working < not working => you do not work, l2=0\n",
    "        if v2(0,b,rho,gamma,w,h2) > v2(1,b,rho,gamma,w,h2):\n",
    "            l2_vec[i] = 0\n",
    "        # if opposite is true => you work, l2=1\n",
    "        else:\n",
    "            l2_vec[i] = 1\n",
    "            \n",
    "        v2_vec[i] = v2(l2_vec[i],b,rho,gamma,w,h2)\n",
    "        \n",
    "    return l2_vec, v2_vec\n",
    "    \n",
    "# Use above function to get the solution for period 2\n",
    "l2_vec, v2_vec = solve_p2(rho,gamma,w,b, Delta)\n",
    "\n",
    "# Plotting labor supply as a function of human capital\n",
    "fig1 = plt.figure(figsize=(11,8))\n",
    "ax = fig1.add_subplot(1,1,1)\n",
    "ax.plot(h_vec,l2_vec, color='green')\n",
    "\n",
    "# Customizing plot\n",
    "ax.set_xlabel('Human Capital, $h_2$', fontsize=12)\n",
    "ax.set_ylabel('Labor Supply, $l_2$', fontsize=12)\n",
    "ax.set_title('Figure 1.1: Labor Supply ($l_2$) as a function of human capital ($h_2$) in Period 2', fontsize=17, fontweight='bold')\n",
    "ax.grid(linestyle='--', linewidth=.8)\n",
    "plt.xticks(np.linspace(0,1.5,16))\n",
    "plt.show()"
   ]
  },
  {
   "cell_type": "markdown",
   "metadata": {},
   "source": [
    "Now we want to find the exact level of human capital where the worker chooses to work."
   ]
  },
  {
   "cell_type": "code",
   "execution_count": null,
   "metadata": {},
   "outputs": [],
   "source": [
    "# Below we find the value when l2 goes from 0 to 1. It finds the index, which is then inserted in the h_vec to find the value\n",
    "ind = np.nonzero(l2_vec == 1)[0][0]\n",
    "change = h_vec[ind]\n",
    "\n",
    "# Below is used to print text in bold\n",
    "BOLD = '\\033[1m'\n",
    "END = '\\033[0m'\n",
    "\n",
    "print('Amount of human capital required for worker to choose working in period 2 is a level greater or equal to ' + BOLD + str(round(change,4)) + END + '.')"
   ]
  },
  {
   "cell_type": "markdown",
   "metadata": {},
   "source": [
    "#### **Question 1.2:** Solve the model in period 1 and illustrate the solution (including labor supply as a function of human capital)"
   ]
  },
  {
   "cell_type": "markdown",
   "metadata": {},
   "source": [
    "The interpolated function, v2_interp, defines the expected utility of period 2, namely the term $E_1[v_2(h_2)]$."
   ]
  },
  {
   "cell_type": "code",
   "execution_count": null,
   "metadata": {},
   "outputs": [],
   "source": [
    "# a. interpolate utility from period 2\n",
    "v2_interp = interpolate.RegularGridInterpolator([h_vec], v2_vec, bounds_error=False, fill_value=None)\n",
    "\n",
    "# b. create functionto solve problem in period 1\n",
    "def solve_p1(w, b, rho, gamma, Delta, beta, v2_interp):\n",
    "    \n",
    "    # i. define grids\n",
    "    v1_vec = np.empty(100)\n",
    "    l1_vec = np.empty(100, dtype=int)\n",
    "    \n",
    "    # ii. solve for each h in grid\n",
    "    for i, h1 in enumerate(h_vec):\n",
    "       \n",
    "        # 1. compare v1 for l1 = 0 and l1 = 1 and return the l1 that maximizes v1\n",
    "        if v1(0,b,rho,gamma,w,h1,Delta,beta,v2_interp) > v1(1,b,rho,gamma,w,h1,Delta,beta,v2_interp):\n",
    "            l1_vec[i] = 0\n",
    "        else:\n",
    "            l1_vec[i] = 1\n",
    "        \n",
    "        # 2. append the v1 value from the optimized l1\n",
    "        v1_vec[i] = v1(l1_vec[i],b,rho,gamma,w,h1,Delta,beta,v2_interp)\n",
    "               \n",
    "    return v1_vec, l1_vec\n",
    "\n",
    "v1_vec, l1_vec = solve_p1(w, b, rho, gamma, Delta, beta, v2_interp)\n",
    "\n",
    "# Plotting labor supply as a function of human capital\n",
    "fig2 = plt.figure(figsize=(11,8))\n",
    "ax = fig2.add_subplot(1,1,1)\n",
    "ax.plot(h_vec,l1_vec, color='green')\n",
    "\n",
    "# Customizing plot\n",
    "ax.set_xlabel('Human Capital, $h_1$', fontsize=12)\n",
    "ax.set_ylabel('Labor Supply, $l_1$', fontsize=12)\n",
    "ax.set_title('Figure 1.2: Labor Supply ($l_1$) as a function of human capital ($h_2$) in Period 2', fontsize=17, fontweight='bold')\n",
    "ax.grid(linestyle='--', linewidth=.8)\n",
    "plt.xticks(np.linspace(0,1.5,16))\n",
    "plt.show()"
   ]
  },
  {
   "cell_type": "code",
   "execution_count": null,
   "metadata": {},
   "outputs": [],
   "source": [
    "# Below we find the value when l2 goes from 0 to 1. It finds the index, which is then inserted in the h_vec to find the value\n",
    "ind = np.nonzero(l1_vec == 1)[0][0]\n",
    "change = h_vec[ind]\n",
    "\n",
    "# Below is used to print text in bold\n",
    "BOLD = '\\033[1m'\n",
    "END = '\\033[0m'\n",
    "\n",
    "print('Amount of human capital required for worker to choose working in period 1 is a level greater or equal to ' + BOLD + str(round(change,4)) + END + '.')"
   ]
  },
  {
   "cell_type": "markdown",
   "metadata": {},
   "source": [
    "#### **Question 1.3:** Will the worker never work if her potential wage income is lower than the unemployment benefits she can get? Explain and illustrate why or why not. "
   ]
  },
  {
   "cell_type": "markdown",
   "metadata": {},
   "source": [
    "To explore whether our worker will work at a wage level lower than the unemployment benefit, $b$, we need to explore our workers utility at different wage levels. For this purpose a vector of different wages ranging from zero to the unemployment benefit of 1."
   ]
  },
  {
   "cell_type": "code",
   "execution_count": null,
   "metadata": {},
   "outputs": [],
   "source": [
    "# Wage vector\n",
    "w = np.linspace(0,1,100)\n",
    "\n",
    "def solve_w(rho,gamma,w,b, Delta):\n",
    "    \n",
    "    # a. defining grids \n",
    "    v_vec = np.empty(100)\n",
    "    w_vec = np.empty(100)\n",
    "    \n",
    "    # b. solve for h\n",
    "    for i,h2 in enumerate(h_vec):\n",
    "        # if the utility of working < not working => you do not work, l2=0\n",
    "        if v2(0,b,rho,gamma,w,h2) > v2(1,b,rho,gamma,w,h2):\n",
    "            l2_vec[i] = 0\n",
    "        # if opposite is true => you work, l2=1\n",
    "        else:\n",
    "            l2_vec[i] = 1\n",
    "            \n",
    "        v2_vec[i] = v2(l2_vec[i],b,rho,gamma,w,h2)\n",
    "        \n",
    "    return l2_vec, v2_vec"
   ]
  },
  {
   "cell_type": "markdown",
   "metadata": {
    "toc-hr-collapsed": false
   },
   "source": [
    "# 2. AS-AD model"
   ]
  },
  {
   "cell_type": "markdown",
   "metadata": {},
   "source": [
    "Consider the following **AS-AD model**. The **goods market equilibrium** is given by\n",
    "\n",
    "$$ y_{t} = -\\alpha r_{t} + v_{t} $$\n",
    "\n",
    "where $y_{t}$ is the **output gap**, $r_{t}$ is the **ex ante real interest** and $v_{t}$ is a **demand disturbance**. "
   ]
  },
  {
   "cell_type": "markdown",
   "metadata": {},
   "source": [
    "The central bank's **Taylor rule** is\n",
    "\n",
    "$$ i_{t} = \\pi_{t+1}^{e} + h \\pi_{t} + b y_{t}$$\n",
    "\n",
    "where $i_{t}$ is the **nominal interest rate**, $\\pi_{t}$ is the **inflation gap**, and $\\pi_{t+1}^{e}$ is the **expected inflation gap**. "
   ]
  },
  {
   "cell_type": "markdown",
   "metadata": {},
   "source": [
    "The **ex ante real interest rate** is given by \n",
    "\n",
    "$$ r_{t} = i_{t} - \\pi_{t+1}^{e} $$"
   ]
  },
  {
   "cell_type": "markdown",
   "metadata": {},
   "source": [
    "Together, the above implies that the **AD-curve** is\n",
    "\n",
    "$$ \\pi_{t} = \\frac{1}{h\\alpha}\\left[v_{t} - (1+b\\alpha)y_{t}\\right]$$"
   ]
  },
  {
   "cell_type": "markdown",
   "metadata": {},
   "source": [
    "Further, assume that the **short-run supply curve (SRAS)** is given by\n",
    "\n",
    "$$ \\pi_{t} = \\pi_{t}^{e} + \\gamma y_{t} + s_{t}$$\n",
    "\n",
    "where $s_t$ is a **supply disturbance**."
   ]
  },
  {
   "cell_type": "markdown",
   "metadata": {},
   "source": [
    "**Inflation expectations are adaptive** and given by\n",
    "\n",
    "$$ \\pi_{t}^{e} = \\phi\\pi_{t-1}^{e} + (1-\\phi)\\pi_{t-1}$$"
   ]
  },
  {
   "cell_type": "markdown",
   "metadata": {},
   "source": [
    "Together, this implies that the **SRAS-curve** can also be written as\n",
    "\n",
    "$$ \\pi_{t} = \\pi_{t-1} + \\gamma y_{t} - \\phi\\gamma y_{t-1} + s_{t} - \\phi s_{t-1} $$"
   ]
  },
  {
   "cell_type": "markdown",
   "metadata": {},
   "source": [
    "The **parameters** of the model are:"
   ]
  },
  {
   "cell_type": "code",
   "execution_count": 2,
   "metadata": {},
   "outputs": [],
   "source": [
    "par = {}\n",
    "\n",
    "par['alpha'] = 5.76\n",
    "par['h'] = 0.5\n",
    "par['b'] = 0.5\n",
    "par['phi'] = 0\n",
    "par['gamma'] = 0.075"
   ]
  },
  {
   "cell_type": "markdown",
   "metadata": {},
   "source": [
    "#### **Question 2.1:** Use the ``sympy`` module to solve for the equilibrium values of output, $y_t$, and inflation, $\\pi_t$, (where AD = SRAS) given the parameters ($\\alpha$, $h$, $b$, $\\alpha$, $\\gamma$) and $y_{t-1}$ , $\\pi_{t-1}$, $v_t$, $s_t$, and $s_{t-1}$."
   ]
  },
  {
   "cell_type": "markdown",
   "metadata": {},
   "source": [
    "First all the relevant symbols and functions are defined below:"
   ]
  },
  {
   "cell_type": "code",
   "execution_count": 4,
   "metadata": {},
   "outputs": [
    {
     "data": {
      "image/png": "[encoded data removed]",
      "text/latex": [
       "$$\\pi_{t} = \\frac{v_{t} - y_{t} \\left(\\alpha b + 1\\right)}{\\alpha h}$$"
      ],
      "text/plain": [
       "     vₜ - yₜ⋅(α⋅b + 1)\n",
       "πₜ = ─────────────────\n",
       "            α⋅h       "
      ]
     },
     "metadata": {},
     "output_type": "display_data"
    },
    {
     "data": {
      "image/png": "[encoded data removed]",
      "text/latex": [
       "$$\\pi_{t} = - \\gamma \\phi y_{t-1} + \\gamma y_{t} - \\phi s_{t-1} + \\pi_{t-1} + s_{t}$$"
      ],
      "text/plain": [
       "πₜ = -γ⋅φ⋅y_{t-1} + γ⋅yₜ - φ⋅s_{t-1} + πₜ₋₁ + sₜ"
      ]
     },
     "metadata": {},
     "output_type": "display_data"
    }
   ],
   "source": [
    "# Defining all symbols\n",
    "alpha = sm.symbols('alpha')\n",
    "h = sm.symbols('h')\n",
    "b = sm.symbols('b')\n",
    "phi = sm.symbols('phi')\n",
    "gamma = sm.symbols('gamma')\n",
    "\n",
    "v = sm.symbols('v_t')\n",
    "s = sm.symbols('s_t')\n",
    "s_lag = sm.symbols('s_{t-1}')\n",
    "pi = sm.symbols('pi_t')\n",
    "pi_lag = sm.symbols('pi_t-1')\n",
    "y = sm.symbols('y_t')\n",
    "y_lag = sm.symbols('y_{t-1}')\n",
    "\n",
    "# Functions\n",
    "AD = sm.Eq(pi,(1/(h*alpha)*(v-(1+b*alpha)*y)))\n",
    "display(AD)\n",
    "\n",
    "SRAS = sm.Eq(pi,pi_lag + gamma*y - phi*gamma*y_lag + s - phi*s_lag )\n",
    "display(SRAS)"
   ]
  },
  {
   "cell_type": "markdown",
   "metadata": {},
   "source": [
    "Now we make a function that set the above equations equal to each other:"
   ]
  },
  {
   "cell_type": "code",
   "execution_count": 7,
   "metadata": {},
   "outputs": [
    {
     "name": "stdout",
     "output_type": "stream",
     "text": [
      "The equations are set equal to each other which becomes:\n",
      "\n"
     ]
    },
    {
     "data": {
      "image/png": "[encoded data removed]",
      "text/latex": [
       "$$\\frac{v_{t} - y_{t} \\left(\\alpha b + 1\\right)}{\\alpha h} = - \\gamma \\phi y_{t-1} + \\gamma y_{t} - \\phi s_{t-1} + \\pi_{t-1} + s_{t}$$"
      ],
      "text/plain": [
       "vₜ - yₜ⋅(α⋅b + 1)                                              \n",
       "───────────────── = -γ⋅φ⋅y_{t-1} + γ⋅yₜ - φ⋅s_{t-1} + πₜ₋₁ + sₜ\n",
       "       α⋅h                                                     "
      ]
     },
     "metadata": {},
     "output_type": "display_data"
    }
   ],
   "source": [
    "# AD = SRAS\n",
    "ADSRAS = sm.Eq((1/(h*alpha)*(v-(1+b*alpha)*y)),pi_lag + gamma*y - phi*gamma*y_lag + s - phi*s_lag)\n",
    "print('The equations are set equal to each other which becomes:')\n",
    "print()\n",
    "display(ADSRAS)"
   ]
  },
  {
   "cell_type": "code",
   "execution_count": 8,
   "metadata": {},
   "outputs": [
    {
     "name": "stdout",
     "output_type": "stream",
     "text": [
      "The solution for y is:\n",
      "\n"
     ]
    },
    {
     "data": {
      "image/png": "[encoded data removed]",
      "text/latex": [
       "$$\\left [ \\frac{\\alpha \\gamma h \\phi y_{t-1} + \\alpha h \\phi s_{t-1} - \\alpha h \\pi_{t-1} - \\alpha h s_{t} + v_{t}}{\\alpha b + \\alpha \\gamma h + 1}\\right ]$$"
      ],
      "text/plain": [
       "⎡α⋅γ⋅h⋅φ⋅y_{t-1} + α⋅h⋅φ⋅s_{t-1} - α⋅h⋅πₜ₋₁ - α⋅h⋅sₜ + vₜ⎤\n",
       "⎢────────────────────────────────────────────────────────⎥\n",
       "⎣                    α⋅b + α⋅γ⋅h + 1                     ⎦"
      ]
     },
     "metadata": {},
     "output_type": "display_data"
    }
   ],
   "source": [
    "# Solve for y\n",
    "y_EQ = sm.solve(ADSRAS,y)\n",
    "print('The solution for y is:')\n",
    "print()\n",
    "display(y_EQ)"
   ]
  },
  {
   "cell_type": "markdown",
   "metadata": {},
   "source": [
    "Now we can substitute this value into the SRAS function to get the expression for $\\pi_t$:"
   ]
  },
  {
   "cell_type": "code",
   "execution_count": 10,
   "metadata": {},
   "outputs": [
    {
     "name": "stdout",
     "output_type": "stream",
     "text": [
      "The solution for pi is:\n",
      "\n"
     ]
    },
    {
     "data": {
      "image/png": "[encoded data removed]",
      "text/latex": [
       "$$\\left [ \\frac{- \\alpha b \\gamma \\phi y_{t-1} - \\alpha b \\phi s_{t-1} + \\alpha b \\pi_{t-1} + \\alpha b s_{t} - \\gamma \\phi y_{t-1} + \\gamma v_{t} - \\phi s_{t-1} + \\pi_{t-1} + s_{t}}{\\alpha b + \\alpha \\gamma h + 1}\\right ]$$"
      ],
      "text/plain": [
       "⎡-α⋅b⋅γ⋅φ⋅y_{t-1} - α⋅b⋅φ⋅s_{t-1} + α⋅b⋅πₜ₋₁ + α⋅b⋅sₜ - γ⋅φ⋅y_{t-1} + γ⋅vₜ - φ\n",
       "⎢─────────────────────────────────────────────────────────────────────────────\n",
       "⎣                                         α⋅b + α⋅γ⋅h + 1                     \n",
       "\n",
       "⋅s_{t-1} + πₜ₋₁ + sₜ⎤\n",
       "────────────────────⎥\n",
       "                    ⎦"
      ]
     },
     "metadata": {},
     "output_type": "display_data"
    }
   ],
   "source": [
    "SRAS_new = SRAS.subs(y,y_EQ[0])\n",
    "pi_EQ = sm.solve(SRAS_new,pi)\n",
    "print('The solution for pi is:')\n",
    "print()\n",
    "display(pi_EQ)"
   ]
  },
  {
   "cell_type": "markdown",
   "metadata": {},
   "source": [
    "#### **Question 2.2:** Find and illustrate the equilibrium when $y_{t-1} = \\pi_{t-1} = v_t = s_t = s_{t-1} = 0$. Illustrate how the equilibrium changes when instead $v_t = 0.1$."
   ]
  },
  {
   "cell_type": "markdown",
   "metadata": {},
   "source": [
    "We want to be able to parameterize the equations and for this we use sympy's lambdify function:"
   ]
  },
  {
   "cell_type": "code",
   "execution_count": 11,
   "metadata": {},
   "outputs": [
    {
     "name": "stdout",
     "output_type": "stream",
     "text": [
      "The equilibrium values of y and pi when parameters are equal to zero are:\n",
      "[0.0] [0.0]\n"
     ]
    }
   ],
   "source": [
    "# Lambdify functions\n",
    "lambd_y = sm.lambdify((alpha,h,b,phi,gamma,pi_lag,y_lag,s_lag,v,s),y_EQ)\n",
    "lambd_pi = sm.lambdify((alpha,h,b,phi,gamma,pi_lag,y_lag,s_lag,v,s),pi_EQ)\n",
    "\n",
    "# Now we can find the equilibrium values\n",
    "y_par0 = lambd_y(par['alpha'],par['h'],par['b'],par['phi'],par['gamma'],0,0,0,0,0)\n",
    "pi_par0 = lambd_pi(par['alpha'],par['h'],par['b'],par['phi'],par['gamma'],0,0,0,0,0)\n",
    "\n",
    "print('The equilibrium values of y and pi when parameters are equal to zero are:')\n",
    "print(y_par0,pi_par0)"
   ]
  },
  {
   "cell_type": "code",
   "execution_count": 12,
   "metadata": {},
   "outputs": [
    {
     "name": "stdout",
     "output_type": "stream",
     "text": [
      "The equilibrium values of y and pi when v = 0.1 and all other parameters are zero are:\n",
      "[0.0244140625] [0.0018310546875]\n"
     ]
    }
   ],
   "source": [
    "y_parv = lambd_y(par['alpha'],par['h'],par['b'],par['phi'],par['gamma'],0,0,0,0.1,0)\n",
    "pi_parv = lambd_pi(par['alpha'],par['h'],par['b'],par['phi'],par['gamma'],0,0,0,0.1,0)\n",
    "\n",
    "print('The equilibrium values of y and pi when v = 0.1 and all other parameters are zero are:')\n",
    "print(y_parv,pi_parv)"
   ]
  },
  {
   "cell_type": "markdown",
   "metadata": {},
   "source": [
    "Below the different equilibriums are illustrated"
   ]
  },
  {
   "cell_type": "code",
   "execution_count": 33,
   "metadata": {},
   "outputs": [],
   "source": [
    "# First we define the AD and SRAS functions\n",
    "def AD_fig(v,y):\n",
    "    return (1/(par['h']*par['alpha'])*(v-(1+par['b']*par['alpha'])*y))\n",
    "def SRAS_fig(pi_lag,y,y_lag,s,s_lag):\n",
    "    return pi_lag + par['gamma']*y - par['phi']*par['gamma']*y_lag + s - par['phi']*s_lag"
   ]
  },
  {
   "cell_type": "code",
   "execution_count": 54,
   "metadata": {},
   "outputs": [
    {
     "data": {
      "image/png": "[encoded data removed]",
      "text/plain": [
       "<Figure size 792x576 with 1 Axes>"
      ]
     },
     "metadata": {
      "needs_background": "light"
     },
     "output_type": "display_data"
    }
   ],
   "source": [
    "# Below the needed values for the figure are defined\n",
    "y = np.linspace(-0.1,0.1,50)\n",
    "\n",
    "# Values without shock\n",
    "y_lag = 0\n",
    "pi_lag = 0\n",
    "v = 0\n",
    "s = 0\n",
    "s_lag = 0\n",
    "\n",
    "# Only value that changes with shock is v\n",
    "v_s = 0.1\n",
    "\n",
    "AD = AD_fig(v,y)\n",
    "AD_shock = AD_fig(v_s,y)\n",
    "SRAS = SRAS_fig(pi_lag,y,y_lag,s,s_lag)\n",
    "\n",
    "# Figure is plotted\n",
    "fig = plt.figure(figsize=(11,8))\n",
    "ax = fig.add_subplot(1,1,1)\n",
    "ax.plot(y,AD, label='AD, $v_t=0$')\n",
    "ax.plot(y,AD_shock,label='AD, $v_t=0.1$')\n",
    "ax.plot(y,SRAS, label='SRAS')\n",
    "ax.set_xlabel('$y_t$',size=12)\n",
    "ax.set_ylabel('$\\pi_t$',size=12)\n",
    "ax.legend()\n",
    "ax.grid()\n",
    "plt.title('Figure 2.1: Equilibrium with and without shock', size=18)\n",
    "plt.show()\n"
   ]
  },
  {
   "cell_type": "markdown",
   "metadata": {},
   "source": [
    "**Persistent disturbances:** Now, additionaly, assume that both the demand and the supply disturbances are AR(1) processes\n",
    "\n",
    "$$ v_{t} = \\delta v_{t-1} + x_{t} $$\n",
    "$$ s_{t} = \\omega s_{t-1} + c_{t} $$\n",
    "\n",
    "where $x_{t}$ is a **demand shock**, and $c_t$ is a **supply shock**. The **autoregressive parameters** are:"
   ]
  },
  {
   "cell_type": "code",
   "execution_count": null,
   "metadata": {},
   "outputs": [],
   "source": [
    "par['delta'] = 0.80\n",
    "par['omega'] = 0.15"
   ]
  },
  {
   "cell_type": "markdown",
   "metadata": {},
   "source": []
  },
  {
   "cell_type": "code",
   "execution_count": null,
   "metadata": {},
   "outputs": [],
   "source": []
  },
  {
   "cell_type": "markdown",
   "metadata": {},
   "source": [
    "#### **Question 2.3:** Starting from $y_{-1} = \\pi_{-1} = s_{-1} = 0$, how does the economy evolve for $x_0 = 0.1$, $x_t = 0, \\forall t > 0$ and $c_t = 0, \\forall t \\geq 0$?"
   ]
  },
  {
   "cell_type": "code",
   "execution_count": null,
   "metadata": {},
   "outputs": [],
   "source": []
  },
  {
   "cell_type": "markdown",
   "metadata": {},
   "source": [
    "**Stochastic shocks:** Now, additionally, assume that $x_t$ and $c_t$ are stochastic and normally distributed\n",
    "\n",
    "$$ x_{t}\\sim\\mathcal{N}(0,\\sigma_{x}^{2}) $$\n",
    "$$ c_{t}\\sim\\mathcal{N}(0,\\sigma_{c}^{2}) $$\n",
    "\n",
    "The **standard deviations of the shocks** are:"
   ]
  },
  {
   "cell_type": "code",
   "execution_count": null,
   "metadata": {},
   "outputs": [],
   "source": [
    "par['sigma_x'] = 3.492\n",
    "par['sigma_c'] = 0.2"
   ]
  },
  {
   "cell_type": "markdown",
   "metadata": {},
   "source": [
    "#### **Question 2.4:** Simulate the AS-AD model for 1,000 periods. Calculate the following five statistics:\n",
    "\n",
    "1. Variance of $y_t$, $var(y_t)$\n",
    "2. Variance of $\\pi_t$, $var(\\pi_t)$\n",
    "3. Correlation between $y_t$ and $\\pi_t$, $corr(y_t,\\pi_t)$\n",
    "4. Auto-correlation between $y_t$ and $y_{t-1}$, $corr(y_t,y_{t-1})$\n",
    "5. Auto-correlation between $\\pi_t$ and $\\pi_{t-1}$, $corr(\\pi_t,\\pi_{t-1})$"
   ]
  },
  {
   "cell_type": "markdown",
   "metadata": {},
   "source": [
    "#### **Question 2.5:** Plot how the correlation between $y_t$ and $\\pi_t$ changes with $\\phi$. Use a numerical optimizer or root finder to choose $\\phi\\in(0,1)$ such that the simulated correlation between $y_t$ and $\\pi_t$ comes close to 0.31. "
   ]
  },
  {
   "cell_type": "markdown",
   "metadata": {},
   "source": [
    "#### **Quesiton 2.6:** Use a numerical optimizer to choose $\\sigma_x>0$, $\\sigma_c>0$ and $\\phi\\in(0,1)$ to make the simulated statistics as close as possible to US business cycle data where:\n",
    "\n",
    "1. $var(y_t) = 1.64$\n",
    "2. $var(\\pi_t) = 0.21$\n",
    "3. $corr(y_t,\\pi_t) = 0.31$\n",
    "4. $corr(y_t,y_{t-1}) = 0.84$\n",
    "5. $corr(\\pi_t,\\pi_{t-1}) = 0.48$"
   ]
  },
  {
   "cell_type": "markdown",
   "metadata": {
    "toc-hr-collapsed": true
   },
   "source": [
    "# 3. Exchange economy"
   ]
  },
  {
   "cell_type": "markdown",
   "metadata": {},
   "source": [
    "Consider an **exchange economy** with\n",
    "\n",
    "1. 3 goods, $(x_1,x_2,x_3)$\n",
    "2. $N$ consumers indexed by \\\\( j \\in \\{1,2,\\dots,N\\} \\\\)\n",
    "3. Preferences are Cobb-Douglas with log-normally distributed coefficients\n",
    "\n",
    "    $$ \\begin{eqnarray*}\n",
    "    u^{j}(x_{1},x_{2},x_{3}) &=& \n",
    "    \\left(x_{1}^{\\beta_{1}^{j}}x_{2}^{\\beta_{2}^{j}}x_{3}^{\\beta_{3}^{j}}\\right)^{\\gamma}\\\\\n",
    "     &  & \\,\\,\\,\\beta_{i}^{j}=\\frac{\\alpha_{i}^{j}}{\\alpha_{1}^{j}+\\alpha_{2}^{j}+\\alpha_{3}^{j}} \\\\\n",
    "     &  & \\,\\,\\,\\boldsymbol{\\alpha}^{j}=(\\alpha_{1}^{j},\\alpha_{2}^{j},\\alpha_{3}^{j}) \\\\ \n",
    "     &  & \\,\\,\\,\\log(\\boldsymbol{\\alpha}^j) \\sim \\mathcal{N}(\\mu,\\Sigma) \\\\\n",
    "    \\end{eqnarray*} $$\n",
    "\n",
    "4. Endowments are exponentially distributed,\n",
    "\n",
    "$$\n",
    "\\begin{eqnarray*}\n",
    "\\boldsymbol{e}^{j} &=& (e_{1}^{j},e_{2}^{j},e_{3}^{j}) \\\\\n",
    " &  & e_i^j \\sim f, f(z;\\zeta) =  1/\\zeta \\exp(-z/\\zeta)\n",
    "\\end{eqnarray*}\n",
    "$$"
   ]
  },
  {
   "cell_type": "markdown",
   "metadata": {},
   "source": [
    "Let $p_3 = 1$ be the **numeraire**. The implied **demand functions** are:\n",
    "\n",
    "$$\n",
    "\\begin{eqnarray*}\n",
    "x_{i}^{\\star j}(p_{1},p_{2},\\boldsymbol{e}^{j})&=&\\beta^{j}_i\\frac{I^j}{p_{i}} \\\\\n",
    "\\end{eqnarray*}\n",
    "$$\n",
    "\n",
    "where consumer $j$'s income is\n",
    "\n",
    "$$I^j = p_1 e_1^j + p_2 e_2^j +p_3 e_3^j$$"
   ]
  },
  {
   "cell_type": "markdown",
   "metadata": {},
   "source": [
    "The **parameters** and **random preferences and endowments** are given by:"
   ]
  },
  {
   "cell_type": "code",
   "execution_count": null,
   "metadata": {},
   "outputs": [],
   "source": [
    "# a. parameters\n",
    "N = 50000\n",
    "mu = np.array([3,2,1])\n",
    "Sigma = np.array([[0.25, 0, 0], [0, 0.25, 0], [0, 0, 0.25]])\n",
    "gamma = 0.8\n",
    "zeta = 1\n",
    "\n",
    "# b. random draws\n",
    "seed = 1986\n",
    "np.random.seed(seed)\n",
    "\n",
    "# preferences\n",
    "alphas = np.exp(np.random.multivariate_normal(mu, Sigma, size=N))\n",
    "betas = alphas/np.reshape(np.sum(alphas,axis=1),(N,1))\n",
    "\n",
    "# endowments\n",
    "e1 = np.random.exponential(zeta,size=N)\n",
    "e2 = np.random.exponential(zeta,size=N)\n",
    "e3 = np.random.exponential(zeta,size=N)"
   ]
  },
  {
   "cell_type": "markdown",
   "metadata": {},
   "source": [
    "#### **Question 1:** Plot the histograms of the budget shares for each good across agents."
   ]
  },
  {
   "cell_type": "markdown",
   "metadata": {},
   "source": [
    "Here we have Cobb-Douglas preferences which means that the budget shares are represented by the $\\beta$'s. These are plotted in the below diagram."
   ]
  },
  {
   "cell_type": "code",
   "execution_count": null,
   "metadata": {},
   "outputs": [],
   "source": [
    "# betas\n",
    "b1 = betas[:,0]\n",
    "b2 = betas[:,1]\n",
    "b3 = betas[:,2]\n",
    "\n",
    "# Plotting the histograms of each good\n",
    "hist, [ax1, ax2, ax3] = plt.subplots(1, 3, figsize=(20,6), sharey=True, sharex=True)\n",
    "ax1.hist(b1, bins=15)\n",
    "ax1.set_title('Good 1', size=13, fontweight='bold')\n",
    "ax2.hist(b2, color='r', bins=15)\n",
    "ax2.set_title('Good 2', size=13, fontweight='bold')\n",
    "ax3.hist(b3, color='g', bins=15)\n",
    "ax3.set_title('Good 3', size=13, fontweight='bold')\n",
    "hist.suptitle('Figure 3.1: Budget Shares across Agents', size=20)\n",
    "ax1.set_ylabel('Number of consumers', size=13)\n",
    "ax2.set_xlabel('Budget share of goods', size=13)\n",
    "\n",
    "\n"
   ]
  },
  {
   "cell_type": "markdown",
   "metadata": {},
   "source": [
    "From the figure above we see that the highest budget share is that of Good 1, while Good 3 has the smallest budget share. From the "
   ]
  },
  {
   "cell_type": "markdown",
   "metadata": {},
   "source": [
    "Consider the **excess demand functions:**\n",
    "\n",
    "$$ z_i(p_1,p_2) = \\sum_{j=1}^N x_{i}^{\\star j}(p_{1},p_{2},\\boldsymbol{e}^{j}) - e_i^j$$\n",
    "\n",
    "#### **Question 2:** Plot the excess demand functions."
   ]
  },
  {
   "cell_type": "markdown",
   "metadata": {},
   "source": [
    "First the functions given are defined"
   ]
  },
  {
   "cell_type": "code",
   "execution_count": null,
   "metadata": {},
   "outputs": [],
   "source": [
    "# 1. Demand functions of goods, p3=1\n",
    "def dem1(p1,p2,e1,e2,e3,b1):\n",
    "    I = p1*e1 + p2*e2 + e3\n",
    "    return b1*(I/p1)\n",
    "\n",
    "def dem2(p1,p2,e1,e2,e3,b2):\n",
    "    I = p1*e1 + p2*e2 + e3\n",
    "    return b2*(I/p2)\n",
    "\n",
    "def dem3(p1,p2,e1,e2,e3,b3):\n",
    "    I = p1*e1 + p2*e2 + e3\n",
    "    return b3*I\n",
    "\n",
    "# 2. Excess demand functions\n",
    "def ex_dem1(p1,p2,e1,e2,e3):\n",
    "    return np.sum(dem1(p1,p2,e1,e2,e3,b1) - e1)\n",
    "\n",
    "def ex_dem2(p1,p2,e1,e2,e3):\n",
    "    return np.sum(dem2(p1,p2,e1,e2,e3,b2) - e2)\n",
    "\n",
    "def ex_dem3(p1,p2,e1,e2,e3):\n",
    "    return np.sum(dem3(p1,p2,e1,e2,e3,b3) - e3)"
   ]
  },
  {
   "cell_type": "code",
   "execution_count": null,
   "metadata": {},
   "outputs": [],
   "source": []
  },
  {
   "cell_type": "code",
   "execution_count": null,
   "metadata": {},
   "outputs": [],
   "source": [
    "# A set of price vectors are defined\n",
    "p1_vec = np.linspace(0.1,5,100)\n",
    "p2_vec = np.linspace(0.1,5,100)\n",
    "p3_vec = 1\n",
    "\n",
    "# Now grids for the endowments and prices are constructed\n",
    "e1_grid = np.empty((100,100))\n",
    "e2_grid = np.empty((100,100))\n",
    "e3_grid = np.empty((100,100))\n",
    "p1_grid, p2_grid = np.meshgrid(p1_vec,p2_vec)\n",
    "\n",
    "# Now we can find the excess demands with a loop\n",
    "for i,p1 in enumerate(p1_vec):\n",
    "    for j,p2 in enumerate(p2_vec):\n",
    "        e1_grid[i,j] = ex_dem1(p1,p2,e1,e2,e3)\n",
    "        e2_grid[i,j] = ex_dem2(p1,p2,e1,e2,e3)\n",
    "        e3_grid[i,j] = ex_dem3(p1,p2,e1,e2,e3)"
   ]
  },
  {
   "cell_type": "markdown",
   "metadata": {},
   "source": [
    "Now we can make the plots of the excess demand functions"
   ]
  },
  {
   "cell_type": "code",
   "execution_count": null,
   "metadata": {},
   "outputs": [],
   "source": [
    "fig = plt.figure(figsize=(10,19))\n",
    "\n",
    "ax1 = fig.add_subplot(3,1,1,projection='3d')\n",
    "fig1 = ax1.plot_surface(p1_grid, p2_grid, e1_grid, color='green', cmap='rainbow')\n",
    "ax1.set_xlabel('$p_1$')\n",
    "ax1.set_ylabel('$p_2$')\n",
    "ax1.invert_xaxis()\n",
    "ax1.set_title('Excess demand of Good 1', fontweight='bold')\n",
    "fig.colorbar(fig1, shrink=0.5, aspect=5)\n",
    "\n",
    "ax2 = fig.add_subplot(3,1,2,projection='3d')\n",
    "fig2 = ax2.plot_surface(p1_grid, p2_grid, e2_grid, color='blue', cmap='rainbow')\n",
    "ax2.set_xlabel('$p_1$')\n",
    "ax2.set_ylabel('$p_2$')\n",
    "ax2.invert_xaxis()\n",
    "ax2.set_title('Excess demand of Good 2', fontweight='bold')\n",
    "fig.colorbar(fig2, shrink=0.5, aspect=5)\n",
    "\n",
    "ax3 = fig.add_subplot(3,1,3,projection='3d')\n",
    "fig3 = ax3.plot_surface(p1_grid, p2_grid, e3_grid, color='red', cmap='rainbow')\n",
    "ax3.set_xlabel('$p_1$')\n",
    "ax3.set_ylabel('$p_2$')\n",
    "ax3.invert_xaxis()\n",
    "ax3.set_title('Excess demand of Good 3', fontweight='bold')\n",
    "fig.colorbar(fig3, shrink=0.5, aspect=5)"
   ]
  },
  {
   "cell_type": "markdown",
   "metadata": {},
   "source": [
    "The above figures show that the excess demand of the goods increase when the price is decreasing."
   ]
  },
  {
   "cell_type": "markdown",
   "metadata": {},
   "source": [
    "#### **Question 3:** Find the Walras-equilibrium prices, $(p_1,p_2)$, where both excess demands are (approximately) zero, e.g. by using the following tâtonnement process:\n",
    "\n",
    "1. Guess on $p_1 > 0$, $p_2 > 0$ and choose tolerance $\\epsilon > 0$ and adjustment aggressivity parameter, $\\kappa > 0$.\n",
    "2. Calculate $z_1(p_1,p_2)$ and $z_2(p_1,p_2)$.\n",
    "3. If $|z_1| < \\epsilon$ and $|z_2| < \\epsilon$ then stop.\n",
    "4. Else set $p_1 = p_1 + \\kappa \\frac{z_1}{N}$ and $p_2 = p_2 + \\kappa \\frac{z_2}{N}$ and return to step 2."
   ]
  },
  {
   "cell_type": "markdown",
   "metadata": {},
   "source": [
    "To find the Walras equilibrium prices $(p_1,p_2)$ where the excess demands are approximately zero the tâtonnement process described above is used."
   ]
  },
  {
   "cell_type": "code",
   "execution_count": null,
   "metadata": {},
   "outputs": [],
   "source": [
    "# 1. First we set the tolerance and adjustment aggressivity parameter and make initial guesses on the prices\n",
    "kappa = 0.5 \n",
    "eps = 1e-8\n",
    "p1 = 2\n",
    "p2 = 1.2\n",
    "maxi = 2500 # maximum iterations\n",
    "\n",
    "def wal_eq(betas,p1,p2,e1,e2,e3,eps,kappa,maxi):\n",
    "    t=0\n",
    "    while True:\n",
    "    # 2. Calculate excess demands of good 1 and 2\n",
    "        z1 = ex_dem1(p1,p2,e1,e2,e3)\n",
    "        z2 = ex_dem2(p1,p2,e1,e2,e3)\n",
    "    \n",
    "    # 3. Defining whether to stop\n",
    "        if np.abs(z1) < eps and np.abs(z2) < eps or t >= maxi:\n",
    "            print(f'{t:3d}: p1 = {p1:12.6f} --> excess demand good 1 --> {z1:14.6f}')\n",
    "            print(f'{t:3d}: p2 = {p2:12.6f} --> excess demand good 2 --> {z2:14.6f}')\n",
    "            break\n",
    "               \n",
    "    # 4. Updating prices and returning to step 2   \n",
    "        p1 = p1 + kappa*(z1/N)\n",
    "        p2 = p2 + kappa*(z2/N)\n",
    "        \n",
    "        if t < 2 or t%150 == 0:\n",
    "            print(f'{t:3d}: p1 = {p1:12.6f} --> excess demand good 1 --> {z1:14.6f}')\n",
    "            print(f'{t:3d}: p2 = {p2:12.6f} --> excess demand good 2 --> {z2:14.6f}')\n",
    "        elif t == 2:\n",
    "            print('   ...')\n",
    "                    \n",
    "        t += 1\n",
    "    return p1,p2\n",
    "    \n",
    "p1,p2 = wal_eq(betas,p1,p2,e1,e2,e3,eps,kappa,maxi)"
   ]
  },
  {
   "cell_type": "markdown",
   "metadata": {},
   "source": [
    "The Walras equilirium prices for good 1 and good 2 are:  \n",
    "$\\quad \\pmb{p_1 = 6.49} $  \n",
    "$\\quad \\pmb{p_2 = 2.62}$"
   ]
  },
  {
   "cell_type": "markdown",
   "metadata": {},
   "source": [
    "#### **Question 4:** Plot the distribution of utility in the Walras-equilibrium and calculate its mean and variance.  \n",
    "First we define the utility function below,"
   ]
  },
  {
   "cell_type": "code",
   "execution_count": null,
   "metadata": {},
   "outputs": [],
   "source": [
    "# Utility function\n",
    "def util_eq(p1,p2,e1,e2,e3,gamma,betas):     \n",
    "    return ((dem1(p1,p2,e1,e2,e3,b1)**b1)*(dem2(p1,p2,e1,e2,e3,b2)**b2)*(dem3(p1,p2,e1,e2,e3,b3)**b3))**gamma\n",
    "\n",
    "util = util_eq(p1,p2,e1,e2,e3,gamma,betas)    \n",
    "\n",
    "# Mean and variance of Walras-Equilibrium\n",
    "print(f'The mean of the Walras-Equilibrium is {round(np.mean(util),2)}')\n",
    "print(f'The variance of the Walras-Equilibrium is {round(np.var(util),2)}')"
   ]
  },
  {
   "cell_type": "code",
   "execution_count": null,
   "metadata": {},
   "outputs": [],
   "source": [
    "# A histogram is used to plot the distribution\n",
    "hist, ax = plt.subplots(figsize=(10,6))\n",
    "ax.hist(util, bins=250, color='g', alpha=.5)\n",
    "ax.set_title('Figure 3.3: Distribution of Utility in the Walras Equilibrium', size=20)\n",
    "ax.set_xlabel('Utility', size=14)\n",
    "ax.set_ylabel('Consumers', size=14)\n",
    "plt.show()"
   ]
  },
  {
   "cell_type": "markdown",
   "metadata": {},
   "source": [
    "#### **Question 5:** Find the Walras-equilibrium prices if instead all endowments were distributed equally. Discuss the implied changes in the distribution of utility. Does the value of $\\gamma$ play a role for your conclusions?  \n",
    "To make equally distributed endowments we make a new random draw and set the endowments equal to each other. Hereafter, the prices are calculated again as in question 4 and the mean and variance values are found."
   ]
  },
  {
   "cell_type": "code",
   "execution_count": null,
   "metadata": {},
   "outputs": [],
   "source": [
    "# We make a new draw of e\n",
    "e = np.random.exponential(zeta,size=N)\n",
    "e = e1 = e2 = e3\n",
    "\n",
    "# Now we repeat the function in 3.3 to find the Walras-Equilibrium with endowmens that are equally distributed\n",
    "p1,p2 = wal_eq(betas,p1,p2,e1,e2,e3,eps,kappa,maxi)"
   ]
  },
  {
   "cell_type": "markdown",
   "metadata": {},
   "source": [
    "The Walras equilirium prices for good 1 and good 2 with equally distributed endowments are:  \n",
    "$\\quad \\pmb{p_1 = 6.42} $  \n",
    "$\\quad\\pmb{p_2 = 2.59}$  \n",
    "Thus, both are a little lower compared to the prices in question 3.3 where the endowments are not equally distributed.  \n",
    "Now the two utility distributions are plotted in a histogram to be compared."
   ]
  },
  {
   "cell_type": "code",
   "execution_count": null,
   "metadata": {},
   "outputs": [],
   "source": [
    "# Function for new utilities\n",
    "def util_eq(p1,p2,e1,e2,e3,gamma,betas):     \n",
    "    return ((dem1(p1,p2,e1,e2,e3,b1)**b1)*(dem2(p1,p2,e1,e2,e3,b2)**b2)*(dem3(p1,p2,e1,e2,e3,b3)**b3))**gamma\n",
    "\n",
    "# Getting utilities\n",
    "util_e = util_eq(p1,p2,e1,e2,e3,gamma,betas)\n",
    "\n",
    "# Mean and variance of Walras-Equilibrium\n",
    "print(f'The mean of the Walras-Equilibrium with equally distributed endowments is {round(np.mean(util_e),2)}')\n",
    "print(f'The variance of the Walras-Equilibrium with equally distributed endowments is {round(np.var(util_e),2)}')"
   ]
  },
  {
   "cell_type": "markdown",
   "metadata": {},
   "source": [
    "Thus, the mean is now slightly lower while the variance is twice as high with equally distributed endowments."
   ]
  },
  {
   "cell_type": "code",
   "execution_count": null,
   "metadata": {},
   "outputs": [],
   "source": [
    "# Plotting histograms in same figure to compare distributions\n",
    "hist, ax = plt.subplots(figsize=(10,7))\n",
    "ax.hist(util_e, bins=250, color='g', alpha=.5, label='Equal Distribution')\n",
    "ax.hist(util,bins=250,color='b',alpha=.5, label= 'Unequal Distribution')\n",
    "ax.set_title('Figure 3.4: Distribution Comparison of Utilities in the Walras Equilibrium', size=20)\n",
    "ax.set_xlabel('Utility', size=14)\n",
    "ax.set_ylabel('Consumers', size=14)\n",
    "plt.legend(loc='lower right',edgecolor='black')\n",
    "plt.show()"
   ]
  },
  {
   "cell_type": "markdown",
   "metadata": {},
   "source": [
    "From the above figure it is seen that having equally distributed endowments draw the distribution towards 0. "
   ]
  },
  {
   "cell_type": "markdown",
   "metadata": {},
   "source": [
    "To see how gamma influences the distribution of the utilities, an interactive graph where the gamma value can be changed is made."
   ]
  },
  {
   "cell_type": "code",
   "execution_count": null,
   "metadata": {},
   "outputs": [],
   "source": [
    "# Utility function to make figure\n",
    "def util_sl(p1,p2,e1,e2,e3,gamma,betas):\n",
    "    util_sl = ((dem1(p1,p2,e1,e2,e3,b1)**b1)*(dem2(p1,p2,e1,e2,e3,b2)**b2)*(dem3(p1,p2,e1,e2,e3,b3)**b3))**gamma\n",
    "    return util_sl\n",
    "\n",
    "# Making interactive figure with slider for gamma values\n",
    "def interactive_figure(p1,p2,e1,e2,e3,gamma,betas):\n",
    "    \n",
    "    # a. calculations\n",
    "    dist = util_sl(p1,p2,e1,e2,e3,gamma,betas)\n",
    "    \n",
    "    # b. figure\n",
    "    fig = plt.figure(figsize=(10,7))\n",
    "    ax = fig.add_subplot(1,1,1)\n",
    "    ax.hist(dist,bins=250, color='g',alpha=.5)\n",
    "    ax.set_title('Figure 3.5: Distribution with different values of $\\gamma$', size=20)\n",
    "    ax.set_xlabel('Utility', size=14)\n",
    "    ax.set_ylabel('Consumers', size=14)\n",
    "    \n",
    "widgets.interact(interactive_figure,\n",
    "    p1=widgets.fixed(p1),\n",
    "    p2=widgets.fixed(p2),\n",
    "    e1=widgets.fixed(e1),\n",
    "    e2=widgets.fixed(e2),\n",
    "    e3=widgets.fixed(e3),\n",
    "    gamma=widgets.FloatSlider(description=\"$\\gamma$\", min=0.01, max=2, step=0.01, value=.8),\n",
    "    betas=widgets.fixed(betas)\n",
    ");\n",
    "    "
   ]
  },
  {
   "cell_type": "markdown",
   "metadata": {},
   "source": [
    "In the above figure it is shown that the gamma value has a big impact on how the utilities in the Walras Equilibrium are distributed. This is no surprise as gamma influences the budget shares in the Cobb-Douglas utility function given. A higher gamma will draw the distribution of utilites towards zero while a small gamma will draw the distribution towards a higher utility."
   ]
  }
 ],
 "metadata": {
  "kernelspec": {
   "display_name": "Python 3",
   "language": "python",
   "name": "python3"
  },
  "language_info": {
   "codemirror_mode": {
    "name": "ipython",
    "version": 3
   },
   "file_extension": ".py",
   "mimetype": "text/x-python",
   "name": "python",
   "nbconvert_exporter": "python",
   "pygments_lexer": "ipython3",
   "version": "3.7.1"
  },
  "toc-autonumbering": false
 },
 "nbformat": 4,
 "nbformat_minor": 2
}
