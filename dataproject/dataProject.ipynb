{
 "cells": [
  {
   "cell_type": "markdown",
   "metadata": {},
   "source": [
    "# The Happy Data Project"
   ]
  },
  {
   "cell_type": "code",
   "execution_count": 1,
   "metadata": {},
   "outputs": [],
   "source": [
    "import pandas as pd\n",
    "import matplotlib.pyplot as plt\n",
    "import numpy as np\n",
    "import statsmodels.api as sm\n",
    "import ipywidgets as widgets\n",
    "\n",
    "#loading data\n",
    "h15 = pd.read_csv(\"2015.csv\")\n",
    "h16 = pd.read_csv(\"2016.csv\")\n",
    "h17 = pd.read_csv(\"2017.csv\")   "
   ]
  },
  {
   "cell_type": "code",
   "execution_count": 2,
   "metadata": {},
   "outputs": [
    {
     "name": "stdout",
     "output_type": "stream",
     "text": [
      "h15 has shape (158, 12)\n",
      "h16 has shape (157, 13)\n",
      "h17 has shape (155, 12)\n"
     ]
    }
   ],
   "source": [
    "#Checking shape of datasets\n",
    "print(f'h15 has shape {h15.shape}')\n",
    "print(f'h16 has shape {h16.shape}')\n",
    "print(f'h17 has shape {h17.shape}')"
   ]
  },
  {
   "cell_type": "raw",
   "metadata": {},
   "source": [
    "The above results show that the datasets have different shapes. Thus, some of the datasets must have different variables, which is examined below and only needed variables are kept before merging."
   ]
  },
  {
   "cell_type": "code",
   "execution_count": 3,
   "metadata": {},
   "outputs": [
    {
     "data": {
      "text/plain": [
       "Country                           object\n",
       "Region                            object\n",
       "Happiness Rank                     int64\n",
       "Happiness Score                  float64\n",
       "Standard Error                   float64\n",
       "Economy (GDP per Capita)         float64\n",
       "Family                           float64\n",
       "Health (Life Expectancy)         float64\n",
       "Freedom                          float64\n",
       "Trust (Government Corruption)    float64\n",
       "Generosity                       float64\n",
       "Dystopia Residual                float64\n",
       "dtype: object"
      ]
     },
     "execution_count": 3,
     "metadata": {},
     "output_type": "execute_result"
    }
   ],
   "source": [
    "h15.dtypes"
   ]
  },
  {
   "cell_type": "code",
   "execution_count": 4,
   "metadata": {},
   "outputs": [
    {
     "data": {
      "text/plain": [
       "Country                           object\n",
       "Region                            object\n",
       "Happiness Rank                     int64\n",
       "Happiness Score                  float64\n",
       "Lower Confidence Interval        float64\n",
       "Upper Confidence Interval        float64\n",
       "Economy (GDP per Capita)         float64\n",
       "Family                           float64\n",
       "Health (Life Expectancy)         float64\n",
       "Freedom                          float64\n",
       "Trust (Government Corruption)    float64\n",
       "Generosity                       float64\n",
       "Dystopia Residual                float64\n",
       "dtype: object"
      ]
     },
     "execution_count": 4,
     "metadata": {},
     "output_type": "execute_result"
    }
   ],
   "source": [
    "h16.dtypes"
   ]
  },
  {
   "cell_type": "code",
   "execution_count": 10,
   "metadata": {},
   "outputs": [
    {
     "data": {
      "text/plain": [
       "Country                           object\n",
       "Happiness Rank                     int64\n",
       "Happiness Score                  float64\n",
       "Economy (GDP per Capita)         float64\n",
       "Family                           float64\n",
       "Health (Life Expectancy)         float64\n",
       "Freedom                          float64\n",
       "Generosity                       float64\n",
       "Trust (Government Corruption)    float64\n",
       "Year                              object\n",
       "dtype: object"
      ]
     },
     "execution_count": 10,
     "metadata": {},
     "output_type": "execute_result"
    }
   ],
   "source": [
    "h17.dtypes"
   ]
  },
  {
   "cell_type": "code",
   "execution_count": 6,
   "metadata": {},
   "outputs": [
    {
     "name": "stdout",
     "output_type": "stream",
     "text": [
      "h15 has shape (158, 9)\n",
      "h16 has shape (157, 9)\n",
      "h17 has shape (155, 9)\n"
     ]
    }
   ],
   "source": [
    "# dropping irrelevant variables \n",
    "d15 = ['Region', 'Standard Error', 'Dystopia Residual']\n",
    "h15.drop(d15, axis=1, inplace=True)\n",
    "\n",
    "d16 = ['Region','Lower Confidence Interval', 'Upper Confidence Interval', 'Dystopia Residual']\n",
    "h16.drop(d16, axis=1, inplace=True)\n",
    "\n",
    "d17 = ['Whisker.high', 'Whisker.low', 'Dystopia.Residual']\n",
    "h17.drop(d17, axis=1, inplace=True)\n",
    "\n",
    "print(f'h15 has shape {h15.shape}')\n",
    "print(f'h16 has shape {h16.shape}')\n",
    "print(f'h17 has shape {h17.shape}')"
   ]
  },
  {
   "cell_type": "code",
   "execution_count": 7,
   "metadata": {},
   "outputs": [
    {
     "name": "stdout",
     "output_type": "stream",
     "text": [
      "h15 has shape (158, 10)\n",
      "h16 has shape (157, 10)\n",
      "h17 has shape (155, 10)\n"
     ]
    }
   ],
   "source": [
    "# adding year column\n",
    "h15['Year'] = '2015'\n",
    "h16['Year'] = '2016'\n",
    "h17['Year'] = '2017'\n",
    "print(f'h15 has shape {h15.shape}')\n",
    "print(f'h16 has shape {h16.shape}')\n",
    "print(f'h17 has shape {h17.shape}')\n"
   ]
  },
  {
   "cell_type": "markdown",
   "metadata": {},
   "source": [
    "Country                           object\n",
    "Happiness.Rank                     int64\n",
    "Happiness.Score                  float64\n",
    "Economy..GDP.per.Capita.         float64\n",
    "Family                           float64\n",
    "Health..Life.Expectancy.         float64\n",
    "Freedom                          float64\n",
    "Generosity                       float64\n",
    "Trust..Government.Corruption.    float64\n",
    "Year                              object\n",
    "\n",
    "Country                           object\n",
    "Region                            object\n",
    "Happiness Rank                     int64\n",
    "Happiness Score                  float64\n",
    "Lower Confidence Interval        float64\n",
    "Upper Confidence Interval        float64\n",
    "Economy (GDP per Capita)         float64\n",
    "Family                           float64\n",
    "Health (Life Expectancy)         float64\n",
    "Freedom                          float64\n",
    "Trust (Government Corruption)    float64\n",
    "Generosity                       float64\n",
    "Dystopia Residual                float64"
   ]
  },
  {
   "cell_type": "code",
   "execution_count": 9,
   "metadata": {},
   "outputs": [],
   "source": [
    "h17.rename(columns = {'Happiness.Rank':'Happiness Rank'}, inplace=True)\n",
    "h17.rename(columns = {'Happiness.Score':'Happiness Score'}, inplace=True)\n",
    "h17.rename(columns = {'Economy..GDP.per.Capita.':'Economy (GDP per Capita)'}, inplace=True)\n",
    "h17.rename(columns = {'Health..Life.Expectancy.':'Health (Life Expectancy)'}, inplace=True)\n",
    "h17.rename(columns = {'Trust..Government.Corruption.':'Trust (Government Corruption)'}, inplace=True)"
   ]
  },
  {
   "cell_type": "code",
   "execution_count": null,
   "metadata": {},
   "outputs": [],
   "source": []
  }
 ],
 "metadata": {
  "kernelspec": {
   "display_name": "Python 3",
   "language": "python",
   "name": "python3"
  },
  "language_info": {
   "codemirror_mode": {
    "name": "ipython",
    "version": 3
   },
   "file_extension": ".py",
   "mimetype": "text/x-python",
   "name": "python",
   "nbconvert_exporter": "python",
   "pygments_lexer": "ipython3",
   "version": "3.7.1"
  }
 },
 "nbformat": 4,
 "nbformat_minor": 2
}
