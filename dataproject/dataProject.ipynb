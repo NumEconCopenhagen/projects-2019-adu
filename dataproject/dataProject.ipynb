{
 "cells": [
  {
   "cell_type": "markdown",
   "metadata": {},
   "source": [
    "# The Happy Data Project"
   ]
  },
  {
   "cell_type": "markdown",
   "metadata": {},
   "source": [
    "This data project investigates what factors make a country happy. The data used is from the 'World Happiness Report' in the years 2015-2017.\n",
    "\n",
    "The project is structured as follows:  \n",
    "1. The data is cleaned and appended\n",
    "2. A data analysis is carried out visually\n",
    "3. Interactive plots are constructed with the bokeh package"
   ]
  },
  {
   "cell_type": "markdown",
   "metadata": {
    "toc-hr-collapsed": false
   },
   "source": [
    "## Preparing the Data"
   ]
  },
  {
   "cell_type": "markdown",
   "metadata": {
    "toc-hr-collapsed": false
   },
   "source": [
    "#### Importing relevant packages"
   ]
  },
  {
   "cell_type": "code",
   "execution_count": 1,
   "metadata": {},
   "outputs": [],
   "source": [
    "import pandas as pd\n",
    "import matplotlib.pyplot as plt\n",
    "import numpy as np\n",
    "import statsmodels.api as sm\n",
    "import ipywidgets as widgets"
   ]
  },
  {
   "cell_type": "markdown",
   "metadata": {
    "toc-hr-collapsed": false
   },
   "source": [
    "#### Loading and cleaning data"
   ]
  },
  {
   "cell_type": "code",
   "execution_count": 2,
   "metadata": {},
   "outputs": [
    {
     "name": "stdout",
     "output_type": "stream",
     "text": [
      "h15 has shape (158, 12)\n",
      "h16 has shape (157, 13)\n",
      "h17 has shape (155, 12)\n"
     ]
    }
   ],
   "source": [
    "# loading datas sets\n",
    "h15 = pd.read_csv(\"2015.csv\")\n",
    "h16 = pd.read_csv(\"2016.csv\")\n",
    "h17 = pd.read_csv(\"2017.csv\")   \n",
    "\n",
    "# Renaming columns for 2017 so they match column names from other years\n",
    "h17.rename(columns = {'Happiness.Rank':'Happiness Rank'}, inplace=True)\n",
    "h17.rename(columns = {'Happiness.Score':'Happiness Score'}, inplace=True)\n",
    "h17.rename(columns = {'Economy..GDP.per.Capita.':'Economy (GDP per Capita)'}, inplace=True)\n",
    "h17.rename(columns = {'Health..Life.Expectancy.':'Health (Life Expectancy)'}, inplace=True)\n",
    "h17.rename(columns = {'Trust..Government.Corruption.':'Trust (Government Corruption)'}, inplace=True)\n",
    "\n",
    "# Checking shape of datasets\n",
    "print(f'h15 has shape {h15.shape}')\n",
    "print(f'h16 has shape {h16.shape}')\n",
    "print(f'h17 has shape {h17.shape}')"
   ]
  },
  {
   "cell_type": "markdown",
   "metadata": {},
   "source": [
    "The above results show that the datasets have different shapes. Thus, some of the datasets must have different variables, which is examined below and only needed variables are kept before merging the data from the 3 years."
   ]
  },
  {
   "cell_type": "code",
   "execution_count": 3,
   "metadata": {},
   "outputs": [
    {
     "name": "stdout",
     "output_type": "stream",
     "text": [
      "{'Country', 'Freedom', 'Happiness Score', 'Health (Life Expectancy)', 'Generosity', 'Happiness Rank', 'Trust (Government Corruption)', 'Family', 'Economy (GDP per Capita)'}\n",
      "From 2015 drop: {'Region', 'Dystopia Residual', 'Standard Error'}\n",
      "From 2016 drop: {'Region', 'Upper Confidence Interval', 'Lower Confidence Interval', 'Dystopia Residual'}\n",
      "From 2017 drop: {'Whisker.low', 'Whisker.high', 'Dystopia.Residual'}\n"
     ]
    }
   ],
   "source": [
    "# Investigating which variables differ in the respective years\n",
    "h15var = list(h15.columns)\n",
    "h16var = list(h16.columns)\n",
    "h17var = list(h17.columns)\n",
    "\n",
    "# Finding the variables that are in all 3 data sets\n",
    "keep = set(h15var).intersection(h16var, h17var)\n",
    "print(keep)\n",
    "\n",
    "# Finding what variables to drop from each data set\n",
    "d15 = set(h15var).difference(keep)\n",
    "d16 = set(h16var).difference(keep)\n",
    "d17 = set(h17var).difference(keep)\n",
    "\n",
    "print(f'From 2015 drop: {d15}')\n",
    "print(f'From 2016 drop: {d16}')\n",
    "print(f'From 2017 drop: {d17}')"
   ]
  },
  {
   "cell_type": "code",
   "execution_count": 4,
   "metadata": {},
   "outputs": [],
   "source": [
    "# Dropping the variables found above\n",
    "h15.drop(d15, axis=1, inplace=True)\n",
    "h16.drop(d16, axis=1, inplace=True)\n",
    "h17.drop(d17, axis=1, inplace=True)"
   ]
  },
  {
   "cell_type": "code",
   "execution_count": 5,
   "metadata": {},
   "outputs": [
    {
     "name": "stdout",
     "output_type": "stream",
     "text": [
      "{'Djibouti', 'Oman', 'Somaliland region', 'Swaziland'}\n"
     ]
    }
   ],
   "source": [
    "# Checking for which countries we do not have data\n",
    "h15c = list(h15['Country'])\n",
    "h16c = list(h16['Country'])\n",
    "h17c = list(h17['Country'])\n",
    "\n",
    "miss = set(h15c).difference(h16c,h17c)\n",
    "print(miss)"
   ]
  },
  {
   "cell_type": "markdown",
   "metadata": {},
   "source": [
    "Now the datasets have the same variables. They still differ in rows, which is probably a difference in countries from year to year. Now we append the data. However, we append a year column is added so we can compare data from different years in our analysis.\n",
    "#### Appending the data sets"
   ]
  },
  {
   "cell_type": "code",
   "execution_count": 6,
   "metadata": {},
   "outputs": [
    {
     "name": "stdout",
     "output_type": "stream",
     "text": [
      "(470, 10)\n"
     ]
    }
   ],
   "source": [
    "# Adding year column\n",
    "h15['Year'] = '2015'\n",
    "h16['Year'] = '2016'\n",
    "h17['Year'] = '2017'\n",
    "h15.head(1)\n",
    "\n",
    "# Appending datasets\n",
    "hap = pd.concat([h15,h16,h17], sort=True)\n",
    "print(hap.shape)"
   ]
  },
  {
   "cell_type": "markdown",
   "metadata": {},
   "source": [
    "## Data Analysis\n",
    "In this section we take a closer look on the data and try to find out what makes countries happy."
   ]
  },
  {
   "cell_type": "markdown",
   "metadata": {},
   "source": [
    "#### The Happiest Countries "
   ]
  },
  {
   "cell_type": "code",
   "execution_count": 7,
   "metadata": {},
   "outputs": [
    {
     "name": "stdout",
     "output_type": "stream",
     "text": [
      "\u001b[1mTop 5 Happy Countries in 2015\u001b[0m\n",
      "Happiness Rank      Country  Happiness Score\n",
      "             1  Switzerland            7.587\n",
      "             2      Iceland            7.561\n",
      "             3      Denmark            7.527\n",
      "             4       Norway            7.522\n",
      "             5       Canada            7.427\n",
      "\u001b[1mTop 5 Happy Countries in 2016\u001b[0m\n",
      "Happiness Rank      Country  Happiness Score\n",
      "             1      Denmark            7.526\n",
      "             2  Switzerland            7.509\n",
      "             3      Iceland            7.501\n",
      "             4       Norway            7.498\n",
      "             5      Finland            7.413\n",
      "\u001b[1mTop 5 Happy Countries in 2017\u001b[0m\n",
      "Happiness Rank      Country  Happiness Score\n",
      "             1       Norway            7.537\n",
      "             2      Denmark            7.522\n",
      "             3      Iceland            7.504\n",
      "             4  Switzerland            7.494\n",
      "             5      Finland            7.469\n"
     ]
    }
   ],
   "source": [
    "# Below is used to print text in bold\n",
    "BOLD = '\\033[1m'\n",
    "END = '\\033[0m'\n",
    "\n",
    "# Creating tables for top 5 happy countries in the 3 years \n",
    "fiv15 = pd.DataFrame(h15, columns = ['Happiness Rank', 'Country', 'Happiness Score']).head(5)\n",
    "print(BOLD + 'Top 5 Happy Countries in 2015' + END)\n",
    "print(fiv15.to_string(index=False))\n",
    "\n",
    "fiv16 = pd.DataFrame(h16, columns = ['Happiness Rank', 'Country', 'Happiness Score']).head(5)\n",
    "print(BOLD + 'Top 5 Happy Countries in 2016' + END)\n",
    "print(fiv16.to_string(index=False))\n",
    "\n",
    "fiv17 = pd.DataFrame(h17, columns = ['Happiness Rank', 'Country', 'Happiness Score']).head(5)\n",
    "print(BOLD + 'Top 5 Happy Countries in 2017' + END)\n",
    "print(fiv17.to_string(index=False))"
   ]
  },
  {
   "cell_type": "markdown",
   "metadata": {},
   "source": [
    "Over the 3 years only one country differs in the top 5 - namely Canada that is a top 5 happy country in 2015 but then slides out the next two years where it is replaced by Finland."
   ]
  },
  {
   "cell_type": "code",
   "execution_count": 29,
   "metadata": {},
   "outputs": [
    {
     "data": {
      "text/html": [
       "\n",
       "    <div class=\"bk-root\">\n",
       "        <a href=\"https://bokeh.pydata.org\" target=\"_blank\" class=\"bk-logo bk-logo-small bk-logo-notebook\"></a>\n",
       "        <span id=\"6914\">Loading BokehJS ...</span>\n",
       "    </div>"
      ]
     },
     "metadata": {},
     "output_type": "display_data"
    },
    {
     "data": {
      "application/javascript": [
       "\n",
       "(function(root) {\n",
       "  function now() {\n",
       "    return new Date();\n",
       "  }\n",
       "\n",
       "  var force = true;\n",
       "\n",
       "  if (typeof (root._bokeh_onload_callbacks) === \"undefined\" || force === true) {\n",
       "    root._bokeh_onload_callbacks = [];\n",
       "    root._bokeh_is_loading = undefined;\n",
       "  }\n",
       "\n",
       "  var JS_MIME_TYPE = 'application/javascript';\n",
       "  var HTML_MIME_TYPE = 'text/html';\n",
       "  var EXEC_MIME_TYPE = 'application/vnd.bokehjs_exec.v0+json';\n",
       "  var CLASS_NAME = 'output_bokeh rendered_html';\n",
       "\n",
       "  /**\n",
       "   * Render data to the DOM node\n",
       "   */\n",
       "  function render(props, node) {\n",
       "    var script = document.createElement(\"script\");\n",
       "    node.appendChild(script);\n",
       "  }\n",
       "\n",
       "  /**\n",
       "   * Handle when an output is cleared or removed\n",
       "   */\n",
       "  function handleClearOutput(event, handle) {\n",
       "    var cell = handle.cell;\n",
       "\n",
       "    var id = cell.output_area._bokeh_element_id;\n",
       "    var server_id = cell.output_area._bokeh_server_id;\n",
       "    // Clean up Bokeh references\n",
       "    if (id != null && id in Bokeh.index) {\n",
       "      Bokeh.index[id].model.document.clear();\n",
       "      delete Bokeh.index[id];\n",
       "    }\n",
       "\n",
       "    if (server_id !== undefined) {\n",
       "      // Clean up Bokeh references\n",
       "      var cmd = \"from bokeh.io.state import curstate; print(curstate().uuid_to_server['\" + server_id + \"'].get_sessions()[0].document.roots[0]._id)\";\n",
       "      cell.notebook.kernel.execute(cmd, {\n",
       "        iopub: {\n",
       "          output: function(msg) {\n",
       "            var id = msg.content.text.trim();\n",
       "            if (id in Bokeh.index) {\n",
       "              Bokeh.index[id].model.document.clear();\n",
       "              delete Bokeh.index[id];\n",
       "            }\n",
       "          }\n",
       "        }\n",
       "      });\n",
       "      // Destroy server and session\n",
       "      var cmd = \"import bokeh.io.notebook as ion; ion.destroy_server('\" + server_id + \"')\";\n",
       "      cell.notebook.kernel.execute(cmd);\n",
       "    }\n",
       "  }\n",
       "\n",
       "  /**\n",
       "   * Handle when a new output is added\n",
       "   */\n",
       "  function handleAddOutput(event, handle) {\n",
       "    var output_area = handle.output_area;\n",
       "    var output = handle.output;\n",
       "\n",
       "    // limit handleAddOutput to display_data with EXEC_MIME_TYPE content only\n",
       "    if ((output.output_type != \"display_data\") || (!output.data.hasOwnProperty(EXEC_MIME_TYPE))) {\n",
       "      return\n",
       "    }\n",
       "\n",
       "    var toinsert = output_area.element.find(\".\" + CLASS_NAME.split(' ')[0]);\n",
       "\n",
       "    if (output.metadata[EXEC_MIME_TYPE][\"id\"] !== undefined) {\n",
       "      toinsert[toinsert.length - 1].firstChild.textContent = output.data[JS_MIME_TYPE];\n",
       "      // store reference to embed id on output_area\n",
       "      output_area._bokeh_element_id = output.metadata[EXEC_MIME_TYPE][\"id\"];\n",
       "    }\n",
       "    if (output.metadata[EXEC_MIME_TYPE][\"server_id\"] !== undefined) {\n",
       "      var bk_div = document.createElement(\"div\");\n",
       "      bk_div.innerHTML = output.data[HTML_MIME_TYPE];\n",
       "      var script_attrs = bk_div.children[0].attributes;\n",
       "      for (var i = 0; i < script_attrs.length; i++) {\n",
       "        toinsert[toinsert.length - 1].firstChild.setAttribute(script_attrs[i].name, script_attrs[i].value);\n",
       "      }\n",
       "      // store reference to server id on output_area\n",
       "      output_area._bokeh_server_id = output.metadata[EXEC_MIME_TYPE][\"server_id\"];\n",
       "    }\n",
       "  }\n",
       "\n",
       "  function register_renderer(events, OutputArea) {\n",
       "\n",
       "    function append_mime(data, metadata, element) {\n",
       "      // create a DOM node to render to\n",
       "      var toinsert = this.create_output_subarea(\n",
       "        metadata,\n",
       "        CLASS_NAME,\n",
       "        EXEC_MIME_TYPE\n",
       "      );\n",
       "      this.keyboard_manager.register_events(toinsert);\n",
       "      // Render to node\n",
       "      var props = {data: data, metadata: metadata[EXEC_MIME_TYPE]};\n",
       "      render(props, toinsert[toinsert.length - 1]);\n",
       "      element.append(toinsert);\n",
       "      return toinsert\n",
       "    }\n",
       "\n",
       "    /* Handle when an output is cleared or removed */\n",
       "    events.on('clear_output.CodeCell', handleClearOutput);\n",
       "    events.on('delete.Cell', handleClearOutput);\n",
       "\n",
       "    /* Handle when a new output is added */\n",
       "    events.on('output_added.OutputArea', handleAddOutput);\n",
       "\n",
       "    /**\n",
       "     * Register the mime type and append_mime function with output_area\n",
       "     */\n",
       "    OutputArea.prototype.register_mime_type(EXEC_MIME_TYPE, append_mime, {\n",
       "      /* Is output safe? */\n",
       "      safe: true,\n",
       "      /* Index of renderer in `output_area.display_order` */\n",
       "      index: 0\n",
       "    });\n",
       "  }\n",
       "\n",
       "  // register the mime type if in Jupyter Notebook environment and previously unregistered\n",
       "  if (root.Jupyter !== undefined) {\n",
       "    var events = require('base/js/events');\n",
       "    var OutputArea = require('notebook/js/outputarea').OutputArea;\n",
       "\n",
       "    if (OutputArea.prototype.mime_types().indexOf(EXEC_MIME_TYPE) == -1) {\n",
       "      register_renderer(events, OutputArea);\n",
       "    }\n",
       "  }\n",
       "\n",
       "  \n",
       "  if (typeof (root._bokeh_timeout) === \"undefined\" || force === true) {\n",
       "    root._bokeh_timeout = Date.now() + 5000;\n",
       "    root._bokeh_failed_load = false;\n",
       "  }\n",
       "\n",
       "  var NB_LOAD_WARNING = {'data': {'text/html':\n",
       "     \"<div style='background-color: #fdd'>\\n\"+\n",
       "     \"<p>\\n\"+\n",
       "     \"BokehJS does not appear to have successfully loaded. If loading BokehJS from CDN, this \\n\"+\n",
       "     \"may be due to a slow or bad network connection. Possible fixes:\\n\"+\n",
       "     \"</p>\\n\"+\n",
       "     \"<ul>\\n\"+\n",
       "     \"<li>re-rerun `output_notebook()` to attempt to load from CDN again, or</li>\\n\"+\n",
       "     \"<li>use INLINE resources instead, as so:</li>\\n\"+\n",
       "     \"</ul>\\n\"+\n",
       "     \"<code>\\n\"+\n",
       "     \"from bokeh.resources import INLINE\\n\"+\n",
       "     \"output_notebook(resources=INLINE)\\n\"+\n",
       "     \"</code>\\n\"+\n",
       "     \"</div>\"}};\n",
       "\n",
       "  function display_loaded() {\n",
       "    var el = document.getElementById(\"6914\");\n",
       "    if (el != null) {\n",
       "      el.textContent = \"BokehJS is loading...\";\n",
       "    }\n",
       "    if (root.Bokeh !== undefined) {\n",
       "      if (el != null) {\n",
       "        el.textContent = \"BokehJS \" + root.Bokeh.version + \" successfully loaded.\";\n",
       "      }\n",
       "    } else if (Date.now() < root._bokeh_timeout) {\n",
       "      setTimeout(display_loaded, 100)\n",
       "    }\n",
       "  }\n",
       "\n",
       "\n",
       "  function run_callbacks() {\n",
       "    try {\n",
       "      root._bokeh_onload_callbacks.forEach(function(callback) { callback() });\n",
       "    }\n",
       "    finally {\n",
       "      delete root._bokeh_onload_callbacks\n",
       "    }\n",
       "    console.info(\"Bokeh: all callbacks have finished\");\n",
       "  }\n",
       "\n",
       "  function load_libs(js_urls, callback) {\n",
       "    root._bokeh_onload_callbacks.push(callback);\n",
       "    if (root._bokeh_is_loading > 0) {\n",
       "      console.log(\"Bokeh: BokehJS is being loaded, scheduling callback at\", now());\n",
       "      return null;\n",
       "    }\n",
       "    if (js_urls == null || js_urls.length === 0) {\n",
       "      run_callbacks();\n",
       "      return null;\n",
       "    }\n",
       "    console.log(\"Bokeh: BokehJS not loaded, scheduling load and callback at\", now());\n",
       "    root._bokeh_is_loading = js_urls.length;\n",
       "    for (var i = 0; i < js_urls.length; i++) {\n",
       "      var url = js_urls[i];\n",
       "      var s = document.createElement('script');\n",
       "      s.src = url;\n",
       "      s.async = false;\n",
       "      s.onreadystatechange = s.onload = function() {\n",
       "        root._bokeh_is_loading--;\n",
       "        if (root._bokeh_is_loading === 0) {\n",
       "          console.log(\"Bokeh: all BokehJS libraries loaded\");\n",
       "          run_callbacks()\n",
       "        }\n",
       "      };\n",
       "      s.onerror = function() {\n",
       "        console.warn(\"failed to load library \" + url);\n",
       "      };\n",
       "      console.log(\"Bokeh: injecting script tag for BokehJS library: \", url);\n",
       "      document.getElementsByTagName(\"head\")[0].appendChild(s);\n",
       "    }\n",
       "  };var element = document.getElementById(\"6914\");\n",
       "  if (element == null) {\n",
       "    console.log(\"Bokeh: ERROR: autoload.js configured with elementid '6914' but no matching script tag was found. \")\n",
       "    return false;\n",
       "  }\n",
       "\n",
       "  var js_urls = [\"https://cdn.pydata.org/bokeh/release/bokeh-1.0.2.min.js\", \"https://cdn.pydata.org/bokeh/release/bokeh-widgets-1.0.2.min.js\", \"https://cdn.pydata.org/bokeh/release/bokeh-tables-1.0.2.min.js\", \"https://cdn.pydata.org/bokeh/release/bokeh-gl-1.0.2.min.js\"];\n",
       "\n",
       "  var inline_js = [\n",
       "    function(Bokeh) {\n",
       "      Bokeh.set_log_level(\"info\");\n",
       "    },\n",
       "    \n",
       "    function(Bokeh) {\n",
       "      \n",
       "    },\n",
       "    function(Bokeh) {\n",
       "      console.log(\"Bokeh: injecting CSS: https://cdn.pydata.org/bokeh/release/bokeh-1.0.2.min.css\");\n",
       "      Bokeh.embed.inject_css(\"https://cdn.pydata.org/bokeh/release/bokeh-1.0.2.min.css\");\n",
       "      console.log(\"Bokeh: injecting CSS: https://cdn.pydata.org/bokeh/release/bokeh-widgets-1.0.2.min.css\");\n",
       "      Bokeh.embed.inject_css(\"https://cdn.pydata.org/bokeh/release/bokeh-widgets-1.0.2.min.css\");\n",
       "      console.log(\"Bokeh: injecting CSS: https://cdn.pydata.org/bokeh/release/bokeh-tables-1.0.2.min.css\");\n",
       "      Bokeh.embed.inject_css(\"https://cdn.pydata.org/bokeh/release/bokeh-tables-1.0.2.min.css\");\n",
       "    }\n",
       "  ];\n",
       "\n",
       "  function run_inline_js() {\n",
       "    \n",
       "    if ((root.Bokeh !== undefined) || (force === true)) {\n",
       "      for (var i = 0; i < inline_js.length; i++) {\n",
       "        inline_js[i].call(root, root.Bokeh);\n",
       "      }if (force === true) {\n",
       "        display_loaded();\n",
       "      }} else if (Date.now() < root._bokeh_timeout) {\n",
       "      setTimeout(run_inline_js, 100);\n",
       "    } else if (!root._bokeh_failed_load) {\n",
       "      console.log(\"Bokeh: BokehJS failed to load within specified timeout.\");\n",
       "      root._bokeh_failed_load = true;\n",
       "    } else if (force !== true) {\n",
       "      var cell = $(document.getElementById(\"6914\")).parents('.cell').data().cell;\n",
       "      cell.output_area.append_execute_result(NB_LOAD_WARNING)\n",
       "    }\n",
       "\n",
       "  }\n",
       "\n",
       "  if (root._bokeh_is_loading === 0) {\n",
       "    console.log(\"Bokeh: BokehJS loaded, going straight to plotting\");\n",
       "    run_inline_js();\n",
       "  } else {\n",
       "    load_libs(js_urls, function() {\n",
       "      console.log(\"Bokeh: BokehJS plotting callback run at\", now());\n",
       "      run_inline_js();\n",
       "    });\n",
       "  }\n",
       "}(window));"
      ],
      "application/vnd.bokehjs_load.v0+json": "\n(function(root) {\n  function now() {\n    return new Date();\n  }\n\n  var force = true;\n\n  if (typeof (root._bokeh_onload_callbacks) === \"undefined\" || force === true) {\n    root._bokeh_onload_callbacks = [];\n    root._bokeh_is_loading = undefined;\n  }\n\n  \n\n  \n  if (typeof (root._bokeh_timeout) === \"undefined\" || force === true) {\n    root._bokeh_timeout = Date.now() + 5000;\n    root._bokeh_failed_load = false;\n  }\n\n  var NB_LOAD_WARNING = {'data': {'text/html':\n     \"<div style='background-color: #fdd'>\\n\"+\n     \"<p>\\n\"+\n     \"BokehJS does not appear to have successfully loaded. If loading BokehJS from CDN, this \\n\"+\n     \"may be due to a slow or bad network connection. Possible fixes:\\n\"+\n     \"</p>\\n\"+\n     \"<ul>\\n\"+\n     \"<li>re-rerun `output_notebook()` to attempt to load from CDN again, or</li>\\n\"+\n     \"<li>use INLINE resources instead, as so:</li>\\n\"+\n     \"</ul>\\n\"+\n     \"<code>\\n\"+\n     \"from bokeh.resources import INLINE\\n\"+\n     \"output_notebook(resources=INLINE)\\n\"+\n     \"</code>\\n\"+\n     \"</div>\"}};\n\n  function display_loaded() {\n    var el = document.getElementById(\"6914\");\n    if (el != null) {\n      el.textContent = \"BokehJS is loading...\";\n    }\n    if (root.Bokeh !== undefined) {\n      if (el != null) {\n        el.textContent = \"BokehJS \" + root.Bokeh.version + \" successfully loaded.\";\n      }\n    } else if (Date.now() < root._bokeh_timeout) {\n      setTimeout(display_loaded, 100)\n    }\n  }\n\n\n  function run_callbacks() {\n    try {\n      root._bokeh_onload_callbacks.forEach(function(callback) { callback() });\n    }\n    finally {\n      delete root._bokeh_onload_callbacks\n    }\n    console.info(\"Bokeh: all callbacks have finished\");\n  }\n\n  function load_libs(js_urls, callback) {\n    root._bokeh_onload_callbacks.push(callback);\n    if (root._bokeh_is_loading > 0) {\n      console.log(\"Bokeh: BokehJS is being loaded, scheduling callback at\", now());\n      return null;\n    }\n    if (js_urls == null || js_urls.length === 0) {\n      run_callbacks();\n      return null;\n    }\n    console.log(\"Bokeh: BokehJS not loaded, scheduling load and callback at\", now());\n    root._bokeh_is_loading = js_urls.length;\n    for (var i = 0; i < js_urls.length; i++) {\n      var url = js_urls[i];\n      var s = document.createElement('script');\n      s.src = url;\n      s.async = false;\n      s.onreadystatechange = s.onload = function() {\n        root._bokeh_is_loading--;\n        if (root._bokeh_is_loading === 0) {\n          console.log(\"Bokeh: all BokehJS libraries loaded\");\n          run_callbacks()\n        }\n      };\n      s.onerror = function() {\n        console.warn(\"failed to load library \" + url);\n      };\n      console.log(\"Bokeh: injecting script tag for BokehJS library: \", url);\n      document.getElementsByTagName(\"head\")[0].appendChild(s);\n    }\n  };var element = document.getElementById(\"6914\");\n  if (element == null) {\n    console.log(\"Bokeh: ERROR: autoload.js configured with elementid '6914' but no matching script tag was found. \")\n    return false;\n  }\n\n  var js_urls = [\"https://cdn.pydata.org/bokeh/release/bokeh-1.0.2.min.js\", \"https://cdn.pydata.org/bokeh/release/bokeh-widgets-1.0.2.min.js\", \"https://cdn.pydata.org/bokeh/release/bokeh-tables-1.0.2.min.js\", \"https://cdn.pydata.org/bokeh/release/bokeh-gl-1.0.2.min.js\"];\n\n  var inline_js = [\n    function(Bokeh) {\n      Bokeh.set_log_level(\"info\");\n    },\n    \n    function(Bokeh) {\n      \n    },\n    function(Bokeh) {\n      console.log(\"Bokeh: injecting CSS: https://cdn.pydata.org/bokeh/release/bokeh-1.0.2.min.css\");\n      Bokeh.embed.inject_css(\"https://cdn.pydata.org/bokeh/release/bokeh-1.0.2.min.css\");\n      console.log(\"Bokeh: injecting CSS: https://cdn.pydata.org/bokeh/release/bokeh-widgets-1.0.2.min.css\");\n      Bokeh.embed.inject_css(\"https://cdn.pydata.org/bokeh/release/bokeh-widgets-1.0.2.min.css\");\n      console.log(\"Bokeh: injecting CSS: https://cdn.pydata.org/bokeh/release/bokeh-tables-1.0.2.min.css\");\n      Bokeh.embed.inject_css(\"https://cdn.pydata.org/bokeh/release/bokeh-tables-1.0.2.min.css\");\n    }\n  ];\n\n  function run_inline_js() {\n    \n    if ((root.Bokeh !== undefined) || (force === true)) {\n      for (var i = 0; i < inline_js.length; i++) {\n        inline_js[i].call(root, root.Bokeh);\n      }if (force === true) {\n        display_loaded();\n      }} else if (Date.now() < root._bokeh_timeout) {\n      setTimeout(run_inline_js, 100);\n    } else if (!root._bokeh_failed_load) {\n      console.log(\"Bokeh: BokehJS failed to load within specified timeout.\");\n      root._bokeh_failed_load = true;\n    } else if (force !== true) {\n      var cell = $(document.getElementById(\"6914\")).parents('.cell').data().cell;\n      cell.output_area.append_execute_result(NB_LOAD_WARNING)\n    }\n\n  }\n\n  if (root._bokeh_is_loading === 0) {\n    console.log(\"Bokeh: BokehJS loaded, going straight to plotting\");\n    run_inline_js();\n  } else {\n    load_libs(js_urls, function() {\n      console.log(\"Bokeh: BokehJS plotting callback run at\", now());\n      run_inline_js();\n    });\n  }\n}(window));"
     },
     "metadata": {},
     "output_type": "display_data"
    },
    {
     "name": "stdout",
     "output_type": "stream",
     "text": [
      "\u001b[1mCorrelation plots 2015\u001b[0m\n"
     ]
    },
    {
     "data": {
      "text/html": [
       "\n",
       "\n",
       "\n",
       "\n",
       "\n",
       "\n",
       "  <div class=\"bk-root\" id=\"7f4b9478-d9b3-4eb9-8835-22da90202c00\"></div>\n"
      ]
     },
     "metadata": {},
     "output_type": "display_data"
    },
    {
     "data": {
      "application/javascript": [
       "(function(root) {\n",
       "  function embed_document(root) {\n",
       "    \n",
       "  var docs_json = {\"50338dbd-70f0-449a-927e-f277106ef844\":{\"roots\":{\"references\":[{\"attributes\":{\"children\":[{\"id\":\"6918\",\"subtype\":\"Figure\",\"type\":\"Plot\"},{\"id\":\"6957\",\"subtype\":\"Figure\",\"type\":\"Plot\"},{\"id\":\"6996\",\"subtype\":\"Figure\",\"type\":\"Plot\"},{\"id\":\"7035\",\"subtype\":\"Figure\",\"type\":\"Plot\"},{\"id\":\"7074\",\"subtype\":\"Figure\",\"type\":\"Plot\"},{\"id\":\"7113\",\"subtype\":\"Figure\",\"type\":\"Plot\"}]},\"id\":\"7152\",\"type\":\"Row\"},{\"attributes\":{\"axis_label\":\"Generosity\",\"formatter\":{\"id\":\"7521\",\"type\":\"BasicTickFormatter\"},\"plot\":{\"id\":\"7035\",\"subtype\":\"Figure\",\"type\":\"Plot\"},\"ticker\":{\"id\":\"7045\",\"type\":\"BasicTicker\"}},\"id\":\"7044\",\"type\":\"LinearAxis\"},{\"attributes\":{},\"id\":\"7045\",\"type\":\"BasicTicker\"},{\"attributes\":{\"plot\":{\"id\":\"7035\",\"subtype\":\"Figure\",\"type\":\"Plot\"},\"ticker\":{\"id\":\"7045\",\"type\":\"BasicTicker\"}},\"id\":\"7048\",\"type\":\"Grid\"},{\"attributes\":{\"axis_label\":\"Happiness Score\",\"formatter\":{\"id\":\"7523\",\"type\":\"BasicTickFormatter\"},\"plot\":{\"id\":\"7035\",\"subtype\":\"Figure\",\"type\":\"Plot\"},\"ticker\":{\"id\":\"7050\",\"type\":\"BasicTicker\"}},\"id\":\"7049\",\"type\":\"LinearAxis\"},{\"attributes\":{},\"id\":\"7050\",\"type\":\"BasicTicker\"},{\"attributes\":{\"dimension\":1,\"plot\":{\"id\":\"7035\",\"subtype\":\"Figure\",\"type\":\"Plot\"},\"ticker\":{\"id\":\"7050\",\"type\":\"BasicTicker\"}},\"id\":\"7053\",\"type\":\"Grid\"},{\"attributes\":{\"fill_alpha\":{\"value\":0.1},\"fill_color\":{\"value\":\"#1f77b4\"},\"line_alpha\":{\"value\":0.1},\"line_color\":{\"value\":\"#1f77b4\"},\"x\":{\"field\":\"Generosity\"},\"y\":{\"field\":\"Happiness Score\"}},\"id\":\"7071\",\"type\":\"Circle\"},{\"attributes\":{\"fill_color\":{\"value\":\"#1f77b4\"},\"line_color\":{\"value\":\"#1f77b4\"},\"x\":{\"field\":\"Generosity\"},\"y\":{\"field\":\"Happiness Score\"}},\"id\":\"7070\",\"type\":\"Circle\"},{\"attributes\":{\"data_source\":{\"id\":\"6915\",\"type\":\"ColumnDataSource\"},\"glyph\":{\"id\":\"7070\",\"type\":\"Circle\"},\"hover_glyph\":null,\"muted_glyph\":null,\"nonselection_glyph\":{\"id\":\"7071\",\"type\":\"Circle\"},\"selection_glyph\":null,\"view\":{\"id\":\"7073\",\"type\":\"CDSView\"}},\"id\":\"7072\",\"type\":\"GlyphRenderer\"},{\"attributes\":{},\"id\":\"7054\",\"type\":\"PanTool\"},{\"attributes\":{},\"id\":\"7055\",\"type\":\"WheelZoomTool\"},{\"attributes\":{\"overlay\":{\"id\":\"7062\",\"type\":\"BoxAnnotation\"}},\"id\":\"7056\",\"type\":\"BoxZoomTool\"},{\"attributes\":{},\"id\":\"7057\",\"type\":\"SaveTool\"},{\"attributes\":{},\"id\":\"7058\",\"type\":\"ResetTool\"},{\"attributes\":{},\"id\":\"7059\",\"type\":\"HelpTool\"},{\"attributes\":{\"active_drag\":\"auto\",\"active_inspect\":\"auto\",\"active_multi\":null,\"active_scroll\":\"auto\",\"active_tap\":\"auto\",\"tools\":[{\"id\":\"7054\",\"type\":\"PanTool\"},{\"id\":\"7055\",\"type\":\"WheelZoomTool\"},{\"id\":\"7056\",\"type\":\"BoxZoomTool\"},{\"id\":\"7057\",\"type\":\"SaveTool\"},{\"id\":\"7058\",\"type\":\"ResetTool\"},{\"id\":\"7059\",\"type\":\"HelpTool\"}]},\"id\":\"7060\",\"type\":\"Toolbar\"},{\"attributes\":{\"bottom_units\":\"screen\",\"fill_alpha\":{\"value\":0.5},\"fill_color\":{\"value\":\"lightgrey\"},\"left_units\":\"screen\",\"level\":\"overlay\",\"line_alpha\":{\"value\":1.0},\"line_color\":{\"value\":\"black\"},\"line_dash\":[4,4],\"line_width\":{\"value\":2},\"plot\":null,\"render_mode\":\"css\",\"right_units\":\"screen\",\"top_units\":\"screen\"},\"id\":\"7062\",\"type\":\"BoxAnnotation\"},{\"attributes\":{\"source\":{\"id\":\"6915\",\"type\":\"ColumnDataSource\"}},\"id\":\"7073\",\"type\":\"CDSView\"},{\"attributes\":{},\"id\":\"7527\",\"type\":\"BasicTickFormatter\"},{\"attributes\":{\"callback\":null},\"id\":\"7075\",\"type\":\"DataRange1d\"},{\"attributes\":{\"callback\":null},\"id\":\"7077\",\"type\":\"DataRange1d\"},{\"attributes\":{},\"id\":\"7079\",\"type\":\"LinearScale\"},{\"attributes\":{},\"id\":\"7081\",\"type\":\"LinearScale\"},{\"attributes\":{\"axis_label\":\"Trust (Government Corruption)\",\"formatter\":{\"id\":\"7525\",\"type\":\"BasicTickFormatter\"},\"plot\":{\"id\":\"7074\",\"subtype\":\"Figure\",\"type\":\"Plot\"},\"ticker\":{\"id\":\"7084\",\"type\":\"BasicTicker\"}},\"id\":\"7083\",\"type\":\"LinearAxis\"},{\"attributes\":{},\"id\":\"7098\",\"type\":\"HelpTool\"},{\"attributes\":{},\"id\":\"7084\",\"type\":\"BasicTicker\"},{\"attributes\":{\"below\":[{\"id\":\"6927\",\"type\":\"LinearAxis\"}],\"left\":[{\"id\":\"6932\",\"type\":\"LinearAxis\"}],\"plot_height\":200,\"plot_width\":250,\"renderers\":[{\"id\":\"6927\",\"type\":\"LinearAxis\"},{\"id\":\"6931\",\"type\":\"Grid\"},{\"id\":\"6932\",\"type\":\"LinearAxis\"},{\"id\":\"6936\",\"type\":\"Grid\"},{\"id\":\"6945\",\"type\":\"BoxAnnotation\"},{\"id\":\"6955\",\"type\":\"GlyphRenderer\"}],\"title\":{\"id\":\"7497\",\"type\":\"Title\"},\"toolbar\":{\"id\":\"6943\",\"type\":\"Toolbar\"},\"x_range\":{\"id\":\"6919\",\"type\":\"DataRange1d\"},\"x_scale\":{\"id\":\"6923\",\"type\":\"LinearScale\"},\"y_range\":{\"id\":\"6921\",\"type\":\"DataRange1d\"},\"y_scale\":{\"id\":\"6925\",\"type\":\"LinearScale\"}},\"id\":\"6918\",\"subtype\":\"Figure\",\"type\":\"Plot\"},{\"attributes\":{\"plot\":{\"id\":\"7074\",\"subtype\":\"Figure\",\"type\":\"Plot\"},\"ticker\":{\"id\":\"7084\",\"type\":\"BasicTicker\"}},\"id\":\"7087\",\"type\":\"Grid\"},{\"attributes\":{\"data_source\":{\"id\":\"6915\",\"type\":\"ColumnDataSource\"},\"glyph\":{\"id\":\"6953\",\"type\":\"Circle\"},\"hover_glyph\":null,\"muted_glyph\":null,\"nonselection_glyph\":{\"id\":\"6954\",\"type\":\"Circle\"},\"selection_glyph\":null,\"view\":{\"id\":\"6956\",\"type\":\"CDSView\"}},\"id\":\"6955\",\"type\":\"GlyphRenderer\"},{\"attributes\":{\"axis_label\":\"Happiness Score\",\"formatter\":{\"id\":\"7527\",\"type\":\"BasicTickFormatter\"},\"plot\":{\"id\":\"7074\",\"subtype\":\"Figure\",\"type\":\"Plot\"},\"ticker\":{\"id\":\"7089\",\"type\":\"BasicTicker\"}},\"id\":\"7088\",\"type\":\"LinearAxis\"},{\"attributes\":{},\"id\":\"7089\",\"type\":\"BasicTicker\"},{\"attributes\":{\"dimension\":1,\"plot\":{\"id\":\"7074\",\"subtype\":\"Figure\",\"type\":\"Plot\"},\"ticker\":{\"id\":\"7089\",\"type\":\"BasicTicker\"}},\"id\":\"7092\",\"type\":\"Grid\"},{\"attributes\":{\"fill_alpha\":{\"value\":0.1},\"fill_color\":{\"value\":\"#1f77b4\"},\"line_alpha\":{\"value\":0.1},\"line_color\":{\"value\":\"#1f77b4\"},\"x\":{\"field\":\"Trust (Government Corruption)\"},\"y\":{\"field\":\"Happiness Score\"}},\"id\":\"7110\",\"type\":\"Circle\"},{\"attributes\":{\"below\":[{\"id\":\"7122\",\"type\":\"LinearAxis\"}],\"left\":[{\"id\":\"7127\",\"type\":\"LinearAxis\"}],\"plot_height\":200,\"plot_width\":250,\"renderers\":[{\"id\":\"7122\",\"type\":\"LinearAxis\"},{\"id\":\"7126\",\"type\":\"Grid\"},{\"id\":\"7127\",\"type\":\"LinearAxis\"},{\"id\":\"7131\",\"type\":\"Grid\"},{\"id\":\"7140\",\"type\":\"BoxAnnotation\"},{\"id\":\"7150\",\"type\":\"GlyphRenderer\"}],\"title\":{\"id\":\"7507\",\"type\":\"Title\"},\"toolbar\":{\"id\":\"7138\",\"type\":\"Toolbar\"},\"x_range\":{\"id\":\"7114\",\"type\":\"DataRange1d\"},\"x_scale\":{\"id\":\"7118\",\"type\":\"LinearScale\"},\"y_range\":{\"id\":\"7116\",\"type\":\"DataRange1d\"},\"y_scale\":{\"id\":\"7120\",\"type\":\"LinearScale\"}},\"id\":\"7113\",\"subtype\":\"Figure\",\"type\":\"Plot\"},{\"attributes\":{\"fill_color\":{\"value\":\"#1f77b4\"},\"line_color\":{\"value\":\"#1f77b4\"},\"x\":{\"field\":\"Trust (Government Corruption)\"},\"y\":{\"field\":\"Happiness Score\"}},\"id\":\"7109\",\"type\":\"Circle\"},{\"attributes\":{\"active_drag\":\"auto\",\"active_inspect\":\"auto\",\"active_multi\":null,\"active_scroll\":\"auto\",\"active_tap\":\"auto\",\"tools\":[{\"id\":\"7093\",\"type\":\"PanTool\"},{\"id\":\"7094\",\"type\":\"WheelZoomTool\"},{\"id\":\"7095\",\"type\":\"BoxZoomTool\"},{\"id\":\"7096\",\"type\":\"SaveTool\"},{\"id\":\"7097\",\"type\":\"ResetTool\"},{\"id\":\"7098\",\"type\":\"HelpTool\"}]},\"id\":\"7099\",\"type\":\"Toolbar\"},{\"attributes\":{\"fill_color\":{\"value\":\"#1f77b4\"},\"line_color\":{\"value\":\"#1f77b4\"},\"x\":{\"field\":\"Economy (GDP per Capita)\"},\"y\":{\"field\":\"Happiness Score\"}},\"id\":\"6953\",\"type\":\"Circle\"},{\"attributes\":{},\"id\":\"7093\",\"type\":\"PanTool\"},{\"attributes\":{\"source\":{\"id\":\"6915\",\"type\":\"ColumnDataSource\"}},\"id\":\"6956\",\"type\":\"CDSView\"},{\"attributes\":{},\"id\":\"7094\",\"type\":\"WheelZoomTool\"},{\"attributes\":{\"below\":[{\"id\":\"6966\",\"type\":\"LinearAxis\"}],\"left\":[{\"id\":\"6971\",\"type\":\"LinearAxis\"}],\"plot_height\":200,\"plot_width\":250,\"renderers\":[{\"id\":\"6966\",\"type\":\"LinearAxis\"},{\"id\":\"6970\",\"type\":\"Grid\"},{\"id\":\"6971\",\"type\":\"LinearAxis\"},{\"id\":\"6975\",\"type\":\"Grid\"},{\"id\":\"6984\",\"type\":\"BoxAnnotation\"},{\"id\":\"6994\",\"type\":\"GlyphRenderer\"}],\"title\":{\"id\":\"7499\",\"type\":\"Title\"},\"toolbar\":{\"id\":\"6982\",\"type\":\"Toolbar\"},\"x_range\":{\"id\":\"6958\",\"type\":\"DataRange1d\"},\"x_scale\":{\"id\":\"6962\",\"type\":\"LinearScale\"},\"y_range\":{\"id\":\"6960\",\"type\":\"DataRange1d\"},\"y_scale\":{\"id\":\"6964\",\"type\":\"LinearScale\"}},\"id\":\"6957\",\"subtype\":\"Figure\",\"type\":\"Plot\"},{\"attributes\":{\"overlay\":{\"id\":\"7101\",\"type\":\"BoxAnnotation\"}},\"id\":\"7095\",\"type\":\"BoxZoomTool\"},{\"attributes\":{\"data_source\":{\"id\":\"6915\",\"type\":\"ColumnDataSource\"},\"glyph\":{\"id\":\"7109\",\"type\":\"Circle\"},\"hover_glyph\":null,\"muted_glyph\":null,\"nonselection_glyph\":{\"id\":\"7110\",\"type\":\"Circle\"},\"selection_glyph\":null,\"view\":{\"id\":\"7112\",\"type\":\"CDSView\"}},\"id\":\"7111\",\"type\":\"GlyphRenderer\"},{\"attributes\":{\"fill_alpha\":{\"value\":0.1},\"fill_color\":{\"value\":\"#1f77b4\"},\"line_alpha\":{\"value\":0.1},\"line_color\":{\"value\":\"#1f77b4\"},\"x\":{\"field\":\"Economy (GDP per Capita)\"},\"y\":{\"field\":\"Happiness Score\"}},\"id\":\"6954\",\"type\":\"Circle\"},{\"attributes\":{\"bottom_units\":\"screen\",\"fill_alpha\":{\"value\":0.5},\"fill_color\":{\"value\":\"lightgrey\"},\"left_units\":\"screen\",\"level\":\"overlay\",\"line_alpha\":{\"value\":1.0},\"line_color\":{\"value\":\"black\"},\"line_dash\":[4,4],\"line_width\":{\"value\":2},\"plot\":null,\"render_mode\":\"css\",\"right_units\":\"screen\",\"top_units\":\"screen\"},\"id\":\"7101\",\"type\":\"BoxAnnotation\"},{\"attributes\":{},\"id\":\"7515\",\"type\":\"BasicTickFormatter\"},{\"attributes\":{},\"id\":\"6980\",\"type\":\"ResetTool\"},{\"attributes\":{\"axis_label\":\"Economy (GDP per Capita)\",\"formatter\":{\"id\":\"7509\",\"type\":\"BasicTickFormatter\"},\"plot\":{\"id\":\"6918\",\"subtype\":\"Figure\",\"type\":\"Plot\"},\"ticker\":{\"id\":\"6928\",\"type\":\"BasicTicker\"}},\"id\":\"6927\",\"type\":\"LinearAxis\"},{\"attributes\":{},\"id\":\"6981\",\"type\":\"HelpTool\"},{\"attributes\":{},\"id\":\"7517\",\"type\":\"BasicTickFormatter\"},{\"attributes\":{\"source\":{\"id\":\"6915\",\"type\":\"ColumnDataSource\"}},\"id\":\"7112\",\"type\":\"CDSView\"},{\"attributes\":{},\"id\":\"6925\",\"type\":\"LinearScale\"},{\"attributes\":{\"active_drag\":\"auto\",\"active_inspect\":\"auto\",\"active_multi\":null,\"active_scroll\":\"auto\",\"active_tap\":\"auto\",\"tools\":[{\"id\":\"6976\",\"type\":\"PanTool\"},{\"id\":\"6977\",\"type\":\"WheelZoomTool\"},{\"id\":\"6978\",\"type\":\"BoxZoomTool\"},{\"id\":\"6979\",\"type\":\"SaveTool\"},{\"id\":\"6980\",\"type\":\"ResetTool\"},{\"id\":\"6981\",\"type\":\"HelpTool\"}]},\"id\":\"6982\",\"type\":\"Toolbar\"},{\"attributes\":{},\"id\":\"7519\",\"type\":\"BasicTickFormatter\"},{\"attributes\":{},\"id\":\"6923\",\"type\":\"LinearScale\"},{\"attributes\":{\"data_source\":{\"id\":\"6915\",\"type\":\"ColumnDataSource\"},\"glyph\":{\"id\":\"6992\",\"type\":\"Circle\"},\"hover_glyph\":null,\"muted_glyph\":null,\"nonselection_glyph\":{\"id\":\"6993\",\"type\":\"Circle\"},\"selection_glyph\":null,\"view\":{\"id\":\"6995\",\"type\":\"CDSView\"}},\"id\":\"6994\",\"type\":\"GlyphRenderer\"},{\"attributes\":{},\"id\":\"7525\",\"type\":\"BasicTickFormatter\"},{\"attributes\":{},\"id\":\"7521\",\"type\":\"BasicTickFormatter\"},{\"attributes\":{\"callback\":null},\"id\":\"6921\",\"type\":\"DataRange1d\"},{\"attributes\":{\"bottom_units\":\"screen\",\"fill_alpha\":{\"value\":0.5},\"fill_color\":{\"value\":\"lightgrey\"},\"left_units\":\"screen\",\"level\":\"overlay\",\"line_alpha\":{\"value\":1.0},\"line_color\":{\"value\":\"black\"},\"line_dash\":[4,4],\"line_width\":{\"value\":2},\"plot\":null,\"render_mode\":\"css\",\"right_units\":\"screen\",\"top_units\":\"screen\"},\"id\":\"6984\",\"type\":\"BoxAnnotation\"},{\"attributes\":{\"callback\":null},\"id\":\"7114\",\"type\":\"DataRange1d\"},{\"attributes\":{},\"id\":\"7523\",\"type\":\"BasicTickFormatter\"},{\"attributes\":{\"callback\":null},\"id\":\"6919\",\"type\":\"DataRange1d\"},{\"attributes\":{\"callback\":null},\"id\":\"7116\",\"type\":\"DataRange1d\"},{\"attributes\":{\"source\":{\"id\":\"6915\",\"type\":\"ColumnDataSource\"}},\"id\":\"6995\",\"type\":\"CDSView\"},{\"attributes\":{},\"id\":\"7529\",\"type\":\"BasicTickFormatter\"},{\"attributes\":{},\"id\":\"7118\",\"type\":\"LinearScale\"},{\"attributes\":{},\"id\":\"6928\",\"type\":\"BasicTicker\"},{\"attributes\":{},\"id\":\"7097\",\"type\":\"ResetTool\"},{\"attributes\":{},\"id\":\"7531\",\"type\":\"BasicTickFormatter\"},{\"attributes\":{},\"id\":\"7120\",\"type\":\"LinearScale\"},{\"attributes\":{\"plot\":{\"id\":\"6918\",\"subtype\":\"Figure\",\"type\":\"Plot\"},\"ticker\":{\"id\":\"6928\",\"type\":\"BasicTicker\"}},\"id\":\"6931\",\"type\":\"Grid\"},{\"attributes\":{},\"id\":\"7533\",\"type\":\"UnionRenderers\"},{\"attributes\":{\"callback\":null},\"id\":\"6997\",\"type\":\"DataRange1d\"},{\"attributes\":{\"axis_label\":\"Family\",\"formatter\":{\"id\":\"7529\",\"type\":\"BasicTickFormatter\"},\"plot\":{\"id\":\"7113\",\"subtype\":\"Figure\",\"type\":\"Plot\"},\"ticker\":{\"id\":\"7123\",\"type\":\"BasicTicker\"}},\"id\":\"7122\",\"type\":\"LinearAxis\"},{\"attributes\":{\"axis_label\":\"Happiness Score\",\"formatter\":{\"id\":\"7511\",\"type\":\"BasicTickFormatter\"},\"plot\":{\"id\":\"6918\",\"subtype\":\"Figure\",\"type\":\"Plot\"},\"ticker\":{\"id\":\"6933\",\"type\":\"BasicTicker\"}},\"id\":\"6932\",\"type\":\"LinearAxis\"},{\"attributes\":{},\"id\":\"7534\",\"type\":\"Selection\"},{\"attributes\":{\"callback\":null},\"id\":\"6999\",\"type\":\"DataRange1d\"},{\"attributes\":{},\"id\":\"7123\",\"type\":\"BasicTicker\"},{\"attributes\":{},\"id\":\"6933\",\"type\":\"BasicTicker\"},{\"attributes\":{\"callback\":null,\"data\":{\"Country\":[\"Switzerland\",\"Iceland\",\"Denmark\",\"Norway\",\"Canada\",\"Finland\",\"Netherlands\",\"Sweden\",\"New Zealand\",\"Australia\",\"Israel\",\"Costa Rica\",\"Austria\",\"Mexico\",\"United States\",\"Brazil\",\"Luxembourg\",\"Ireland\",\"Belgium\",\"United Arab Emirates\",\"United Kingdom\",\"Oman\",\"Venezuela\",\"Singapore\",\"Panama\",\"Germany\",\"Chile\",\"Qatar\",\"France\",\"Argentina\",\"Czech Republic\",\"Uruguay\",\"Colombia\",\"Thailand\",\"Saudi Arabia\",\"Spain\",\"Malta\",\"Taiwan\",\"Kuwait\",\"Suriname\",\"Trinidad and Tobago\",\"El Salvador\",\"Guatemala\",\"Uzbekistan\",\"Slovakia\",\"Japan\",\"South Korea\",\"Ecuador\",\"Bahrain\",\"Italy\",\"Bolivia\",\"Moldova\",\"Paraguay\",\"Kazakhstan\",\"Slovenia\",\"Lithuania\",\"Nicaragua\",\"Peru\",\"Belarus\",\"Poland\",\"Malaysia\",\"Croatia\",\"Libya\",\"Russia\",\"Jamaica\",\"North Cyprus\",\"Cyprus\",\"Algeria\",\"Kosovo\",\"Turkmenistan\",\"Mauritius\",\"Hong Kong\",\"Estonia\",\"Indonesia\",\"Vietnam\",\"Turkey\",\"Kyrgyzstan\",\"Nigeria\",\"Bhutan\",\"Azerbaijan\",\"Pakistan\",\"Jordan\",\"Montenegro\",\"China\",\"Zambia\",\"Romania\",\"Serbia\",\"Portugal\",\"Latvia\",\"Philippines\",\"Somaliland region\",\"Morocco\",\"Macedonia\",\"Mozambique\",\"Albania\",\"Bosnia and Herzegovina\",\"Lesotho\",\"Dominican Republic\",\"Laos\",\"Mongolia\",\"Swaziland\",\"Greece\",\"Lebanon\",\"Hungary\",\"Honduras\",\"Tajikistan\",\"Tunisia\",\"Palestinian Territories\",\"Bangladesh\",\"Iran\",\"Ukraine\",\"Iraq\",\"South Africa\",\"Ghana\",\"Zimbabwe\",\"Liberia\",\"India\",\"Sudan\",\"Haiti\",\"Congo (Kinshasa)\",\"Nepal\",\"Ethiopia\",\"Sierra Leone\",\"Mauritania\",\"Kenya\",\"Djibouti\",\"Armenia\",\"Botswana\",\"Myanmar\",\"Georgia\",\"Malawi\",\"Sri Lanka\",\"Cameroon\",\"Bulgaria\",\"Egypt\",\"Yemen\",\"Angola\",\"Mali\",\"Congo (Brazzaville)\",\"Comoros\",\"Uganda\",\"Senegal\",\"Gabon\",\"Niger\",\"Cambodia\",\"Tanzania\",\"Madagascar\",\"Central African Republic\",\"Chad\",\"Guinea\",\"Ivory Coast\",\"Burkina Faso\",\"Afghanistan\",\"Rwanda\",\"Benin\",\"Syria\",\"Burundi\",\"Togo\"],\"Economy (GDP per Capita)\":{\"__ndarray__\":\"ZJeo3hpY9j/Z0w5/Tdb0P4UIOIQqNfU/8tJNYhBY9z9/MPDcezj1P76fGi/dpPQ/aOif4GJF9T87GRwlr071P/7PYb68APQ/Sphp+1dW9T8rjC0EOajzP9l3RfC/le4/aK7TSEtl9T9OKETAIVTwP48ev7fpT/Y/g92wbVFm7z+hMv59xgX5PwA6zJcXYPU/IuAQqtTs9D+g/UgRGdb2PxcrajANQ/Q/pWYPtALD9T/3zJIANbXwP+9yEd+JWfg/vwmFCDgE8T/lRLsKKT/1Py1DHOvitvE/shGI1/UL+z/gufdwyXH0P7MkQE0t2/A/kzXqIRrd8j+xijcyj/zwP/fpeMxAZe0/qRPQRNjw7j+ILqhvmVP2P5G4x9KHrvM/4QuTqYJR8z8rpPyk2qf0Pz2gbMoV3vg/C9KMRdPZ7z+k/KTap2PzP557D5ccd+g/7PoFu2Hb5z/p1JXP8jzkP0963/jas/I/MIFbd/NU9D+ZZOQs7OnzP6HgYkUNpus/IAw89x4u9T+iemtgqwT0P+gTeZJ0zeU/2QjE6/oF4z//snvysFDoP7w6x4Ds9fE/EqCmlq318j9e1y/YDVvyP5ZDi2zn++I/rfVFQlvO7D/DacGLvoLwP240gLdAAvI/yEEJM23/8T8Zyol2FVLxP3zysFBrGvI/a/EpAMYz8j+to6oJou7pPzKx+bg2VPM/TRB1H4BU8z8Ct+7mqQ7uPxK9jGK5pek/z04GR8mr7j8C9tGpKx/wP1oqb0c4LfY/r+sX7IZt8j/iQEgWMIHqPwrcupunOuQ/fVwbKsb58D98ZkmAmlrePzhnRGlv8OQ/8+UF2Een6D8ZOQt72mHwPz3VITfDDeM/r6w0KQXd7D8fDDz3Hi7vPyR/MPDce+w/mFEst7Qa3j/gLZCg+LHwP4WUn1T7dO0/kNrEyf2O8j9XYMjqVs/xP/zepj/7keY/q3gj88gfyD/dsG1RZoPnPxWRYRVvZO0/TaHzGrtEtT8EPj+MEB7sP6cAGM+goeo/8x/Sb18H2D+DOXr83qbsP4PF4cyv5uI/xvmbUIiA6j+3RZkNMsnmP7vyWZ4Hd/I/04IXfQVp8D+scwzIXu/xP3fzVIfcDOM/dmwE4nX92D+KyLCKNzLsPw4V4/xNKOM/xXJLqyFx2T/cRgN4CyTwP/zepj/7kek/DB8RUyKJ7z/3cMlxp3TtP/dAKzBkdeE/8tJNYhBY0T+1pnnHKTqyP8DnhxHCo+Q/sacd/pqs4D9SLLe0GhLRPwAAAAAAAAAAtaFinL8J1z+12y4012nIP8Mv9fOmItU/5A8GnnsP3T/Wi6GcaFfXP5MYBFYOLdw/orlOIy2V6D8JG55eKcvvPylhpu1fWdE/duCcEaW95z+xG7YtymyQPwr0iTxJuuo/CtejcD0K2z8ZHCWvzjHwPw+cM6K0N+w/zOmymNh84T8dA7LXuz/oPx2UMNP2r9A/uk4jLZW35T+2EOSghJnOP1ClZg+0Ass/z2vsEtVb1z+fk943vvbwP4enV8oyxLE/9ODurN123T/GbTSAt0DSP4EJ3Lqbp8o/f2q8dJMYtD+nXOFdLuLVP3rf+NozS8Y/KlJhbCHI3T+hYpy/CYXQP4DUJk7ud9Q/Pz+MEB5tzD9jf9k9eVjSP2Kh1jTvOOU/S8gHPZtVjz/ZJaq3BrbKPw==\",\"dtype\":\"float64\",\"shape\":[158]},\"Family\":{\"__ndarray__\":\"1v85zJeX9T9yhXe5iG/2P4V3uYjvxPU/escpOpJL9T8MzXUaaSn1P9b/OcyXF/U/CCC1iZN79D9WE0TdB6D0P3cyOEpeHfU/whIPKJvy9D8TfqmfN5XzP631RUJbzvM/VKnZA63A9D/Brbt5qkPtP6M7iJ0p9PM/KIOj5NW58z8WhzO/moPzP9NqSNxj6fU/4GdcOBCS9D9QjZduEgPyP+GX+nlTkfQ/HooCfSJP8T+4WFGDaRj0P1K4HoXrUfA/kxgEVg4t8z/SdHYyOMr0P3ZUNUHU/fE/GXPXEvJB8T8JhQg4hCr0P2ItPgXA+PM/y5wui4lN8z+BJsKGp1fzP9Vz0vvG1/M/BBxClZo99D/Vc9L7xlfxP0z9vKlIBfU/95LGaB3V9D8r+64I/jfxP2SSkbOwp/I/tMh2vp8a7z8dIJijx+/yP4PF4cyvZvA/w552+Guy8D+KPEm6ZnL1P+DzwwjhUfQ/Plxy3Ckd9D/1RUJbzqXuP9UhN8MN+O8/hGQBE7h18z8nFCLgECrzPx6KAn0iT+8/rYbEPZY+8D+q1OyBVuD0P/dAKzBk9fE/UiegibBh9D/mriXkgx70P/c7FAX6RPI/x0YgXtcv7z8LDFnd6rnzP2ItPgXAePQ/VisTfqkf8T+Xi/hOzHrpP6FsyhXe5fE/ur2kMVrH8z+1q5Dyk2ryP6yowTQMH/E/9x4uOe6U7D8D7KNTVz7xP88xIHu9++k/OIQqNXug8z8tJjYf14bvPx+A1CZO7vA/2ubG9ISl8z++K4L/rWTxP+JdLuI7Me0/gJ9x4UBI7j96pSxDHGvyP4/MI38w8Ow/C7Wmecep8T8y/n3GhQPuP3GUvDrHgNo/6ZrJN9vc8D+Zo8fvbfrsP7Kd76fGS+4/xsTm49pQ7T99xoUDIVnsPyu8y0V8J/A/XynLEMc68j8Pf03WqIfxP6sJou4DkPA/ba0vEtpy7j/f4AuTqYLkPwwHQrKACfA/XRYTm49r8D8hq1s9J73pP9NSeTvCae0/Y3rCEg+o8D9xICQLmMDyP67wLhfxnec/c9cS8kHP9D9Dc51GWirxPz0ipkQSve0/fSJPkq6Z6T+yLm6jATzzP4h7LH3ogu4/Uj9vKlJh6z9KmGn7V1bjPx+duvJZnu0/2UenrnyW2z9c5nRZTGzhP62GxD2WPvM/o68gzVg06j+/mgMEc/TyP+VciqvKvuU/Et+JWS+G8D/bxMn9DkXpP3XN5Jttbtg/ml/NAYI58D/0wwjh0cbnP00VjErqBPA/YAK37uap6z/cSxqjdVTjP6K5TiMtle4/HXIz3IDP6z/ZsRGI1/XvP8Mq3sg88uI/PaBsyhXe6D+xpx3+mqzxP1RSJ6CJsOY/yr4rgv+t2D9PWOIBZVPaPyDSb18HTvA/gX106spn7D9Qwkzbv7LxP4GVQ4ts5+c/YLAbti3K5T8OT6+UZYjrPxy2LcpskPA/vJaQD3o25T/L2xFOC17pP+IeSx+6IPI/6dSVz/I87z/VITfDDfjsPwskKH6Mueg/pTFaR1UT5D8JpwUv+grwP6rU7IFWYOU/AAAAAAAAAABl3xXB/1boP1g5tMh2vt0/zO7Jw0Kt6D80uoPYmULrP4v9ZffkYdM/UkmdgCbC6D8vNNdppKXWP9uizAaZZN4/IM1YNJ2d2j8noImw4enBPw==\",\"dtype\":\"float64\",\"shape\":[158]},\"Freedom\":{\"__ndarray__\":\"6lvmdFlM5T/lllZD4h7kP7ql1ZC4x+Q/dc3km21u5T/+KytNSkHkP5tyhXe5iOQ/MuvFUE604z9b07zjFB3lP2jttgvNdeQ/8xq7RPXW5D/8MEJ4tHHaPytqMA3DR+Q/fCx96IL64z9LsDic+dXeP9PZyeAoeeE/avZAKzBk3z9pqbwd4bTjP75lTpfFxOM/TmIQWDm04j/yBwPPvYfkPxSuR+F6FOM/j9/b9Gc/5D8SiNf1C3bbPyOhLedSXOE/1CtlGeJY4T8/+5EiMqzjP62GxD2WPtw/A3gLJCh+5D9fe2ZJgJrhP5v+7EeKyNw/IoRHG0es3T/FxObj2lDjP+tWz0nvG+E/cad0sP7P4T8f+YOB597TP2PWi6GcaN0/cF8HzhlR4z+si9toAG/ZP99sc2N6wuE/gcr49xkX4z/gSnZsBOLhP23n+6nx0tk/Yf2fw3x54j8dzvxqDhDlPxnKiXYVUtQ//kP67evA3z+q9ul4zEDVP4L6ljldFt8/6PaSxmgd3T/t0/GYgcrQPwFqatlaX+I/xuHMr+YA1T+P39v0Zz/hP9fAVgkWh+A/t2J/2T154z8Z+ie4WFHLP42XbhKDwOE/dXtJY7SO2j8rajANw0fYP1Zl3xXB/+A/R/5g4Ln34D/GUE60q5DQPwltOZfiqto/Yf2fw3x51z+jWG5pNSTgP1RvDWyVYN8/gEOoUrMH2j+YhuEjYkrSPyEkC5jArc8/1QloImx43j+NnIU97fDhP/uWOV0WE+M/0QX1LXO63D/4qpUJv9TdP0vl7QinBeM/FYxK6gQ0zT/6CtKMRdPbPykn2lVI+dU/9U9wsaIG4T/7XG3F/rLXP5dzKa4q+74/9X8O8+UF2j/l8h/Sb1/HP3prYKsEi+A/AIxn0NA/3z82H9eGinHWP811GmmpvMk/8YCyKVd44D+vWpnwS/3SP/kP6bevA+Q/cad0sP7P3T/nBdhHp67aPwtBDkqYadU/f4eiQJ/I1T+uTPilft7WPybkg57Nqrc/huY6jbRU1D8xX16AfXTiP+F/K9mxEeM/s2MjEK/r2z875Ga4AZ/TP2h5HtydtbM/hiAHJcy01T9224XmOo3UP4vgfyvZsdk/1q2ek9433j/IDFTGv8/QP89r7BLVW88/coqO5PIf2j/VfQBSmzjTP4eKcf4mFNA/AAAAAAAAAADi5H6HokDVP306HjNQGds/sMka9RCN0D9RMc7fhELSP2a9GMqJdtk/OxkcJa/OuT/dJAaBlUPPP+VhodY078w/VU0QdR+A2D8CK4cW2c7bP/rt68A5I9o/FFeVfVcEzz/caABvgQTbP+lg/Z/DfN0/81meB3dnyT/M7snDQq3fP12Kq8q+K9w/uKrsuyL42T91q+ek943bP+JdLuI7MeE/VwT/W8mO3z8W9rTDX5PTPxv1EI3uIMY/3Aw34PPD1j+GQgQcQpW6P+Y6jbRU3tg/KGa9GMqJ2j+EtpxLcVXNP2pI3GPpQ90/m3KFd7mI1z+xG7YtymzUP4O7s3bbhd4/pg9dUN8y5T9fDOVEuwrVPyBGCI82jsg/Yign2lVI3z+i0R3EzhTOP76fGi/dJNg/A2A8g4b+3T/YZI16iEbZP4C8V61M+M0/b/Wc9L7x4j81XrpJDALfP6UxWkdVE8Q/vHSTGARWvj/cSxqjdVTXPw==\",\"dtype\":\"float64\",\"shape\":[158]},\"Generosity\":{\"__ndarray__\":\"INeGinH+0j/Oqs/VVuzbP7ecS3FV2dU/on+CixU11j+oHf6arFHdP6T8pNqn480/1QloImx43j+FCDiEKjXXPy540VeQZt4//vFetTLh2z+zdtuF5jrVP/2C3bBtUdA/d6G5TiMt1T/dmJ6wxAPCPybkg57Nqtk/gQncupunwj9UrvAuF/HRP45donprYN0/exSuR+F6zD8LKT+p9unQP3hi1ouhnOA/wcBz7+GSyz/WyoRf6uetP2PuWkI+6NM/2GSNeohGzz8fLjnulA7SPwu6vaQxWtU/f95UpMLY1D8ZVvFG5pG/PzehEAGHUL0/syRATS1buz86kst/SL/NP+eHEcKjjcc/4umVsgxx4j9BfcucLovBP6NdhZSfVMc/VtRgGoaP4D8EHEKVmj3QP6G+ZU6XxcQ/x7WhYpy/xT9TP28qUmHUP1fPSe8bX7s/D9b/OcyX0T9BmrFoOjvNP48ZqIx/n8U/umsJ+aBnuz84Mo/8wcDHP86goX+Ci70/DDz3Hi45xj+DqPsApDbNPygK9Ik8Sco/xawXQznRyj8noImw4enVP0kRGVbxRr4/vcYuUb010D+0QSYZOQubPz55WKg1zdE/PrMkQE0twz8PI4RHG0e8P2x9kdCWc8U/XrpJDAIr1T85QDBHj9+rP0LPZtXnasc/k8ZoHVVNYD8ibHh6pSzLP+Us7GmHv9A/s4AJ3Lqb0z+Do+TVOQa0P67YX3ZPHtI/JAuYwK27xT+A8Qwa+ifYPzJaR1UTRNk/8fRKWYY4tj+Sy39Iv33gP02EDU+vlMU/rmTHRiBevz+ASL99HTjTPz0P7s7abdE/K/uuCP633j8QQGoTJ/ezPz8djxmojNU/zhQ6r7FLvD/whclUwajEPzJ3LSEf9LQ/T8x6MZQTyT9+Uu3T8ZjBPyDNWDSdncg/c0urIXGPwT8UOq+xS1THPwXAeAYN/c8/fQqA8Qwa4D9AGHjuPVyyP8o329yYnsw//reSHRuBzD9qGD4ipkTCP8ZVZd8Vwc8/J/c7FAX6xD9TeTvCacHLP/7PYb68ANs/v30dOGdE1T9Xz0nvG1/HPwAAAAAAAAAAYhVvZB75yz/8qfHSTWLAP2D9n8N8ec0/DqFKzR5ozT9KRs7CnnawP+cTeZJ0zbw/tU/HYwYqyz8csRafAmDYP1pkO99PjcM/4wFlU67wxj/XnlkSoKa+P5NS0O0ljc0/Ieo+AKlNyD8BZVOu8C7PP4ts5/up8dA/oFT7dDxmyD+sOUAwR4/dPyjyJOmayc8/XaJ6a2Cr1D+JQWDl0CLPP+JASBYwgcs/1HjpJjEIzD+e6pCb4QbYP3/Bbti2KMc/B84ZUdobtD+5pdWQuMe6P51LcVXZd+k/LnjRV5BmrD+IaHQHsTPVP6kY529CIdo/iG2LMhtkyj9NLVvri4S+PyswZHWr57w/ADrMlxdgtz9hqwSLw5m/P4+qJoi6D8g/EOSghJm2vz/BNAwfEVPGP9FXkGYsmtI/Ba3AkNWtyj/04O6s3XaxP3F31m670Mg/aoe/JmvU2T+NI9biUwDWPyC6oL5lTss/bjSAt0CCzj+bcoV3uYjHPyzxgLIpV9I/5IOezarPyT8tOe6UDtbLPyBB8WPMXdc/n5PeN772zD/l8h/Sb1/HPxkcJa/OMd4/jq89syRAyT9DqFKzB1rFPw==\",\"dtype\":\"float64\",\"shape\":[158]},\"Happiness Rank\":[1,2,3,4,5,6,7,8,9,10,11,12,13,14,15,16,17,18,19,20,21,22,23,24,25,26,27,28,29,30,31,32,33,34,35,36,37,38,39,40,41,42,43,44,45,46,47,48,49,50,51,52,53,54,55,56,57,58,59,60,61,62,63,64,65,66,67,68,69,70,71,72,73,74,75,76,77,78,79,80,81,82,82,84,85,86,87,88,89,90,91,92,93,94,95,96,97,98,99,100,101,102,103,104,105,106,107,108,109,110,111,112,113,114,115,116,117,118,119,120,121,122,123,124,125,126,127,128,129,130,131,132,133,134,135,136,137,138,139,140,141,142,143,144,145,146,147,148,149,150,151,152,153,154,155,156,157,158],\"Happiness Score\":{\"__ndarray__\":\"DQIrhxZZHkBYObTIdj4eQM/3U+OlGx5ASgwCK4cWHkBpke18P7UdQDq0yHa+nx1AT42XbhKDHUDb+X5qvHQdQL+fGi/dJB1AiUFg5dAiHUDpJjEIrBwdQIGVQ4ts5xxAzczMzMzMHEBzaJHtfL8cQGDl0CLbeRxAO99PjZfuG0BjEFg5tMgbQMP1KFyPwhtAc2iR7Xy/G0C0yHa+n5obQCyHFtnOdxtAtvP91HhpG0A9CtejcD0bQP3UeOkmMRtAv58aL90kG0AAAAAAAAAbQK5H4XoUrhpAjGzn+6lxGkDNzMzMzEwaQLKd76fGSxpAhetRuB4FGkBxPQrXo/AZQJzEILBy6BlAUrgehevRGUC/nxov3aQZQDeJQWDlUBlAaZHtfD81GUD91HjpJjEZQK5H4XoULhlA+n5qvHQTGUB46SYxCKwYQIXrUbgehRhAyqFFtvN9GEBPjZduEgMYQHsUrkfh+hdAppvEILDyF0BWDi2yne8XQGZmZmZm5hdA16NwPQrXF0CXbhKDwMoXQI/C9ShcjxdAdJMYBFaOF0BPjZduEoMXQOxRuB6FaxdAMQisHFpkF0ChRbbz/VQXQBxaZDvfTxdAsp3vp8ZLF0CNl24Sg0AXQESLbOf7KRdAFK5H4XoUF0Dvp8ZLNwkXQGq8dJMYBBdAd76fGi/dFkC8dJMYBNYWQEjhehSuxxZAqMZLN4nBFkDsUbgehWsWQEFg5dAiWxZA/dR46SYxFkCcxCCwcugVQEw3iUFg5RVAne+nxku3FUB/arx0k5gVQHE9CtejcBVAiBbZzvdTFUC/nxov3SQVQN9PjZduEhVAT42XbhIDFUANAiuHFtkUQC2yne+nxhRA+FPjpZvEFED4U+Olm8QUQI/C9ShcjxRAarx0kxiEFEDl0CLb+X4UQMqhRbbzfRRAnMQgsHJoFEAxCKwcWmQUQJhuEoPAShRA7Xw/NV46FEBaZDvfTw0UQLpJDAIrBxRA/Knx0k3iE0C8dJMYBNYTQLKd76fGyxNAZDvfT42XE0AK16NwPYoTQBsv3SQGgRNA5dAi2/l+E0ArhxbZzncTQCGwcmiRbRNAQWDl0CJbE0AzMzMzMzMTQPT91HjpJhNAv58aL90kE0Db+X5qvPQSQFyPwvUo3BJALbKd76fGEkBYObTIdr4SQNNNYhBYuRJAaJHtfD+1EkDEILByaJESQNV46SYxiBJAcT0K16NwEkBjEFg5tEgSQMP1KFyPQhJAMzMzMzMzEkDfT42XbhISQMQgsHJoERJAdJMYBFYOEkA/NV66SQwSQLpJDAIrBxJAWDm0yHa+EUCTGARWDq0RQGDl0CLbeRFAZmZmZmZmEUCHFtnO91MRQO18PzVeOhFA46WbxCAwEUBeukkMAisRQC/dJAaBFRFANV66SQwCEUCsHFpkO98QQC2yne+nxhBAAiuHFtlOEEBvEoPAyiEQQPYoXI/C9Q9AtvP91HjpD0DazvdT46UPQKabxCCwcg9ACKwcWmQ7D0BfukkMAisPQMP1KFyPwg5AWmQ730+NDkBzaJHtfD8OQKabxCCwcg1ABoGVQ4tsDUC8dJMYBFYNQHNoke18Pw1APQrXo3A9DUAYBFYOLbIMQJqZmZmZmQxAuB6F61G4C0C4HoXrUbgKQEA1XrpJDAhAPQrXo3A9B0CDwMqhRbYGQA==\",\"dtype\":\"float64\",\"shape\":[158]},\"Health (Life Expectancy)\":{\"__ndarray__\":\"GyWvzjEg7j+G5jqNtFTuPwXAeAYN/es/+vIC7KNT7D/s2AjE6/rsP2x9kdCWc+w/w/ARMSWS7D9oCp3X2CXtP1RcVfZdEe0/V2DI6lbP7T/ndFlMbD7tP4Jbd/NUh+s/y4l2FVJ+7D9VvJF55A/qP4eiQJ/Ik+s/rg0V4/xN5j9Hj9/b9GftP/QVpBmLpuw//rypSIWx7D9MN4lBYOXpP3wKgPEMGu0/f03WqIdo6D87pYP1fw7nP4GVQ4tsZ/A/dlQ1QdR96T+1iZP7HYrsP3506spnees/a9RDNLqD6T9qSNxj6UPuPzfDDfj8MOk/8L+V7NgI6z8N4C2QoPjpP3va4a/JGuY/bxKDwMqh5z8/NV66SQznP6Pp7GRwlO4/pOTVOQZk7D+mCkYldQLsPxjshm2LMuc/n6ut2F924z+UMNP2r6zjPyJUqdkDreU/BFYOLbKd5D+qSIWxhSDjPzl6/N6mP+k/SaKXUSy37z+izAaZZOTuP+f7qfHSTek/uCOcFrzo5z+Y4qqy74ruPzcawFsgQeE/RpkNMsnI4z8t7GmHvyblP2LboswGmeQ/NddppKXy6z8RAYdQpWbnP5wui4nNx+c/dqbQeY1d5z92q+ek943nP8tKk1LQ7eg/CYUIOIQq5z8PnDOitDfpP/aX3ZOHheY/tauQ8pNq5T8CMJ5BQ//lP6+ZfLPNje0/r5l8s82N7T/5g4Hn3sPjP2vxKQDGM+Q/A+yjU1c+4T9OYhBYObTmP9gN2xZlNvA/U3k7wmnB6D+ZZOQs7GnkPzDAPjp15ec/J4i6D0Bq5z/52jNLAtTkP1sNiXssfcQ/yatzDMhe4j90JJf/kH7kP0fmkT8YeOA/t11ortNI5j/bbRea6zTnP28qUmFsIeo/Lexph78m0z/tnjws1JroP1FOtKuQ8uc/4Ch5dY4B7D88g4b+CS7nP9S3zOmymOI/h4px/iYU3D+oUrMHWoHjP3/7OnDOiOc/ADrMlxdgtz+gGi/dJAbqPzwx68VQTuk/I0+Srpl8sz/8qfHSTWLlP8PwETElkuE/RYE+kSdJ4z88iJ0pdF6zP19BmrFoOuw/zSN/MPDc6j/u68A5I0roPyBj7lpCPuY/6bKY2Hxc4j/MlxdgH53nP3KKjuTyH+U/4uR+h6JA4z8tIR/0bFbmP+PHmLuWkOU/u+1Cc51G4z+cpzrkZrjRPx3EzhQ6r9k/BoGVQ4ts1T/d6jnpfePVPz2WPnRBfeA/7s7abRea1z8iiV5GsdzYP+62C811Grk/T6p9Oh4z4j/gLZCg+DHcPwAAAAAAAAAALxfxnZj11j8UP8bctYTaPwsMWd3qOdc/ejarPldb5z/dKR2s/3OoP8czaOif4N4/oP1IERlW5z8aaam8HeHMP2Ni83FtqOY/2xFOC170zT/XwFYJFofoPwGkNnFyv+M/Tgte9BWk2T9f7/54r1rFPyqRRC+jWMo/cy7FVWXf0z+utmJ/2T3XP85OBkfJq9U/6Gor9pfd2z9uwOeHEcLbP6Xap+MxA9M/yuAoeXWO4z9MpgpGJXXYP2ZOl8XE5t0/2LYos0EmsT+8lpAPejbDP7NeDOVEu84/j+TyH9Jvwz9cj8L1KFzRP2B2Tx4WatM/5Xlwd9Zu2z+V1AloImzUP30KgPEMGuc/QlvOpbiqzD/5FADjGTTSPw==\",\"dtype\":\"float64\",\"shape\":[158]},\"Trust (Government Corruption)\":{\"__ndarray__\":\"zPPg7qzd2j8ldQKaCBvCP/vo1JXP8t4/scQDyqZc1z+5iO/ErBfVPybfbHNjeto/Byrj32dc1D8Ah1ClZg/cP/GAsilXeNs/HqLRHcTO1j+SXP5D+u2zP7mI78SsF7s/DrkZbsDnxz+Azw8jhEfLP5/Nqs/VVsQ/BVH3AUhtxj9xsaIG0zDYP+YivhOzXtI/7lpCPujZzD8aNPRPcLHYP4O7s3bbhdQ/cXfWbrvQ1D+Ehv4JLla8P3Qkl/+Qft8/0NVW7C+7tz9Mjjulg/XLPyk/qfbpeMA/aam8HeG04D8FUfcBSG3KPw6EZAETuLU/Y3rCEg8omz90nUZaKm/PPy1DHOviNqo/NnFyv0NRoD9xd9Zuu9DUP8UbmUf+YLA/3NJqSNxjwT866X3ja8+0P/lJtU/HY9A/3lm77UJzwT/UK2UZ4liHP9nmxvSEJb4/VvFG5pE/uD+0jqomiLrTPzf92Y8UkaE/PSzUmuYdxz8+XHLcKR20P9ZW7C+7J8c/L90kBoGV0z+GIAclzLSdP7tJDAIrh7Y/YVRSJ6CJkD9FTIkkehm1P9wuNNdppLU/FsH/VrJjoz/o9pLGaB2FP7a+SGjLucg/YAK37uaprj8dOGdEaW/IP6nZA63AkKU//MHAc+/huj/D0ytlGeKYP5y/CYUIOLw/2qz6XG3Fnj/tR4rIsIqXP9c07zhFR8I/1jkGZK93rz+qJoi6D0DGP2e4AZ8fRqg/r84xIHu90z9wCFVq9kCzP/zjvWplwtc/AcEcPX5vwz8AAAAAAAAAAJcXYB+duro/8s02N6YnxD/s9e6P96qlP+C+DpwzoqQ/aQBvgQTFwz9xGw3gLZDEPwx72uGvybo/CAPPvYdLwj+xbVFmg0zCP2DNAYI5epw/lxx3Sgfrvz+GQgQcQpV6P3iXi/hOzJo/+WabG9MThj+9xi5RvTWwP3SdRloqb78/r5l8s82N2T+qvB3htOC1P0tBt5c0Rqs/1PGYgcr4wz9eRrHc0mqwPw2mYfiImGI/N45Yi08BwD9k0XR2MjjCP32zzY3pCc8/XAhyUMJMmz9LyAc9m1WfP+k+AKlNnIw/hGQBE7h1pz+SPxh47j2cP0a28/3UeLE/CTNt/8pKwz+C/61kx0awPxQ/xty1hMA/LZW3I5wWwD+FAyFZwASuPxnKiXYVUp4/oOBiRQ2mwT+unpPeN762PyNKe4MvTKY/5gXYR6eutD8rAMYzaOivP+m8xi5RvbU/FvvL7snDwj+WQ4ts5/vFP4XrUbgehbM/53RZTGw+rj/C3Vm77ULDPz1moDL+fbY/0vvG155Zxj9ortNIS+WtP3icoiO5/NE/K4cW2c73oz87x4Ds9e6/PyJxj6UPXcg/Y7SOqiaI2D947j1cctyxPx2PGaiMf7c/HT1+b9OfrT9dp5GWytuBP+ONzCN/MLA/7IZtizIbtD/sNNJSeTuyPzvkZrgBn78/Quc1donqvT9FtvP91HjJP197ZkmAmrI/k6RrJt9suz/boswGmWS8P7/xtWeWBMQ/Pu3w12SNsj/OkgA1tWytP7GFIAclzLQ/Rloqb0c4tT/uCKcFL/qqP4m6D0BqE78/4wFlU67wxj+xG7YtymzAP6iMf59x4bg/RbsKKT+p4T+M22gAb4G0P0+qfToeM8g/NdJSeTvCuT9+pIgMq3i7Pw==\",\"dtype\":\"float64\",\"shape\":[158]},\"Year\":[\"2015\",\"2015\",\"2015\",\"2015\",\"2015\",\"2015\",\"2015\",\"2015\",\"2015\",\"2015\",\"2015\",\"2015\",\"2015\",\"2015\",\"2015\",\"2015\",\"2015\",\"2015\",\"2015\",\"2015\",\"2015\",\"2015\",\"2015\",\"2015\",\"2015\",\"2015\",\"2015\",\"2015\",\"2015\",\"2015\",\"2015\",\"2015\",\"2015\",\"2015\",\"2015\",\"2015\",\"2015\",\"2015\",\"2015\",\"2015\",\"2015\",\"2015\",\"2015\",\"2015\",\"2015\",\"2015\",\"2015\",\"2015\",\"2015\",\"2015\",\"2015\",\"2015\",\"2015\",\"2015\",\"2015\",\"2015\",\"2015\",\"2015\",\"2015\",\"2015\",\"2015\",\"2015\",\"2015\",\"2015\",\"2015\",\"2015\",\"2015\",\"2015\",\"2015\",\"2015\",\"2015\",\"2015\",\"2015\",\"2015\",\"2015\",\"2015\",\"2015\",\"2015\",\"2015\",\"2015\",\"2015\",\"2015\",\"2015\",\"2015\",\"2015\",\"2015\",\"2015\",\"2015\",\"2015\",\"2015\",\"2015\",\"2015\",\"2015\",\"2015\",\"2015\",\"2015\",\"2015\",\"2015\",\"2015\",\"2015\",\"2015\",\"2015\",\"2015\",\"2015\",\"2015\",\"2015\",\"2015\",\"2015\",\"2015\",\"2015\",\"2015\",\"2015\",\"2015\",\"2015\",\"2015\",\"2015\",\"2015\",\"2015\",\"2015\",\"2015\",\"2015\",\"2015\",\"2015\",\"2015\",\"2015\",\"2015\",\"2015\",\"2015\",\"2015\",\"2015\",\"2015\",\"2015\",\"2015\",\"2015\",\"2015\",\"2015\",\"2015\",\"2015\",\"2015\",\"2015\",\"2015\",\"2015\",\"2015\",\"2015\",\"2015\",\"2015\",\"2015\",\"2015\",\"2015\",\"2015\",\"2015\",\"2015\",\"2015\",\"2015\",\"2015\",\"2015\",\"2015\",\"2015\"],\"index\":[0,1,2,3,4,5,6,7,8,9,10,11,12,13,14,15,16,17,18,19,20,21,22,23,24,25,26,27,28,29,30,31,32,33,34,35,36,37,38,39,40,41,42,43,44,45,46,47,48,49,50,51,52,53,54,55,56,57,58,59,60,61,62,63,64,65,66,67,68,69,70,71,72,73,74,75,76,77,78,79,80,81,82,83,84,85,86,87,88,89,90,91,92,93,94,95,96,97,98,99,100,101,102,103,104,105,106,107,108,109,110,111,112,113,114,115,116,117,118,119,120,121,122,123,124,125,126,127,128,129,130,131,132,133,134,135,136,137,138,139,140,141,142,143,144,145,146,147,148,149,150,151,152,153,154,155,156,157]},\"selected\":{\"id\":\"7534\",\"type\":\"Selection\"},\"selection_policy\":{\"id\":\"7533\",\"type\":\"UnionRenderers\"}},\"id\":\"6915\",\"type\":\"ColumnDataSource\"},{\"attributes\":{},\"id\":\"7001\",\"type\":\"LinearScale\"},{\"attributes\":{\"plot\":{\"id\":\"7113\",\"subtype\":\"Figure\",\"type\":\"Plot\"},\"ticker\":{\"id\":\"7123\",\"type\":\"BasicTicker\"}},\"id\":\"7126\",\"type\":\"Grid\"},{\"attributes\":{\"dimension\":1,\"plot\":{\"id\":\"6918\",\"subtype\":\"Figure\",\"type\":\"Plot\"},\"ticker\":{\"id\":\"6933\",\"type\":\"BasicTicker\"}},\"id\":\"6936\",\"type\":\"Grid\"},{\"attributes\":{},\"id\":\"7003\",\"type\":\"LinearScale\"},{\"attributes\":{\"axis_label\":\"Happiness Score\",\"formatter\":{\"id\":\"7531\",\"type\":\"BasicTickFormatter\"},\"plot\":{\"id\":\"7113\",\"subtype\":\"Figure\",\"type\":\"Plot\"},\"ticker\":{\"id\":\"7128\",\"type\":\"BasicTicker\"}},\"id\":\"7127\",\"type\":\"LinearAxis\"},{\"attributes\":{\"callback\":null},\"id\":\"6960\",\"type\":\"DataRange1d\"},{\"attributes\":{\"axis_label\":\"Health (Life Expectancy)\",\"formatter\":{\"id\":\"7517\",\"type\":\"BasicTickFormatter\"},\"plot\":{\"id\":\"6996\",\"subtype\":\"Figure\",\"type\":\"Plot\"},\"ticker\":{\"id\":\"7006\",\"type\":\"BasicTicker\"}},\"id\":\"7005\",\"type\":\"LinearAxis\"},{\"attributes\":{},\"id\":\"7128\",\"type\":\"BasicTicker\"},{\"attributes\":{\"callback\":null},\"id\":\"6958\",\"type\":\"DataRange1d\"},{\"attributes\":{\"dimension\":1,\"plot\":{\"id\":\"7113\",\"subtype\":\"Figure\",\"type\":\"Plot\"},\"ticker\":{\"id\":\"7128\",\"type\":\"BasicTicker\"}},\"id\":\"7131\",\"type\":\"Grid\"},{\"attributes\":{},\"id\":\"7006\",\"type\":\"BasicTicker\"},{\"attributes\":{},\"id\":\"6962\",\"type\":\"LinearScale\"},{\"attributes\":{\"plot\":{\"id\":\"6996\",\"subtype\":\"Figure\",\"type\":\"Plot\"},\"ticker\":{\"id\":\"7006\",\"type\":\"BasicTicker\"}},\"id\":\"7009\",\"type\":\"Grid\"},{\"attributes\":{},\"id\":\"6937\",\"type\":\"PanTool\"},{\"attributes\":{\"fill_alpha\":{\"value\":0.1},\"fill_color\":{\"value\":\"#1f77b4\"},\"line_alpha\":{\"value\":0.1},\"line_color\":{\"value\":\"#1f77b4\"},\"x\":{\"field\":\"Family\"},\"y\":{\"field\":\"Happiness Score\"}},\"id\":\"7149\",\"type\":\"Circle\"},{\"attributes\":{\"axis_label\":\"Happiness Score\",\"formatter\":{\"id\":\"7519\",\"type\":\"BasicTickFormatter\"},\"plot\":{\"id\":\"6996\",\"subtype\":\"Figure\",\"type\":\"Plot\"},\"ticker\":{\"id\":\"7011\",\"type\":\"BasicTicker\"}},\"id\":\"7010\",\"type\":\"LinearAxis\"},{\"attributes\":{},\"id\":\"6938\",\"type\":\"WheelZoomTool\"},{\"attributes\":{\"fill_color\":{\"value\":\"#1f77b4\"},\"line_color\":{\"value\":\"#1f77b4\"},\"x\":{\"field\":\"Family\"},\"y\":{\"field\":\"Happiness Score\"}},\"id\":\"7148\",\"type\":\"Circle\"},{\"attributes\":{\"data_source\":{\"id\":\"6915\",\"type\":\"ColumnDataSource\"},\"glyph\":{\"id\":\"7148\",\"type\":\"Circle\"},\"hover_glyph\":null,\"muted_glyph\":null,\"nonselection_glyph\":{\"id\":\"7149\",\"type\":\"Circle\"},\"selection_glyph\":null,\"view\":{\"id\":\"7151\",\"type\":\"CDSView\"}},\"id\":\"7150\",\"type\":\"GlyphRenderer\"},{\"attributes\":{\"overlay\":{\"id\":\"6945\",\"type\":\"BoxAnnotation\"}},\"id\":\"6939\",\"type\":\"BoxZoomTool\"},{\"attributes\":{},\"id\":\"7011\",\"type\":\"BasicTicker\"},{\"attributes\":{},\"id\":\"7132\",\"type\":\"PanTool\"},{\"attributes\":{\"dimension\":1,\"plot\":{\"id\":\"6996\",\"subtype\":\"Figure\",\"type\":\"Plot\"},\"ticker\":{\"id\":\"7011\",\"type\":\"BasicTicker\"}},\"id\":\"7014\",\"type\":\"Grid\"},{\"attributes\":{},\"id\":\"6940\",\"type\":\"SaveTool\"},{\"attributes\":{},\"id\":\"7133\",\"type\":\"WheelZoomTool\"},{\"attributes\":{},\"id\":\"6941\",\"type\":\"ResetTool\"},{\"attributes\":{\"fill_alpha\":{\"value\":0.1},\"fill_color\":{\"value\":\"#1f77b4\"},\"line_alpha\":{\"value\":0.1},\"line_color\":{\"value\":\"#1f77b4\"},\"x\":{\"field\":\"Health (Life Expectancy)\"},\"y\":{\"field\":\"Happiness Score\"}},\"id\":\"7032\",\"type\":\"Circle\"},{\"attributes\":{\"overlay\":{\"id\":\"7140\",\"type\":\"BoxAnnotation\"}},\"id\":\"7134\",\"type\":\"BoxZoomTool\"},{\"attributes\":{\"below\":[{\"id\":\"7044\",\"type\":\"LinearAxis\"}],\"left\":[{\"id\":\"7049\",\"type\":\"LinearAxis\"}],\"plot_height\":200,\"plot_width\":250,\"renderers\":[{\"id\":\"7044\",\"type\":\"LinearAxis\"},{\"id\":\"7048\",\"type\":\"Grid\"},{\"id\":\"7049\",\"type\":\"LinearAxis\"},{\"id\":\"7053\",\"type\":\"Grid\"},{\"id\":\"7062\",\"type\":\"BoxAnnotation\"},{\"id\":\"7072\",\"type\":\"GlyphRenderer\"}],\"title\":{\"id\":\"7503\",\"type\":\"Title\"},\"toolbar\":{\"id\":\"7060\",\"type\":\"Toolbar\"},\"x_range\":{\"id\":\"7036\",\"type\":\"DataRange1d\"},\"x_scale\":{\"id\":\"7040\",\"type\":\"LinearScale\"},\"y_range\":{\"id\":\"7038\",\"type\":\"DataRange1d\"},\"y_scale\":{\"id\":\"7042\",\"type\":\"LinearScale\"}},\"id\":\"7035\",\"subtype\":\"Figure\",\"type\":\"Plot\"},{\"attributes\":{\"below\":[{\"id\":\"7083\",\"type\":\"LinearAxis\"}],\"left\":[{\"id\":\"7088\",\"type\":\"LinearAxis\"}],\"plot_height\":200,\"plot_width\":250,\"renderers\":[{\"id\":\"7083\",\"type\":\"LinearAxis\"},{\"id\":\"7087\",\"type\":\"Grid\"},{\"id\":\"7088\",\"type\":\"LinearAxis\"},{\"id\":\"7092\",\"type\":\"Grid\"},{\"id\":\"7101\",\"type\":\"BoxAnnotation\"},{\"id\":\"7111\",\"type\":\"GlyphRenderer\"}],\"title\":{\"id\":\"7505\",\"type\":\"Title\"},\"toolbar\":{\"id\":\"7099\",\"type\":\"Toolbar\"},\"x_range\":{\"id\":\"7075\",\"type\":\"DataRange1d\"},\"x_scale\":{\"id\":\"7079\",\"type\":\"LinearScale\"},\"y_range\":{\"id\":\"7077\",\"type\":\"DataRange1d\"},\"y_scale\":{\"id\":\"7081\",\"type\":\"LinearScale\"}},\"id\":\"7074\",\"subtype\":\"Figure\",\"type\":\"Plot\"},{\"attributes\":{},\"id\":\"6942\",\"type\":\"HelpTool\"},{\"attributes\":{\"fill_color\":{\"value\":\"#1f77b4\"},\"line_color\":{\"value\":\"#1f77b4\"},\"x\":{\"field\":\"Health (Life Expectancy)\"},\"y\":{\"field\":\"Happiness Score\"}},\"id\":\"7031\",\"type\":\"Circle\"},{\"attributes\":{},\"id\":\"7135\",\"type\":\"SaveTool\"},{\"attributes\":{\"active_drag\":\"auto\",\"active_inspect\":\"auto\",\"active_multi\":null,\"active_scroll\":\"auto\",\"active_tap\":\"auto\",\"tools\":[{\"id\":\"6937\",\"type\":\"PanTool\"},{\"id\":\"6938\",\"type\":\"WheelZoomTool\"},{\"id\":\"6939\",\"type\":\"BoxZoomTool\"},{\"id\":\"6940\",\"type\":\"SaveTool\"},{\"id\":\"6941\",\"type\":\"ResetTool\"},{\"id\":\"6942\",\"type\":\"HelpTool\"}]},\"id\":\"6943\",\"type\":\"Toolbar\"},{\"attributes\":{\"data_source\":{\"id\":\"6915\",\"type\":\"ColumnDataSource\"},\"glyph\":{\"id\":\"7031\",\"type\":\"Circle\"},\"hover_glyph\":null,\"muted_glyph\":null,\"nonselection_glyph\":{\"id\":\"7032\",\"type\":\"Circle\"},\"selection_glyph\":null,\"view\":{\"id\":\"7034\",\"type\":\"CDSView\"}},\"id\":\"7033\",\"type\":\"GlyphRenderer\"},{\"attributes\":{},\"id\":\"7015\",\"type\":\"PanTool\"},{\"attributes\":{},\"id\":\"7136\",\"type\":\"ResetTool\"},{\"attributes\":{\"bottom_units\":\"screen\",\"fill_alpha\":{\"value\":0.5},\"fill_color\":{\"value\":\"lightgrey\"},\"left_units\":\"screen\",\"level\":\"overlay\",\"line_alpha\":{\"value\":1.0},\"line_color\":{\"value\":\"black\"},\"line_dash\":[4,4],\"line_width\":{\"value\":2},\"plot\":null,\"render_mode\":\"css\",\"right_units\":\"screen\",\"top_units\":\"screen\"},\"id\":\"6945\",\"type\":\"BoxAnnotation\"},{\"attributes\":{},\"id\":\"7016\",\"type\":\"WheelZoomTool\"},{\"attributes\":{},\"id\":\"7137\",\"type\":\"HelpTool\"},{\"attributes\":{\"active_drag\":\"auto\",\"active_inspect\":\"auto\",\"active_multi\":null,\"active_scroll\":\"auto\",\"active_tap\":\"auto\",\"tools\":[{\"id\":\"7132\",\"type\":\"PanTool\"},{\"id\":\"7133\",\"type\":\"WheelZoomTool\"},{\"id\":\"7134\",\"type\":\"BoxZoomTool\"},{\"id\":\"7135\",\"type\":\"SaveTool\"},{\"id\":\"7136\",\"type\":\"ResetTool\"},{\"id\":\"7137\",\"type\":\"HelpTool\"}]},\"id\":\"7138\",\"type\":\"Toolbar\"},{\"attributes\":{\"overlay\":{\"id\":\"7023\",\"type\":\"BoxAnnotation\"}},\"id\":\"7017\",\"type\":\"BoxZoomTool\"},{\"attributes\":{},\"id\":\"6964\",\"type\":\"LinearScale\"},{\"attributes\":{},\"id\":\"7018\",\"type\":\"SaveTool\"},{\"attributes\":{\"axis_label\":\"Freedom\",\"formatter\":{\"id\":\"7513\",\"type\":\"BasicTickFormatter\"},\"plot\":{\"id\":\"6957\",\"subtype\":\"Figure\",\"type\":\"Plot\"},\"ticker\":{\"id\":\"6967\",\"type\":\"BasicTicker\"}},\"id\":\"6966\",\"type\":\"LinearAxis\"},{\"attributes\":{\"bottom_units\":\"screen\",\"fill_alpha\":{\"value\":0.5},\"fill_color\":{\"value\":\"lightgrey\"},\"left_units\":\"screen\",\"level\":\"overlay\",\"line_alpha\":{\"value\":1.0},\"line_color\":{\"value\":\"black\"},\"line_dash\":[4,4],\"line_width\":{\"value\":2},\"plot\":null,\"render_mode\":\"css\",\"right_units\":\"screen\",\"top_units\":\"screen\"},\"id\":\"7140\",\"type\":\"BoxAnnotation\"},{\"attributes\":{},\"id\":\"7019\",\"type\":\"ResetTool\"},{\"attributes\":{},\"id\":\"6967\",\"type\":\"BasicTicker\"},{\"attributes\":{},\"id\":\"7020\",\"type\":\"HelpTool\"},{\"attributes\":{\"source\":{\"id\":\"6915\",\"type\":\"ColumnDataSource\"}},\"id\":\"7151\",\"type\":\"CDSView\"},{\"attributes\":{\"plot\":{\"id\":\"6957\",\"subtype\":\"Figure\",\"type\":\"Plot\"},\"ticker\":{\"id\":\"6967\",\"type\":\"BasicTicker\"}},\"id\":\"6970\",\"type\":\"Grid\"},{\"attributes\":{\"active_drag\":\"auto\",\"active_inspect\":\"auto\",\"active_multi\":null,\"active_scroll\":\"auto\",\"active_tap\":\"auto\",\"tools\":[{\"id\":\"7015\",\"type\":\"PanTool\"},{\"id\":\"7016\",\"type\":\"WheelZoomTool\"},{\"id\":\"7017\",\"type\":\"BoxZoomTool\"},{\"id\":\"7018\",\"type\":\"SaveTool\"},{\"id\":\"7019\",\"type\":\"ResetTool\"},{\"id\":\"7020\",\"type\":\"HelpTool\"}]},\"id\":\"7021\",\"type\":\"Toolbar\"},{\"attributes\":{\"axis_label\":\"Happiness Score\",\"formatter\":{\"id\":\"7515\",\"type\":\"BasicTickFormatter\"},\"plot\":{\"id\":\"6957\",\"subtype\":\"Figure\",\"type\":\"Plot\"},\"ticker\":{\"id\":\"6972\",\"type\":\"BasicTicker\"}},\"id\":\"6971\",\"type\":\"LinearAxis\"},{\"attributes\":{\"plot\":null,\"text\":\"\"},\"id\":\"7501\",\"type\":\"Title\"},{\"attributes\":{\"bottom_units\":\"screen\",\"fill_alpha\":{\"value\":0.5},\"fill_color\":{\"value\":\"lightgrey\"},\"left_units\":\"screen\",\"level\":\"overlay\",\"line_alpha\":{\"value\":1.0},\"line_color\":{\"value\":\"black\"},\"line_dash\":[4,4],\"line_width\":{\"value\":2},\"plot\":null,\"render_mode\":\"css\",\"right_units\":\"screen\",\"top_units\":\"screen\"},\"id\":\"7023\",\"type\":\"BoxAnnotation\"},{\"attributes\":{},\"id\":\"6972\",\"type\":\"BasicTicker\"},{\"attributes\":{\"plot\":null,\"text\":\"\"},\"id\":\"7497\",\"type\":\"Title\"},{\"attributes\":{\"plot\":null,\"text\":\"\"},\"id\":\"7499\",\"type\":\"Title\"},{\"attributes\":{\"dimension\":1,\"plot\":{\"id\":\"6957\",\"subtype\":\"Figure\",\"type\":\"Plot\"},\"ticker\":{\"id\":\"6972\",\"type\":\"BasicTicker\"}},\"id\":\"6975\",\"type\":\"Grid\"},{\"attributes\":{\"source\":{\"id\":\"6915\",\"type\":\"ColumnDataSource\"}},\"id\":\"7034\",\"type\":\"CDSView\"},{\"attributes\":{\"fill_alpha\":{\"value\":0.1},\"fill_color\":{\"value\":\"#1f77b4\"},\"line_alpha\":{\"value\":0.1},\"line_color\":{\"value\":\"#1f77b4\"},\"x\":{\"field\":\"Freedom\"},\"y\":{\"field\":\"Happiness Score\"}},\"id\":\"6993\",\"type\":\"Circle\"},{\"attributes\":{\"plot\":null,\"text\":\"\"},\"id\":\"7503\",\"type\":\"Title\"},{\"attributes\":{},\"id\":\"7096\",\"type\":\"SaveTool\"},{\"attributes\":{\"below\":[{\"id\":\"7005\",\"type\":\"LinearAxis\"}],\"left\":[{\"id\":\"7010\",\"type\":\"LinearAxis\"}],\"plot_height\":200,\"plot_width\":250,\"renderers\":[{\"id\":\"7005\",\"type\":\"LinearAxis\"},{\"id\":\"7009\",\"type\":\"Grid\"},{\"id\":\"7010\",\"type\":\"LinearAxis\"},{\"id\":\"7014\",\"type\":\"Grid\"},{\"id\":\"7023\",\"type\":\"BoxAnnotation\"},{\"id\":\"7033\",\"type\":\"GlyphRenderer\"}],\"title\":{\"id\":\"7501\",\"type\":\"Title\"},\"toolbar\":{\"id\":\"7021\",\"type\":\"Toolbar\"},\"x_range\":{\"id\":\"6997\",\"type\":\"DataRange1d\"},\"x_scale\":{\"id\":\"7001\",\"type\":\"LinearScale\"},\"y_range\":{\"id\":\"6999\",\"type\":\"DataRange1d\"},\"y_scale\":{\"id\":\"7003\",\"type\":\"LinearScale\"}},\"id\":\"6996\",\"subtype\":\"Figure\",\"type\":\"Plot\"},{\"attributes\":{\"plot\":null,\"text\":\"\"},\"id\":\"7505\",\"type\":\"Title\"},{\"attributes\":{\"fill_color\":{\"value\":\"#1f77b4\"},\"line_color\":{\"value\":\"#1f77b4\"},\"x\":{\"field\":\"Freedom\"},\"y\":{\"field\":\"Happiness Score\"}},\"id\":\"6992\",\"type\":\"Circle\"},{\"attributes\":{\"callback\":null},\"id\":\"7036\",\"type\":\"DataRange1d\"},{\"attributes\":{\"plot\":null,\"text\":\"\"},\"id\":\"7507\",\"type\":\"Title\"},{\"attributes\":{},\"id\":\"6976\",\"type\":\"PanTool\"},{\"attributes\":{\"callback\":null},\"id\":\"7038\",\"type\":\"DataRange1d\"},{\"attributes\":{},\"id\":\"7509\",\"type\":\"BasicTickFormatter\"},{\"attributes\":{},\"id\":\"6977\",\"type\":\"WheelZoomTool\"},{\"attributes\":{},\"id\":\"6979\",\"type\":\"SaveTool\"},{\"attributes\":{},\"id\":\"7040\",\"type\":\"LinearScale\"},{\"attributes\":{},\"id\":\"7511\",\"type\":\"BasicTickFormatter\"},{\"attributes\":{\"overlay\":{\"id\":\"6984\",\"type\":\"BoxAnnotation\"}},\"id\":\"6978\",\"type\":\"BoxZoomTool\"},{\"attributes\":{},\"id\":\"7042\",\"type\":\"LinearScale\"},{\"attributes\":{},\"id\":\"7513\",\"type\":\"BasicTickFormatter\"}],\"root_ids\":[\"7152\"]},\"title\":\"Bokeh Application\",\"version\":\"1.0.2\"}};\n",
       "  var render_items = [{\"docid\":\"50338dbd-70f0-449a-927e-f277106ef844\",\"roots\":{\"7152\":\"7f4b9478-d9b3-4eb9-8835-22da90202c00\"}}];\n",
       "  root.Bokeh.embed.embed_items_notebook(docs_json, render_items);\n",
       "\n",
       "  }\n",
       "  if (root.Bokeh !== undefined) {\n",
       "    embed_document(root);\n",
       "  } else {\n",
       "    var attempts = 0;\n",
       "    var timer = setInterval(function(root) {\n",
       "      if (root.Bokeh !== undefined) {\n",
       "        embed_document(root);\n",
       "        clearInterval(timer);\n",
       "      }\n",
       "      attempts++;\n",
       "      if (attempts > 100) {\n",
       "        console.log(\"Bokeh: ERROR: Unable to run BokehJS code because BokehJS library is missing\");\n",
       "        clearInterval(timer);\n",
       "      }\n",
       "    }, 10, root)\n",
       "  }\n",
       "})(window);"
      ],
      "application/vnd.bokehjs_exec.v0+json": ""
     },
     "metadata": {
      "application/vnd.bokehjs_exec.v0+json": {
       "id": "7152"
      }
     },
     "output_type": "display_data"
    }
   ],
   "source": [
    "# Import figure from bokeh.plotting\n",
    "from bokeh.io import push_notebook, show, output_notebook, curdoc\n",
    "from bokeh.layouts import row, widgetbox, column\n",
    "from bokeh.plotting import figure\n",
    "from bokeh.models import Dropdown, Select, ColumnDataSource\n",
    "output_notebook()\n",
    "\n",
    "source15 = ColumnDataSource(h15)\n",
    "source16 = ColumnDataSource(h16)\n",
    "source17 = ColumnDataSource(h17)\n",
    "\n",
    "# Create plot\n",
    "print(BOLD + 'Correlation plots 2015'+ END)\n",
    "f1 = figure(x_axis_label ='Economy (GDP per Capita)', y_axis_label ='Happiness Score', plot_width=250, plot_height=200)\n",
    "f1.circle('Economy (GDP per Capita)', 'Happiness Score', source=source15)\n",
    "\n",
    "f2 = figure(x_axis_label ='Freedom', y_axis_label ='Happiness Score', plot_width=250, plot_height=200)\n",
    "f2.circle('Freedom', 'Happiness Score', source=source15)\n",
    "\n",
    "f3 = figure(x_axis_label ='Health (Life Expectancy)', y_axis_label ='Happiness Score', plot_width=250, plot_height=200)\n",
    "f3.circle('Health (Life Expectancy)', 'Happiness Score', source=source15)\n",
    "\n",
    "f4 = figure(x_axis_label ='Generosity', y_axis_label ='Happiness Score', plot_width=250, plot_height=200)\n",
    "f4.circle('Generosity', 'Happiness Score', source=source15)\n",
    "\n",
    "f5 = figure(x_axis_label ='Trust (Government Corruption)', y_axis_label ='Happiness Score', plot_width=250, plot_height=200)\n",
    "f5.circle('Trust (Government Corruption)', 'Happiness Score', source=source15)\n",
    "\n",
    "f6 = figure(x_axis_label ='Family', y_axis_label ='Happiness Score', plot_width=250, plot_height=200)\n",
    "f6.circle('Family', 'Happiness Score', source=source15)\n",
    "\n",
    "# Display the plot\n",
    "show(row(f1,f2,f3,f4,f5,f6))"
   ]
  },
  {
   "cell_type": "markdown",
   "metadata": {},
   "source": [
    "Above we see that the correlation between happiness score seems to be positively correlated with GDP per capita, freedom, life expectancy and family. Generosity and trust do not have a clear correlation as the other variables."
   ]
  },
  {
   "cell_type": "code",
   "execution_count": null,
   "metadata": {},
   "outputs": [],
   "source": []
  }
 ],
 "metadata": {
  "kernelspec": {
   "display_name": "Python 3",
   "language": "python",
   "name": "python3"
  },
  "language_info": {
   "codemirror_mode": {
    "name": "ipython",
    "version": 3
   },
   "file_extension": ".py",
   "mimetype": "text/x-python",
   "name": "python",
   "nbconvert_exporter": "python",
   "pygments_lexer": "ipython3",
   "version": "3.7.1"
  }
 },
 "nbformat": 4,
 "nbformat_minor": 2
}
